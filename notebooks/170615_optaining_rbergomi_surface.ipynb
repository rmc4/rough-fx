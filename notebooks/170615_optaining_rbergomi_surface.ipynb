{
 "cells": [
  {
   "cell_type": "markdown",
   "metadata": {
    "nbpresent": {
     "id": "b590a017-9bad-4ff8-ac89-d1d90e1ebf09"
    }
   },
   "source": [
    "rBergomi: obtaining surface\n",
    "=="
   ]
  },
  {
   "cell_type": "markdown",
   "metadata": {},
   "source": [
    "$$S_t = \\mathcal{E} \\left\\{ \\int_0^t \\sqrt{ V_u } \\ \\mathrm{d} \\ (\\rho W^1_u + \\bar{\\rho} W^2_u) \\right\\}, \\quad V_t = \\xi \\ \\mathcal{E} \\left\\{ \\eta \\sqrt{2\\alpha + 1} \\int_0^t (t - u)^\\alpha \\mathrm{d}W^1_u \\right\\},$$"
   ]
  },
  {
   "cell_type": "code",
   "execution_count": 1,
   "metadata": {
    "collapsed": true
   },
   "outputs": [],
   "source": [
    "import os\n",
    "os.chdir('/Users/ryanmccrickerd/desktop/rbergomi/rbergomi')"
   ]
  },
  {
   "cell_type": "code",
   "execution_count": 2,
   "metadata": {
    "collapsed": true
   },
   "outputs": [],
   "source": [
    "import numpy as np\n",
    "from matplotlib import pyplot as plt\n",
    "import matplotlib.mlab as mlab\n",
    "from rbergomi import rBergomi\n",
    "from surface import Surface\n",
    "from routines import *\n",
    "% matplotlib inline"
   ]
  },
  {
   "cell_type": "markdown",
   "metadata": {},
   "source": [
    "Set antithetic sampling here"
   ]
  },
  {
   "cell_type": "code",
   "execution_count": 3,
   "metadata": {
    "collapsed": true
   },
   "outputs": [],
   "source": [
    "rbergomi = rBergomi(n = 168, N = 100000, T = 5./312, a = -0.43, AS = True)"
   ]
  },
  {
   "cell_type": "code",
   "execution_count": 4,
   "metadata": {},
   "outputs": [
    {
     "data": {
      "text/html": [
       "<div>\n",
       "<table border=\"1\" class=\"dataframe\">\n",
       "  <thead>\n",
       "    <tr style=\"text-align: right;\">\n",
       "      <th></th>\n",
       "      <th>5P</th>\n",
       "      <th>10P</th>\n",
       "      <th>15P</th>\n",
       "      <th>20P</th>\n",
       "      <th>25P</th>\n",
       "      <th>30P</th>\n",
       "      <th>35P</th>\n",
       "      <th>40P</th>\n",
       "      <th>45P</th>\n",
       "      <th>ATM</th>\n",
       "      <th>45C</th>\n",
       "      <th>40C</th>\n",
       "      <th>35C</th>\n",
       "      <th>30C</th>\n",
       "      <th>25C</th>\n",
       "      <th>20C</th>\n",
       "      <th>15C</th>\n",
       "      <th>10C</th>\n",
       "      <th>5C</th>\n",
       "    </tr>\n",
       "  </thead>\n",
       "  <tbody>\n",
       "    <tr>\n",
       "      <th>5D</th>\n",
       "      <td>0.326332</td>\n",
       "      <td>0.296127</td>\n",
       "      <td>0.27759</td>\n",
       "      <td>0.263757</td>\n",
       "      <td>0.252531</td>\n",
       "      <td>0.24311</td>\n",
       "      <td>0.234933</td>\n",
       "      <td>0.227548</td>\n",
       "      <td>0.22074</td>\n",
       "      <td>0.215006</td>\n",
       "      <td>0.208198</td>\n",
       "      <td>0.20233</td>\n",
       "      <td>0.196613</td>\n",
       "      <td>0.190928</td>\n",
       "      <td>0.185162</td>\n",
       "      <td>0.179191</td>\n",
       "      <td>0.172912</td>\n",
       "      <td>0.165978</td>\n",
       "      <td>0.157396</td>\n",
       "    </tr>\n",
       "  </tbody>\n",
       "</table>\n",
       "</div>"
      ],
      "text/plain": [
       "          5P       10P      15P       20P       25P      30P       35P  \\\n",
       "5D  0.326332  0.296127  0.27759  0.263757  0.252531  0.24311  0.234933   \n",
       "\n",
       "         40P      45P       ATM       45C      40C       35C       30C  \\\n",
       "5D  0.227548  0.22074  0.215006  0.208198  0.20233  0.196613  0.190928   \n",
       "\n",
       "         25C       20C       15C       10C        5C  \n",
       "5D  0.185162  0.179191  0.172912  0.165978  0.157396  "
      ]
     },
     "execution_count": 4,
     "metadata": {},
     "output_type": "execute_result"
    }
   ],
   "source": [
    "tenor = '5D'\n",
    "surface = Surface(tenor, 'rbergomi', close = False)\n",
    "surface.surface"
   ]
  },
  {
   "cell_type": "code",
   "execution_count": 5,
   "metadata": {
    "collapsed": true
   },
   "outputs": [],
   "source": [
    "kwargs = {'xi':0.235**2, 'eta':1.9, 'rho':-0.9}"
   ]
  },
  {
   "cell_type": "markdown",
   "metadata": {},
   "source": [
    "Select implied vol construction here"
   ]
  },
  {
   "cell_type": "code",
   "execution_count": 6,
   "metadata": {
    "collapsed": true
   },
   "outputs": [],
   "source": [
    "method = base_run\n",
    "# method = moment_matching\n",
    "# method = conditional_mc\n",
    "# method = price_control\n",
    "# method = timer_control\n",
    "# method = optimal_run"
   ]
  },
  {
   "cell_type": "code",
   "execution_count": 7,
   "metadata": {
    "collapsed": true
   },
   "outputs": [],
   "source": [
    "np.random.seed(0)"
   ]
  },
  {
   "cell_type": "code",
   "execution_count": 8,
   "metadata": {
    "collapsed": true
   },
   "outputs": [],
   "source": [
    "IV = method(rbergomi, surface, **kwargs)"
   ]
  },
  {
   "cell_type": "markdown",
   "metadata": {},
   "source": [
    "This will write to file."
   ]
  },
  {
   "cell_type": "code",
   "execution_count": null,
   "metadata": {
    "collapsed": true
   },
   "outputs": [],
   "source": [
    "# import xlwings as xw\n",
    "\n",
    "# install_path = '/Users/ryanmccrickerd/desktop'\n",
    "# file_path = install_path + '/rbergomi/data/rBergomi_' + tenor + '.xlsx'\n",
    "\n",
    "# # Instantiate xlwings object\n",
    "# wb = xw.Book(file_path)\n",
    "# sht = wb.sheets['Sheet1']\n",
    "\n",
    "# # Paste implied vols\n",
    "# sht.range('B6').value = 100 * np.flipud(np.transpose(IV))\n",
    "# wb.save()"
   ]
  },
  {
   "cell_type": "markdown",
   "metadata": {},
   "source": [
    "This section should take the same amount of time for each. N should be scaled accordingly."
   ]
  },
  {
   "cell_type": "code",
   "execution_count": 9,
   "metadata": {},
   "outputs": [
    {
     "data": {
      "image/png": "[encoded data removed]",
      "text/plain": [
       "<matplotlib.figure.Figure at 0x115f17c88>"
      ]
     },
     "metadata": {},
     "output_type": "display_data"
    }
   ],
   "source": [
    "k = np.array(surface._log_strike_surface())\n",
    "MV = np.array(surface.surface)\n",
    "\n",
    "for M in range(len(k[:,0])):\n",
    "    plot, axes = plt.subplots()\n",
    "\n",
    "    axes.plot(k[M,:], IV[M,:], 'r')\n",
    "    \n",
    "    # 1SD bounds - only correct when not using AV\n",
    "    # axes.plot(k[M,:], IV[M,:,0], 'k--', linewidth = 0.5) # Lower bound\n",
    "    # axes.plot(k[M,:], IV[M,:,2], 'k--', linewidth = 0.5) # Upper bound\n",
    "\n",
    "    axes.plot(k[M,:], MV[M,:], 'go', fillstyle = 'none', ms = 4, mew = 1)\n",
    "    \n",
    "    axes.set_xlabel(r'$k$', fontsize = 14)\n",
    "    axes.set_ylabel(r'$IV(k,T)$', fontsize = 14)\n",
    "    axes.set_title(r'$T=$' + surface._tenors[M], fontsize = 14)\n",
    "    #axes.legend([r'$\\mathsf{Standard}$', r'$\\mathsf{Timer \\ Control}$', r'$\\mathsf{S \\ Control}$'])\n",
    "    # plt.xlim([-0.05,0.05])\n",
    "    # plt.ylim([0.14,0.30])\n",
    "    \n",
    "    plt.grid(True)"
   ]
  },
  {
   "cell_type": "code",
   "execution_count": null,
   "metadata": {
    "collapsed": true
   },
   "outputs": [],
   "source": []
  }
 ],
 "metadata": {
  "anaconda-cloud": {},
  "kernelspec": {
   "display_name": "Python [default]",
   "language": "python",
   "name": "python3"
  },
  "language_info": {
   "codemirror_mode": {
    "name": "ipython",
    "version": 3
   },
   "file_extension": ".py",
   "mimetype": "text/x-python",
   "name": "python",
   "nbconvert_exporter": "python",
   "pygments_lexer": "ipython3",
   "version": "3.5.2"
  }
 },
 "nbformat": 4,
 "nbformat_minor": 1
}
