{
 "cells": [
  {
   "cell_type": "code",
   "execution_count": 1,
   "metadata": {
    "collapsed": true
   },
   "outputs": [],
   "source": [
    "import os\n",
    "os.chdir('/Users/ryanmccrickerd/desktop/phd/2017-18/extended-rmc/')"
   ]
  },
  {
   "cell_type": "code",
   "execution_count": 9,
   "metadata": {
    "collapsed": true
   },
   "outputs": [],
   "source": [
    "import pandas as pd\n",
    "import numpy as np"
   ]
  },
  {
   "cell_type": "code",
   "execution_count": 16,
   "metadata": {
    "collapsed": true
   },
   "outputs": [],
   "source": [
    "df = pd.read_csv('data/GBPUSD-2017-08-01.csv', header=None)"
   ]
  },
  {
   "cell_type": "code",
   "execution_count": 17,
   "metadata": {},
   "outputs": [
    {
     "data": {
      "text/html": [
       "<div>\n",
       "<table border=\"1\" class=\"dataframe\">\n",
       "  <thead>\n",
       "    <tr style=\"text-align: right;\">\n",
       "      <th></th>\n",
       "      <th>0</th>\n",
       "      <th>1</th>\n",
       "      <th>2</th>\n",
       "      <th>3</th>\n",
       "      <th>4</th>\n",
       "      <th>5</th>\n",
       "    </tr>\n",
       "  </thead>\n",
       "  <tbody>\n",
       "    <tr>\n",
       "      <th>0</th>\n",
       "      <td>Delta</td>\n",
       "      <td>10P</td>\n",
       "      <td>25P</td>\n",
       "      <td>ATM</td>\n",
       "      <td>25C</td>\n",
       "      <td>10C</td>\n",
       "    </tr>\n",
       "    <tr>\n",
       "      <th>1</th>\n",
       "      <td>1W</td>\n",
       "      <td>8.5812</td>\n",
       "      <td>8.2062</td>\n",
       "      <td>7.9525</td>\n",
       "      <td>8.0637</td>\n",
       "      <td>8.3687</td>\n",
       "    </tr>\n",
       "    <tr>\n",
       "      <th>2</th>\n",
       "      <td>1M</td>\n",
       "      <td>8.0862</td>\n",
       "      <td>7.5775</td>\n",
       "      <td>7.245</td>\n",
       "      <td>7.3625</td>\n",
       "      <td>7.7137</td>\n",
       "    </tr>\n",
       "    <tr>\n",
       "      <th>3</th>\n",
       "      <td>3M</td>\n",
       "      <td>8.7424</td>\n",
       "      <td>7.9511</td>\n",
       "      <td>7.415</td>\n",
       "      <td>7.4437</td>\n",
       "      <td>7.8474</td>\n",
       "    </tr>\n",
       "    <tr>\n",
       "      <th>4</th>\n",
       "      <td>6M</td>\n",
       "      <td>9.8001</td>\n",
       "      <td>8.6963</td>\n",
       "      <td>7.935</td>\n",
       "      <td>7.8788</td>\n",
       "      <td>8.35</td>\n",
       "    </tr>\n",
       "    <tr>\n",
       "      <th>5</th>\n",
       "      <td>1Y</td>\n",
       "      <td>10.9688</td>\n",
       "      <td>9.555</td>\n",
       "      <td>8.5675</td>\n",
       "      <td>8.41</td>\n",
       "      <td>8.8913</td>\n",
       "    </tr>\n",
       "  </tbody>\n",
       "</table>\n",
       "</div>"
      ],
      "text/plain": [
       "       0        1       2       3       4       5\n",
       "0  Delta      10P     25P     ATM     25C     10C\n",
       "1     1W   8.5812  8.2062  7.9525  8.0637  8.3687\n",
       "2     1M   8.0862  7.5775   7.245  7.3625  7.7137\n",
       "3     3M   8.7424  7.9511   7.415  7.4437  7.8474\n",
       "4     6M   9.8001  8.6963   7.935  7.8788    8.35\n",
       "5     1Y  10.9688   9.555  8.5675    8.41  8.8913"
      ]
     },
     "execution_count": 17,
     "metadata": {},
     "output_type": "execute_result"
    }
   ],
   "source": [
    "np.array(df.columns)\n",
    "df"
   ]
  },
  {
   "cell_type": "code",
   "execution_count": 40,
   "metadata": {},
   "outputs": [],
   "source": [
    "deltas = np.array(df.loc[0,1:])[np.newaxis,:].astype(str)\n",
    "maturities = np.array(df.loc[1:,0])[:,np.newaxis].astype(str)\n",
    "surface = np.array(df.loc[1:,1:]).astype(float)"
   ]
  },
  {
   "cell_type": "code",
   "execution_count": 41,
   "metadata": {},
   "outputs": [
    {
     "data": {
      "text/plain": [
       "array([['10P', '25P', 'ATM', '25C', '10C']], \n",
       "      dtype='<U3')"
      ]
     },
     "execution_count": 41,
     "metadata": {},
     "output_type": "execute_result"
    }
   ],
   "source": [
    "deltas"
   ]
  },
  {
   "cell_type": "code",
   "execution_count": 42,
   "metadata": {},
   "outputs": [
    {
     "data": {
      "text/plain": [
       "array([['1W'],\n",
       "       ['1M'],\n",
       "       ['3M'],\n",
       "       ['6M'],\n",
       "       ['1Y']], \n",
       "      dtype='<U2')"
      ]
     },
     "execution_count": 42,
     "metadata": {},
     "output_type": "execute_result"
    }
   ],
   "source": [
    "maturities"
   ]
  },
  {
   "cell_type": "code",
   "execution_count": 39,
   "metadata": {},
   "outputs": [
    {
     "data": {
      "text/plain": [
       "array([[  8.5812,   8.2062,   7.9525,   8.0637,   8.3687],\n",
       "       [  8.0862,   7.5775,   7.245 ,   7.3625,   7.7137],\n",
       "       [  8.7424,   7.9511,   7.415 ,   7.4437,   7.8474],\n",
       "       [  9.8001,   8.6963,   7.935 ,   7.8788,   8.35  ],\n",
       "       [ 10.9688,   9.555 ,   8.5675,   8.41  ,   8.8913]])"
      ]
     },
     "execution_count": 39,
     "metadata": {},
     "output_type": "execute_result"
    }
   ],
   "source": [
    "surface"
   ]
  },
  {
   "cell_type": "code",
   "execution_count": null,
   "metadata": {
    "collapsed": true
   },
   "outputs": [],
   "source": [
    "year_fracs = "
   ]
  }
 ],
 "metadata": {
  "anaconda-cloud": {},
  "kernelspec": {
   "display_name": "Python [default]",
   "language": "python",
   "name": "python3"
  },
  "language_info": {
   "codemirror_mode": {
    "name": "ipython",
    "version": 3
   },
   "file_extension": ".py",
   "mimetype": "text/x-python",
   "name": "python",
   "nbconvert_exporter": "python",
   "pygments_lexer": "ipython3",
   "version": "3.5.2"
  }
 },
 "nbformat": 4,
 "nbformat_minor": 2
}
