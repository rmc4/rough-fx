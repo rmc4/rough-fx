{
 "cells": [
  {
   "cell_type": "markdown",
   "metadata": {
    "nbpresent": {
     "id": "b590a017-9bad-4ff8-ac89-d1d90e1ebf09"
    }
   },
   "source": [
    "rBergomi: testing fit\n",
    "=="
   ]
  },
  {
   "cell_type": "markdown",
   "metadata": {},
   "source": [
    "$$S_t = \\mathcal{E} \\left\\{ \\int_0^t \\sqrt{ V_u } \\ \\mathrm{d} \\ (\\rho W^1_u + \\bar{\\rho} W^2_u) \\right\\}, \\quad V_t = \\xi \\ \\mathcal{E} \\left\\{ \\eta \\sqrt{2\\alpha + 1} \\int_0^t (t - u)^\\alpha \\mathrm{d}W^1_u \\right\\},$$"
   ]
  },
  {
   "cell_type": "code",
   "execution_count": 1,
   "metadata": {
    "collapsed": true
   },
   "outputs": [],
   "source": [
    "import os\n",
    "os.chdir('/Users/ryanmccrickerd/desktop/rbergomi/rbergomi')"
   ]
  },
  {
   "cell_type": "code",
   "execution_count": 2,
   "metadata": {
    "collapsed": true
   },
   "outputs": [],
   "source": [
    "import numpy as np\n",
    "from matplotlib import pyplot as plt\n",
    "import matplotlib.mlab as mlab\n",
    "from rbergomi import rBergomi\n",
    "from surface import Surface\n",
    "from routines import *\n",
    "% matplotlib inline"
   ]
  },
  {
   "cell_type": "markdown",
   "metadata": {},
   "source": [
    "Set antithetic sampling here"
   ]
  },
  {
   "cell_type": "code",
   "execution_count": 3,
   "metadata": {
    "collapsed": true
   },
   "outputs": [],
   "source": [
    "rbergomi = rBergomi(n = 200, N = 100000, T = 0.041, a = -0.43, AS = True)"
   ]
  },
  {
   "cell_type": "code",
   "execution_count": 4,
   "metadata": {
    "scrolled": true
   },
   "outputs": [
    {
     "ename": "Exception",
     "evalue": "Could not connect to workbook '/users/ryanmccrickerd/desktop/rbergomi/data/market/rbergomi_all.xlsx'",
     "output_type": "error",
     "traceback": [
      "\u001b[0;31m---------------------------------------------------------------------------\u001b[0m",
      "\u001b[0;31mException\u001b[0m                                 Traceback (most recent call last)",
      "\u001b[0;32m<ipython-input-4-805df9b68aae>\u001b[0m in \u001b[0;36m<module>\u001b[0;34m()\u001b[0m\n\u001b[0;32m----> 1\u001b[0;31m \u001b[0msurface\u001b[0m \u001b[0;34m=\u001b[0m \u001b[0mSurface\u001b[0m\u001b[0;34m(\u001b[0m\u001b[0;34m'all'\u001b[0m\u001b[0;34m,\u001b[0m \u001b[0;34m'rbergomi'\u001b[0m\u001b[0;34m,\u001b[0m \u001b[0mclose\u001b[0m \u001b[0;34m=\u001b[0m \u001b[0;32mFalse\u001b[0m\u001b[0;34m)\u001b[0m\u001b[0;34m\u001b[0m\u001b[0m\n\u001b[0m\u001b[1;32m      2\u001b[0m \u001b[0msurface\u001b[0m\u001b[0;34m.\u001b[0m\u001b[0msurface\u001b[0m\u001b[0;34m\u001b[0m\u001b[0m\n",
      "\u001b[0;32m/Users/ryanmccrickerd/Desktop/rbergomi/rbergomi/surface.py\u001b[0m in \u001b[0;36m__init__\u001b[0;34m(self, index, date, scale, close)\u001b[0m\n\u001b[1;32m     21\u001b[0m         \"\"\"\n\u001b[1;32m     22\u001b[0m         \u001b[0;31m# Import data\u001b[0m\u001b[0;34m\u001b[0m\u001b[0;34m\u001b[0m\u001b[0m\n\u001b[0;32m---> 23\u001b[0;31m         \u001b[0mdata\u001b[0m \u001b[0;34m=\u001b[0m \u001b[0mxl_import\u001b[0m\u001b[0;34m(\u001b[0m\u001b[0mindex\u001b[0m\u001b[0;34m,\u001b[0m \u001b[0mdate\u001b[0m\u001b[0;34m,\u001b[0m \u001b[0mclose\u001b[0m \u001b[0;34m=\u001b[0m \u001b[0mclose\u001b[0m\u001b[0;34m)\u001b[0m\u001b[0;34m\u001b[0m\u001b[0m\n\u001b[0m\u001b[1;32m     24\u001b[0m \u001b[0;34m\u001b[0m\u001b[0m\n\u001b[1;32m     25\u001b[0m         \u001b[0;31m# Basic data assignments; all private\u001b[0m\u001b[0;34m\u001b[0m\u001b[0;34m\u001b[0m\u001b[0m\n",
      "\u001b[0;32m/Users/ryanmccrickerd/Desktop/rbergomi/rbergomi/surface_utils.py\u001b[0m in \u001b[0;36mxl_import\u001b[0;34m(currency, date, close)\u001b[0m\n\u001b[1;32m     14\u001b[0m \u001b[0;34m\u001b[0m\u001b[0m\n\u001b[1;32m     15\u001b[0m     \u001b[0;31m# Instantiate xlwings object\u001b[0m\u001b[0;34m\u001b[0m\u001b[0;34m\u001b[0m\u001b[0m\n\u001b[0;32m---> 16\u001b[0;31m     \u001b[0mwb\u001b[0m \u001b[0;34m=\u001b[0m \u001b[0mxw\u001b[0m\u001b[0;34m.\u001b[0m\u001b[0mBook\u001b[0m\u001b[0;34m(\u001b[0m\u001b[0mfile_path\u001b[0m\u001b[0;34m)\u001b[0m\u001b[0;34m\u001b[0m\u001b[0m\n\u001b[0m\u001b[1;32m     17\u001b[0m     \u001b[0msht\u001b[0m \u001b[0;34m=\u001b[0m \u001b[0mwb\u001b[0m\u001b[0;34m.\u001b[0m\u001b[0msheets\u001b[0m\u001b[0;34m[\u001b[0m\u001b[0;34m'Sheet1'\u001b[0m\u001b[0;34m]\u001b[0m\u001b[0;34m\u001b[0m\u001b[0m\n\u001b[1;32m     18\u001b[0m \u001b[0;34m\u001b[0m\u001b[0m\n",
      "\u001b[0;32m/Users/ryanmccrickerd/Library/anaconda/lib/python3.5/site-packages/xlwings/main.py\u001b[0m in \u001b[0;36m__init__\u001b[0;34m(self, fullname, impl)\u001b[0m\n\u001b[1;32m    481\u001b[0m                         \u001b[0mimpl\u001b[0m \u001b[0;34m=\u001b[0m \u001b[0mapp\u001b[0m\u001b[0;34m.\u001b[0m\u001b[0mbooks\u001b[0m\u001b[0;34m.\u001b[0m\u001b[0mopen\u001b[0m\u001b[0;34m(\u001b[0m\u001b[0mfullname\u001b[0m\u001b[0;34m)\u001b[0m\u001b[0;34m.\u001b[0m\u001b[0mimpl\u001b[0m\u001b[0;34m\u001b[0m\u001b[0m\n\u001b[1;32m    482\u001b[0m                     \u001b[0;32melse\u001b[0m\u001b[0;34m:\u001b[0m\u001b[0;34m\u001b[0m\u001b[0m\n\u001b[0;32m--> 483\u001b[0;31m                         \u001b[0;32mraise\u001b[0m \u001b[0mException\u001b[0m\u001b[0;34m(\u001b[0m\u001b[0;34m\"Could not connect to workbook '%s'\"\u001b[0m \u001b[0;34m%\u001b[0m \u001b[0mfullname\u001b[0m\u001b[0;34m)\u001b[0m\u001b[0;34m\u001b[0m\u001b[0m\n\u001b[0m\u001b[1;32m    484\u001b[0m                 \u001b[0;32melif\u001b[0m \u001b[0mlen\u001b[0m\u001b[0;34m(\u001b[0m\u001b[0mcandidates\u001b[0m\u001b[0;34m)\u001b[0m \u001b[0;34m>\u001b[0m \u001b[0;36m1\u001b[0m\u001b[0;34m:\u001b[0m\u001b[0;34m\u001b[0m\u001b[0m\n\u001b[1;32m    485\u001b[0m                     \u001b[0;32mraise\u001b[0m \u001b[0mException\u001b[0m\u001b[0;34m(\u001b[0m\u001b[0;34m\"Workbook '%s' is open in more than one Excel instance.\"\u001b[0m \u001b[0;34m%\u001b[0m \u001b[0mfullname\u001b[0m\u001b[0;34m)\u001b[0m\u001b[0;34m\u001b[0m\u001b[0m\n",
      "\u001b[0;31mException\u001b[0m: Could not connect to workbook '/users/ryanmccrickerd/desktop/rbergomi/data/market/rbergomi_all.xlsx'"
     ]
    }
   ],
   "source": [
    "surface = Surface('all', 'rbergomi', close = False)\n",
    "surface.surface"
   ]
  },
  {
   "cell_type": "code",
   "execution_count": null,
   "metadata": {
    "collapsed": true
   },
   "outputs": [],
   "source": [
    "kwargs = {'xi':0.235**2, 'eta':1.9, 'rho':-0.9}"
   ]
  },
  {
   "cell_type": "markdown",
   "metadata": {},
   "source": [
    "Select implied vol construction here"
   ]
  },
  {
   "cell_type": "markdown",
   "metadata": {},
   "source": [
    "Must get all methods working for full surface!"
   ]
  },
  {
   "cell_type": "code",
   "execution_count": null,
   "metadata": {
    "collapsed": true
   },
   "outputs": [],
   "source": [
    "# method = base_run\n",
    "# method = moment_matching\n",
    "# method = conditional_mc\n",
    "# method = price_control\n",
    "# method = timer_control\n",
    "method = optimal_run"
   ]
  },
  {
   "cell_type": "code",
   "execution_count": null,
   "metadata": {
    "collapsed": true
   },
   "outputs": [],
   "source": [
    "np.random.seed(0)"
   ]
  },
  {
   "cell_type": "code",
   "execution_count": null,
   "metadata": {},
   "outputs": [],
   "source": [
    "IV = method(rbergomi, surface, **kwargs)"
   ]
  },
  {
   "cell_type": "markdown",
   "metadata": {},
   "source": [
    "This will write to file."
   ]
  },
  {
   "cell_type": "code",
   "execution_count": null,
   "metadata": {
    "collapsed": true
   },
   "outputs": [],
   "source": [
    "# import xlwings as xw\n",
    "\n",
    "# install_path = '/Users/ryanmccrickerd/desktop'\n",
    "# file_path = install_path + '/rbergomi/data/rBergomi_' + tenor + '.xlsx'\n",
    "\n",
    "# # Instantiate xlwings object\n",
    "# wb = xw.Book(file_path)\n",
    "# sht = wb.sheets['Sheet1']\n",
    "\n",
    "# # Paste implied vols\n",
    "# sht.range('B6').value = 100 * np.flipud(np.transpose(IV))\n",
    "# wb.save()"
   ]
  },
  {
   "cell_type": "markdown",
   "metadata": {},
   "source": [
    "This section should take the same amount of time for each. N should be scaled accordingly."
   ]
  },
  {
   "cell_type": "code",
   "execution_count": null,
   "metadata": {
    "scrolled": false
   },
   "outputs": [],
   "source": [
    "k = np.array(surface._log_strike_surface())\n",
    "MV = np.array(surface.surface)\n",
    "\n",
    "for M in range(len(k[:,0])):\n",
    "    plot, axes = plt.subplots()\n",
    "\n",
    "    axes.plot(k[M,:], IV[M,:], 'r')\n",
    "    \n",
    "    # 1SD bounds - only correct when not using AV\n",
    "    # axes.plot(k[M,:], IV[M,:,0], 'k--', linewidth = 0.5) # Lower bound\n",
    "    # axes.plot(k[M,:], IV[M,:,2], 'k--', linewidth = 0.5) # Upper bound\n",
    "\n",
    "    axes.plot(k[M,:], MV[M,:], 'go', fillstyle = 'none', ms = 4, mew = 1)\n",
    "    \n",
    "    axes.set_xlabel(r'$k$', fontsize = 14)\n",
    "    axes.set_ylabel(r'$IV(k,T)$', fontsize = 14)\n",
    "    axes.set_title(r'$T=$' + surface._tenors[M], fontsize = 14)\n",
    "    #axes.legend([r'$\\mathsf{Standard}$', r'$\\mathsf{Timer \\ Control}$', r'$\\mathsf{S \\ Control}$'])\n",
    "    # plt.xlim([-0.05,0.05])\n",
    "    # plt.ylim([0.14,0.30])\n",
    "    \n",
    "    plt.grid(True)"
   ]
  },
  {
   "cell_type": "code",
   "execution_count": null,
   "metadata": {
    "collapsed": true
   },
   "outputs": [],
   "source": []
  }
 ],
 "metadata": {
  "anaconda-cloud": {},
  "kernelspec": {
   "display_name": "Python [default]",
   "language": "python",
   "name": "python3"
  },
  "language_info": {
   "codemirror_mode": {
    "name": "ipython",
    "version": 3
   },
   "file_extension": ".py",
   "mimetype": "text/x-python",
   "name": "python",
   "nbconvert_exporter": "python",
   "pygments_lexer": "ipython3",
   "version": "3.5.2"
  }
 },
 "nbformat": 4,
 "nbformat_minor": 1
}
