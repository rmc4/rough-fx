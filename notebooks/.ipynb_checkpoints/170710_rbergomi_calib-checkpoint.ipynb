{
 "cells": [
  {
   "cell_type": "markdown",
   "metadata": {
    "nbpresent": {
     "id": "b590a017-9bad-4ff8-ac89-d1d90e1ebf09"
    }
   },
   "source": [
    "rBergomi demo\n",
    "=="
   ]
  },
  {
   "cell_type": "markdown",
   "metadata": {},
   "source": [
    "The main goal here is to calibrate an rBergomi model. We define this model using the following variance, $v(t)$, and price, $S(t)$, processes"
   ]
  },
  {
   "cell_type": "markdown",
   "metadata": {},
   "source": [
    "$$Y(t) = \\sqrt{2a + 1} \\int_0^t (t - s)^a \\mathrm{d}W_1(s)$$"
   ]
  },
  {
   "cell_type": "markdown",
   "metadata": {},
   "source": [
    "$$v(t) = \\xi(t) \\exp\\left(\\eta Y(t) - \\frac{\\eta^2}{2}t^{2a + 1}\\right)$$"
   ]
  },
  {
   "cell_type": "markdown",
   "metadata": {},
   "source": [
    "$$S(t) = S(0) \\exp\\left(\\int_0^t \\sqrt{v(s)} \\mathrm{d}Z(s)  - \\frac{1}{2}\\int_0^t v(s)\\mathrm{d}s \\right)$$"
   ]
  },
  {
   "cell_type": "markdown",
   "metadata": {},
   "source": [
    "$$Z(t) = \\rho W_1(t) + \\sqrt{1 - \\rho^2} W_2(t)$$"
   ]
  },
  {
   "cell_type": "markdown",
   "metadata": {
    "nbpresent": {
     "id": "4523a2f1-a876-4216-a222-c3e0c4d62e9a"
    }
   },
   "source": [
    "Change directory to folder with rBergomi scripts"
   ]
  },
  {
   "cell_type": "code",
   "execution_count": null,
   "metadata": {
    "nbpresent": {
     "id": "d3eb17f0-eba6-4483-b962-9fc62b4ae12b"
    }
   },
   "outputs": [],
   "source": [
    "import os\n",
    "os.chdir('/Users/ryanmccrickerd/desktop/rbergomi/rbergomi')"
   ]
  },
  {
   "cell_type": "markdown",
   "metadata": {
    "nbpresent": {
     "id": "d95b28a8-a3ad-42d8-b1de-453db5f619a8"
    }
   },
   "source": [
    "Import required libraries and classes, including rBergomi, Surface and Calibrate"
   ]
  },
  {
   "cell_type": "code",
   "execution_count": null,
   "metadata": {
    "nbpresent": {
     "id": "577b9e39-b12e-4ca8-9b95-fdb814c09a91"
    },
    "scrolled": true
   },
   "outputs": [],
   "source": [
    "import numpy as np\n",
    "from matplotlib import pyplot as plt\n",
    "from scipy.stats import moment\n",
    "from rbergomi import rBergomi\n",
    "from surface import Surface\n",
    "from calibrate import Calibrate\n",
    "% matplotlib inline"
   ]
  },
  {
   "cell_type": "markdown",
   "metadata": {
    "nbpresent": {
     "id": "55467417-b608-4157-b42b-0df5fe458d68"
    }
   },
   "source": [
    "Import data for calibration. Appropriate Excel file should be in rbergomi/data"
   ]
  },
  {
   "cell_type": "code",
   "execution_count": null,
   "metadata": {
    "nbpresent": {
     "id": "55599e5e-859b-4527-93ee-ea9e713351ec"
    }
   },
   "outputs": [],
   "source": [
    "surface = Surface('3m', 'base', close = False)"
   ]
  },
  {
   "cell_type": "markdown",
   "metadata": {
    "nbpresent": {
     "id": "b599e3a3-3bee-4ab0-a795-9e3dd303fec3"
    }
   },
   "source": [
    "Display Pandas surface"
   ]
  },
  {
   "cell_type": "code",
   "execution_count": null,
   "metadata": {
    "nbpresent": {
     "id": "189fb540-686f-4c66-8d28-db6f0384e2be"
    }
   },
   "outputs": [],
   "source": [
    "surface.surface"
   ]
  },
  {
   "cell_type": "markdown",
   "metadata": {
    "nbpresent": {
     "id": "c235967a-8303-4e62-abf1-10e5c7229c9f"
    }
   },
   "source": [
    "Create instance of the rBergomi class with granularity $n \\times 156$, paths $N$, max maturity $T$ and roughness index $a$"
   ]
  },
  {
   "cell_type": "code",
   "execution_count": null,
   "metadata": {
    "nbpresent": {
     "id": "c6acd2d1-8354-4afc-b6ce-fe12e3358df1"
    }
   },
   "outputs": [],
   "source": [
    "base_rbergomi = rBergomi(n = 8, N = 1000, T = 0.25, a = -0.43, AS = False)\n",
    "optimal_rbergomi = rBergomi(n = 8, N = 1000, T = 0.25, a = -0.43, AS = True)"
   ]
  },
  {
   "cell_type": "markdown",
   "metadata": {
    "nbpresent": {
     "id": "4549d6a3-8014-44b2-be97-fac33bf27fb5"
    }
   },
   "source": [
    "Bootstrap piecewise flat instantaneous forward variance, $\\xi(t)$, from implied integrated variances in data. Discretising as required for rBergomi instance"
   ]
  },
  {
   "cell_type": "code",
   "execution_count": null,
   "metadata": {},
   "outputs": [],
   "source": [
    "# xi = surface.xi(n = rbergomi.n)"
   ]
  },
  {
   "cell_type": "markdown",
   "metadata": {
    "nbpresent": {
     "id": "bfd5b93a-4e85-45f3-861e-43324c756dda"
    }
   },
   "source": [
    "Demonstrate $\\xi(t)$ against the rBergomi time grid"
   ]
  },
  {
   "cell_type": "code",
   "execution_count": null,
   "metadata": {
    "nbpresent": {
     "id": "f6dd5885-ca79-40a7-b17f-321761e308a2"
    }
   },
   "outputs": [],
   "source": [
    "# t = rbergomi.t \n",
    "# plot, axes = plt.subplots()\n",
    "# axes.plot(t[0,:], xi[0,:])\n",
    "# plt.grid(True)"
   ]
  },
  {
   "cell_type": "markdown",
   "metadata": {
    "nbpresent": {
     "id": "104e4831-a151-403d-91de-d5190e5f4001"
    }
   },
   "source": [
    "Fix the generator's seed for replicable results"
   ]
  },
  {
   "cell_type": "code",
   "execution_count": null,
   "metadata": {
    "collapsed": true
   },
   "outputs": [],
   "source": [
    "import xlwings as xw\n",
    "\n",
    "install_path = '/Users/ryanmccrickerd/desktop'\n",
    "# file_path = install_path + '/rbergomi/data/market/' + settings + '_' + tenor + '.xlsx'\n",
    "file_path = install_path + '/calibration_results.xlsx'\n",
    "\n",
    "# Instantiate xlwings object\n",
    "wb = xw.Book(file_path)\n",
    "sht = wb.sheets['Sheet1']\n",
    "\n",
    "# Paste results\n",
    "# sht.range('J2').value = base_output\n",
    "# sht.range('N2').value = optimal_output\n",
    "wb.save()"
   ]
  },
  {
   "cell_type": "code",
   "execution_count": null,
   "metadata": {
    "collapsed": true
   },
   "outputs": [],
   "source": [
    "from scipy.optimize import minimize\n",
    "from datetime import datetime\n",
    "method = 'L-BFGS-B'\n",
    "maxiter = 4\n",
    "points = 100\n",
    "np.random.seed(0)"
   ]
  },
  {
   "cell_type": "code",
   "execution_count": null,
   "metadata": {
    "nbpresent": {
     "id": "1ff02865-583a-4770-a987-c941f24cccc6"
    }
   },
   "outputs": [],
   "source": [
    "base_output = np.zeros((points,4))\n",
    "optimal_output = np.zeros((points,4))\n",
    "i=0\n",
    "for i in range(points):\n",
    "    def base_calibration():\n",
    "        t0 = datetime.now()\n",
    "        def rmse(x):\n",
    "            rho = x[0]\n",
    "            eta = x[1]\n",
    "            dZ = base_rbergomi.dB(dW1, dW2, rho = rho)\n",
    "            v = base_rbergomi.V(Y, eta = eta, xi = 0.235**2)\n",
    "            S = base_rbergomi.S(v, dZ)\n",
    "            implied = base_rbergomi.surface(S, surface._maturities, np.array(surface._log_strike_surface()))\n",
    "            rmse = base_rbergomi.rmse(np.array(surface.surface), implied)\n",
    "            return rmse\n",
    "        results =  minimize(rmse, (-0.9, 1.9), method = method,\n",
    "                            bounds = ((-0.99,0.99), (0.00,3.00)),\n",
    "                            options = {'maxiter': maxiter})\n",
    "        t1 = datetime.now()\n",
    "        dt = t1 - t0\n",
    "        time = np.round(dt.seconds + dt.microseconds/1e6, decimals = 3)\n",
    "        return [results,time]\n",
    "    \n",
    "    # NOTE sometimes USING C3 CONDITIONAL MC !\n",
    "    # CHANGE BACK TO C6 OPTIMAL !\n",
    "    def optimal_calibration():\n",
    "        t0 = datetime.now()\n",
    "        def rmse(x):\n",
    "            rho = x[0]\n",
    "            eta = x[1]\n",
    "            dZ = optimal_rbergomi.dB(dW1, dW2, rho = 1.) # Look at optimal run routine for help here\n",
    "            v = optimal_rbergomi.V(Y, eta = eta, xi = 0.235**2)\n",
    "            S = optimal_rbergomi.S2(v, dZ, rho) # note S2\n",
    "            C = optimal_rbergomi.C6(S, v, surface, rho)[:,:,0] # is this right?\n",
    "            implied = optimal_rbergomi.surface2(C, surface._maturities, np.array(surface._log_strike_surface()))\n",
    "            rmse = optimal_rbergomi.rmse(np.array(surface.surface), implied)\n",
    "            return rmse\n",
    "        results =  minimize(rmse, (-0.9, 1.9), method = method,\n",
    "                            bounds = ((-0.99,0.99), (0.00,3.00)),\n",
    "                            options = {'maxiter': maxiter})\n",
    "        t1 = datetime.now()\n",
    "        dt = t1 - t0\n",
    "        time = np.round(dt.seconds + dt.microseconds/1e6, decimals = 3)\n",
    "        return [results,time]\n",
    "    \n",
    "    dW1 = base_rbergomi.dW1()\n",
    "    dW2 = base_rbergomi.dW2()\n",
    "    Y = base_rbergomi.Y(dW1)\n",
    "    base = base_calibration()\n",
    "    base_output[i,:] = [base[0].x[0],base[0].x[1],base[0].fun,base[1]]\n",
    "    dW1 = optimal_rbergomi.dW1()\n",
    "    dW2 = optimal_rbergomi.dW2()\n",
    "    Y = optimal_rbergomi.Y(dW1)\n",
    "    optimal = optimal_calibration()\n",
    "    optimal_output[i,:] = [optimal[0].x[0],optimal[0].x[1],optimal[0].fun,optimal[1]]\n",
    "    \n",
    "    sht.range('B3').offset(i,0).value = base_output[i,:]\n",
    "    sht.range('F3').offset(i,0).value = optimal_output[i,:]\n",
    "\n",
    "wb.save()\n",
    "    "
   ]
  },
  {
   "cell_type": "code",
   "execution_count": null,
   "metadata": {},
   "outputs": [],
   "source": [
    "# base_output"
   ]
  },
  {
   "cell_type": "code",
   "execution_count": null,
   "metadata": {},
   "outputs": [],
   "source": [
    "# optimal_output"
   ]
  },
  {
   "cell_type": "code",
   "execution_count": null,
   "metadata": {
    "collapsed": true
   },
   "outputs": [],
   "source": [
    "import xlwings as xw\n",
    "\n",
    "install_path = '/Users/ryanmccrickerd/desktop'\n",
    "# file_path = install_path + '/rbergomi/data/market/' + settings + '_' + tenor + '.xlsx'\n",
    "file_path = install_path + '/calibration_results.xlsx'\n",
    "\n",
    "# Instantiate xlwings object\n",
    "wb = xw.Book(file_path)\n",
    "sht = wb.sheets['Sheet1']\n",
    "\n",
    "# Paste results\n",
    "sht.range('J2').value = base_output\n",
    "sht.range('N2').value = optimal_output\n",
    "wb.save()"
   ]
  },
  {
   "cell_type": "code",
   "execution_count": null,
   "metadata": {},
   "outputs": [],
   "source": [
    "# %%timeit\n",
    "base_calibration()\n",
    "# optimal_calibration()"
   ]
  },
  {
   "cell_type": "code",
   "execution_count": null,
   "metadata": {},
   "outputs": [],
   "source": [
    "# %%timeit\n",
    "# base_calibration()\n",
    "optimal_calibration()"
   ]
  },
  {
   "cell_type": "markdown",
   "metadata": {},
   "source": [
    "Have to run this multiple times all the way from random numbers.\n",
    "Got to rewrite the surface method but for optimal method.. MUST STOP BASE FROM USING ANTITHETIC!!"
   ]
  },
  {
   "cell_type": "markdown",
   "metadata": {
    "nbpresent": {
     "id": "b449af7b-89e2-4b52-8ce0-75643b297c66"
    }
   },
   "source": [
    "Demonstrate antithetic paths"
   ]
  },
  {
   "cell_type": "code",
   "execution_count": null,
   "metadata": {
    "nbpresent": {
     "id": "e5a71338-503b-495e-9f9f-7608e84fc475"
    },
    "scrolled": true
   },
   "outputs": [],
   "source": [
    "t = rbergomi.t\n",
    "paths = rbergomi.N * np.array([0,1,2,3])\n",
    "plot, axes = plt.subplots()\n",
    "for p in paths:\n",
    "    axes.plot(t[0,:], S[p,:])"
   ]
  },
  {
   "cell_type": "markdown",
   "metadata": {},
   "source": [
    "Test expectation of price process paths using $F_0(t) = \\mathbb{E}^\\mathbb{Q}_0[S(t)]$"
   ]
  },
  {
   "cell_type": "code",
   "execution_count": null,
   "metadata": {},
   "outputs": [],
   "source": [
    "plot, axes = plt.subplots()\n",
    "mean = np.mean(S, axis = 0)\n",
    "std = np.std(S, axis = 0)/np.sqrt(len(S[:,0]))\n",
    "axes.plot(t[0,:], mean, 'r')\n",
    "axes.plot(t[0,:], mean + 2 * std, 'k--', linewidth = 0.5)\n",
    "axes.plot(t[0,:], mean - 2 * std, 'k--', linewidth = 0.5)\n",
    "axes.set_xlabel(r'$t$', fontsize = 14)\n",
    "axes.legend([r'$\\mathbb{E}^\\mathbb{Q}_0[S(t)]$', r'$95\\%$'])\n",
    "axes.set_ylim([0.99, 1.01])\n",
    "plt.grid(True)"
   ]
  },
  {
   "cell_type": "markdown",
   "metadata": {},
   "source": [
    "Test expectation of variance process using $\\xi_0(t) = \\mathbb{E}^\\mathbb{Q}_0[v(t)]$"
   ]
  },
  {
   "cell_type": "code",
   "execution_count": null,
   "metadata": {},
   "outputs": [],
   "source": [
    "plot, axes = plt.subplots()\n",
    "axes.plot(t[0,:], xi[0,:], 'b')\n",
    "axes.plot(t[0,:], np.mean(v, axis = 0), 'r')\n",
    "axes.legend([r'$\\xi_0(t)$', r'$\\mathbb{E}^\\mathbb{Q}_0[v(t)]$'])\n",
    "axes.set_xlabel(r'$t$', fontsize = 14)\n",
    "plt.grid(True)"
   ]
  },
  {
   "cell_type": "markdown",
   "metadata": {},
   "source": [
    "Check that the price process has inherited intended variance using $\\int_0^t \\xi_0(s)\\mathrm{d}s = -2\\mathbb{E}^\\mathbb{Q}_0[\\log{S_t}]$"
   ]
  },
  {
   "cell_type": "code",
   "execution_count": null,
   "metadata": {},
   "outputs": [],
   "source": [
    "std1 = np.cumsum(xi[0,:-1]) * rbergomi.dt \n",
    "std2 = -2 * np.mean(np.log(S[:,1:]), axis = 0)\n",
    "plot, axes = plt.subplots()\n",
    "axes.plot(t[0,1:], std1, 'b')\n",
    "axes.plot(t[0,1:], std2, 'r')\n",
    "axes.set_xlabel(r'$t$', fontsize = 14)\n",
    "plt.grid(True)"
   ]
  },
  {
   "cell_type": "markdown",
   "metadata": {
    "nbpresent": {
     "id": "50a36591-eb4c-4268-9e64-19bc5a29b9de"
    }
   },
   "source": [
    "Set up calibration object for the chosen seed"
   ]
  },
  {
   "cell_type": "code",
   "execution_count": null,
   "metadata": {
    "nbpresent": {
     "id": "bc326da0-4e25-4f96-8f9a-314c7c3ed64a"
    }
   },
   "outputs": [],
   "source": [
    "calibrate = Calibrate(rbergomi, surface, seed = 0)"
   ]
  },
  {
   "cell_type": "markdown",
   "metadata": {
    "nbpresent": {
     "id": "510b94bf-1c8d-41bf-b5c2-b5e081a07d4d"
    }
   },
   "source": [
    "Run calibration with L-BFGS-B solver"
   ]
  },
  {
   "cell_type": "code",
   "execution_count": null,
   "metadata": {
    "nbpresent": {
     "id": "b1218276-dce9-4f91-b0be-20db0e96b5f6"
    }
   },
   "outputs": [],
   "source": [
    "calibrate.run(method = 'L-BFGS-B', maxiter = 15, rho0 = -0.9, eta0 = 1.9)"
   ]
  },
  {
   "cell_type": "markdown",
   "metadata": {
    "nbpresent": {
     "id": "75835d7a-faad-4c82-9141-555eaf23aa86"
    }
   },
   "source": [
    "Re-assign solved variance and price paths"
   ]
  },
  {
   "cell_type": "code",
   "execution_count": null,
   "metadata": {
    "nbpresent": {
     "id": "f3c5fc68-c02d-4292-8ddb-f4f2b301c1a5"
    }
   },
   "outputs": [],
   "source": [
    "v, S = calibrate.paths()"
   ]
  },
  {
   "cell_type": "markdown",
   "metadata": {},
   "source": [
    "Compute call expectations and standard deviations from price process"
   ]
  },
  {
   "cell_type": "code",
   "execution_count": null,
   "metadata": {},
   "outputs": [],
   "source": [
    "C = rbergomi.C(S, surface)"
   ]
  },
  {
   "cell_type": "markdown",
   "metadata": {},
   "source": [
    "Convert these into implied volatilities"
   ]
  },
  {
   "cell_type": "code",
   "execution_count": null,
   "metadata": {},
   "outputs": [],
   "source": [
    "IV = rbergomi.IV(C, surface)"
   ]
  },
  {
   "cell_type": "markdown",
   "metadata": {},
   "source": [
    "Visualise fit for chosen maturity"
   ]
  },
  {
   "cell_type": "code",
   "execution_count": null,
   "metadata": {},
   "outputs": [],
   "source": [
    "plot, axes = plt.subplots()\n",
    "M = 0\n",
    "k = np.array(surface._log_strike_surface())\n",
    "MV = np.array(surface.surface)\n",
    "\n",
    "axes.plot(k[M,:], IV[M,:,0], 'k--', linewidth = 0.5) # Lower bound\n",
    "axes.plot(k[M,:], IV[M,:,1], 'r') \n",
    "axes.plot(k[M,:], IV[M,:,2], 'k--', linewidth = 0.5) # Upper bound\n",
    "axes.plot(k[M,:], MV[M,:], 'bo', fillstyle = 'none', ms = 6, mew = 0.7)\n",
    "\n",
    "axes.set_xlabel(r'$k$', fontsize = 14)\n",
    "axes.set_ylabel(r'$IV(k,T)$', fontsize = 14)\n",
    "axes.set_title(r'$T=$' + surface._tenors[M], fontsize = 14)\n",
    "plt.grid(True)"
   ]
  },
  {
   "cell_type": "code",
   "execution_count": null,
   "metadata": {
    "collapsed": true
   },
   "outputs": [],
   "source": []
  }
 ],
 "metadata": {
  "anaconda-cloud": {},
  "kernelspec": {
   "display_name": "Python [default]",
   "language": "python",
   "name": "python3"
  },
  "language_info": {
   "codemirror_mode": {
    "name": "ipython",
    "version": 3
   },
   "file_extension": ".py",
   "mimetype": "text/x-python",
   "name": "python",
   "nbconvert_exporter": "python",
   "pygments_lexer": "ipython3",
   "version": "3.5.2"
  }
 },
 "nbformat": 4,
 "nbformat_minor": 1
}
