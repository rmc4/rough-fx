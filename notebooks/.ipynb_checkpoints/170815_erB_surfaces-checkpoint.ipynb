{
 "cells": [
  {
   "cell_type": "markdown",
   "metadata": {
    "nbpresent": {
     "id": "b590a017-9bad-4ff8-ac89-d1d90e1ebf09"
    }
   },
   "source": [
    "rBergomi: generating surface for dissertation\n",
    "=="
   ]
  },
  {
   "cell_type": "markdown",
   "metadata": {},
   "source": [
    "$$S_t = \\mathcal{E} \\left\\{ \\int_0^t \\sqrt{ V_u } \\ \\mathrm{d} \\ (\\rho W^1_u + \\bar{\\rho} W^2_u) \\right\\}, \\quad V_t = \\xi \\ \\mathcal{E} \\left\\{ \\eta \\sqrt{2\\alpha + 1} \\int_0^t (t - u)^\\alpha \\mathrm{d}W^1_u \\right\\},$$"
   ]
  },
  {
   "cell_type": "code",
   "execution_count": 1,
   "metadata": {
    "collapsed": true
   },
   "outputs": [],
   "source": [
    "import os\n",
    "os.chdir('/Users/ryanmccrickerd/desktop/turbo_rbergomi/rbergomi')"
   ]
  },
  {
   "cell_type": "code",
   "execution_count": 2,
   "metadata": {
    "collapsed": true
   },
   "outputs": [],
   "source": [
    "import numpy as np\n",
    "from matplotlib import pyplot as plt\n",
    "# import matplotlib.mlab as mlab\n",
    "from rbergomi import rBergomi\n",
    "# from surface import Surface\n",
    "from routines import generate_surface\n",
    "% matplotlib inline"
   ]
  },
  {
   "cell_type": "code",
   "execution_count": 51,
   "metadata": {
    "collapsed": true
   },
   "outputs": [],
   "source": [
    "from surface import Surface\n",
    "ccy = 'surface'\n",
    "date = 'erB-00'\n",
    "surface = Surface(ccy, date, close = False)\n",
    "a = 0\n",
    "\n",
    "### dont change these\n",
    "zeta = -1\n",
    "eta = 2\n",
    "xi = 0.01\n",
    "b = -0.4"
   ]
  },
  {
   "cell_type": "code",
   "execution_count": 52,
   "metadata": {},
   "outputs": [
    {
     "data": {
      "text/html": [
       "<div>\n",
       "<table border=\"1\" class=\"dataframe\">\n",
       "  <thead>\n",
       "    <tr style=\"text-align: right;\">\n",
       "      <th></th>\n",
       "      <th>5P</th>\n",
       "      <th>10P</th>\n",
       "      <th>15P</th>\n",
       "      <th>20P</th>\n",
       "      <th>25P</th>\n",
       "      <th>30P</th>\n",
       "      <th>35P</th>\n",
       "      <th>40P</th>\n",
       "      <th>45P</th>\n",
       "      <th>ATM</th>\n",
       "      <th>45C</th>\n",
       "      <th>40C</th>\n",
       "      <th>35C</th>\n",
       "      <th>30C</th>\n",
       "      <th>25C</th>\n",
       "      <th>20C</th>\n",
       "      <th>15C</th>\n",
       "      <th>10C</th>\n",
       "      <th>5C</th>\n",
       "    </tr>\n",
       "  </thead>\n",
       "  <tbody>\n",
       "    <tr>\n",
       "      <th>1W</th>\n",
       "      <td>0.112991</td>\n",
       "      <td>0.106550</td>\n",
       "      <td>0.102881</td>\n",
       "      <td>0.100383</td>\n",
       "      <td>0.098571</td>\n",
       "      <td>0.097153</td>\n",
       "      <td>0.096079</td>\n",
       "      <td>0.095270</td>\n",
       "      <td>0.094656</td>\n",
       "      <td>0.094238</td>\n",
       "      <td>0.094196</td>\n",
       "      <td>0.094109</td>\n",
       "      <td>0.094226</td>\n",
       "      <td>0.094576</td>\n",
       "      <td>0.095176</td>\n",
       "      <td>0.096105</td>\n",
       "      <td>0.097555</td>\n",
       "      <td>0.099904</td>\n",
       "      <td>0.104576</td>\n",
       "    </tr>\n",
       "    <tr>\n",
       "      <th>1M</th>\n",
       "      <td>0.119614</td>\n",
       "      <td>0.110249</td>\n",
       "      <td>0.104962</td>\n",
       "      <td>0.101323</td>\n",
       "      <td>0.098642</td>\n",
       "      <td>0.096547</td>\n",
       "      <td>0.094897</td>\n",
       "      <td>0.093607</td>\n",
       "      <td>0.092594</td>\n",
       "      <td>0.091891</td>\n",
       "      <td>0.091563</td>\n",
       "      <td>0.091258</td>\n",
       "      <td>0.091196</td>\n",
       "      <td>0.091418</td>\n",
       "      <td>0.091969</td>\n",
       "      <td>0.092937</td>\n",
       "      <td>0.094566</td>\n",
       "      <td>0.097303</td>\n",
       "      <td>0.102909</td>\n",
       "    </tr>\n",
       "    <tr>\n",
       "      <th>3M</th>\n",
       "      <td>0.126659</td>\n",
       "      <td>0.114068</td>\n",
       "      <td>0.106981</td>\n",
       "      <td>0.102087</td>\n",
       "      <td>0.098441</td>\n",
       "      <td>0.095594</td>\n",
       "      <td>0.093310</td>\n",
       "      <td>0.091469</td>\n",
       "      <td>0.089993</td>\n",
       "      <td>0.089014</td>\n",
       "      <td>0.088252</td>\n",
       "      <td>0.087668</td>\n",
       "      <td>0.087389</td>\n",
       "      <td>0.087441</td>\n",
       "      <td>0.087873</td>\n",
       "      <td>0.088811</td>\n",
       "      <td>0.090496</td>\n",
       "      <td>0.093487</td>\n",
       "      <td>0.099728</td>\n",
       "    </tr>\n",
       "    <tr>\n",
       "      <th>6M</th>\n",
       "      <td>0.131870</td>\n",
       "      <td>0.116611</td>\n",
       "      <td>0.108031</td>\n",
       "      <td>0.102135</td>\n",
       "      <td>0.097714</td>\n",
       "      <td>0.094260</td>\n",
       "      <td>0.091473</td>\n",
       "      <td>0.089203</td>\n",
       "      <td>0.087355</td>\n",
       "      <td>0.086202</td>\n",
       "      <td>0.085017</td>\n",
       "      <td>0.084216</td>\n",
       "      <td>0.083757</td>\n",
       "      <td>0.083670</td>\n",
       "      <td>0.084015</td>\n",
       "      <td>0.084907</td>\n",
       "      <td>0.086624</td>\n",
       "      <td>0.089771</td>\n",
       "      <td>0.096432</td>\n",
       "    </tr>\n",
       "  </tbody>\n",
       "</table>\n",
       "</div>"
      ],
      "text/plain": [
       "          5P       10P       15P       20P       25P       30P       35P  \\\n",
       "1W  0.112991  0.106550  0.102881  0.100383  0.098571  0.097153  0.096079   \n",
       "1M  0.119614  0.110249  0.104962  0.101323  0.098642  0.096547  0.094897   \n",
       "3M  0.126659  0.114068  0.106981  0.102087  0.098441  0.095594  0.093310   \n",
       "6M  0.131870  0.116611  0.108031  0.102135  0.097714  0.094260  0.091473   \n",
       "\n",
       "         40P       45P       ATM       45C       40C       35C       30C  \\\n",
       "1W  0.095270  0.094656  0.094238  0.094196  0.094109  0.094226  0.094576   \n",
       "1M  0.093607  0.092594  0.091891  0.091563  0.091258  0.091196  0.091418   \n",
       "3M  0.091469  0.089993  0.089014  0.088252  0.087668  0.087389  0.087441   \n",
       "6M  0.089203  0.087355  0.086202  0.085017  0.084216  0.083757  0.083670   \n",
       "\n",
       "         25C       20C       15C       10C        5C  \n",
       "1W  0.095176  0.096105  0.097555  0.099904  0.104576  \n",
       "1M  0.091969  0.092937  0.094566  0.097303  0.102909  \n",
       "3M  0.087873  0.088811  0.090496  0.093487  0.099728  \n",
       "6M  0.084015  0.084907  0.086624  0.089771  0.096432  "
      ]
     },
     "execution_count": 52,
     "metadata": {},
     "output_type": "execute_result"
    }
   ],
   "source": [
    "surface.surface"
   ]
  },
  {
   "cell_type": "code",
   "execution_count": 53,
   "metadata": {},
   "outputs": [
    {
     "data": {
      "image/png": "[encoded data removed]",
      "text/plain": [
       "<matplotlib.figure.Figure at 0x10c49acf8>"
      ]
     },
     "metadata": {},
     "output_type": "display_data"
    }
   ],
   "source": [
    "save_path = '/Users/ryanmccrickerd/Desktop/GBPUSD_volatilities/'\n",
    "k = np.array(surface._log_strike_surface())\n",
    "MV = np.array(surface.surface)\n",
    "colors = ['r-','y-','g-','b-']\n",
    "mat = ['1W','1M','3M','6M']\n",
    "\n",
    "plot, axes = plt.subplots(figsize=(4,2.5))\n",
    "for i in range(4):\n",
    "\n",
    "    axes.plot(k[i,:], MV[i,:], colors[i], fillstyle = 'none', ms = 5, mew = 0.5, lw = 1)\n",
    "\n",
    "    axes.set_xlabel(r'$k$', fontsize = 16)\n",
    "    axes.set_ylabel(r'$\\sigma_{BS}(k,t)$', fontsize = 16)\n",
    "    axes.set_title(r'$\\alpha=%.1f,\\ \\beta=%.1f$'%(a,b), fontsize = 14)\n",
    "    plt.xlim([-0.2,0.2])\n",
    "    plt.xticks([-0.2,-0.10,0,0.1,0.2])\n",
    "    plt.ylim([0.08,0.14])\n",
    "#     plt.yticks([0.04,0.08,0.12,0.16,0.20,0.24])\n",
    "    plt.grid(True)\n",
    "    fig_name = ccy +'_'+ date + '_k.png'\n",
    "    fname = save_path + fig_name\n",
    "    plt.savefig(fname, bbox_inches='tight', dpi = 300)"
   ]
  },
  {
   "cell_type": "code",
   "execution_count": 54,
   "metadata": {},
   "outputs": [
    {
     "data": {
      "image/png": "[encoded data removed]",
      "text/plain": [
       "<matplotlib.figure.Figure at 0x118d148d0>"
      ]
     },
     "metadata": {},
     "output_type": "display_data"
    }
   ],
   "source": [
    "save_path = '/Users/ryanmccrickerd/Desktop/GBPUSD_volatilities/'\n",
    "k = np.array(surface._put_deltas())\n",
    "MV = np.array(surface.surface)\n",
    "colors = ['r-','y-','g-','b-']\n",
    "mat = ['1W','1M','3M','6M']\n",
    "\n",
    "plot, axes = plt.subplots(figsize=(4,2.5))\n",
    "for i in range(4):\n",
    "\n",
    "    axes.plot(k[i,:], MV[i,:], colors[i], fillstyle = 'none', ms = 5, mew = 0.5, lw = 1)\n",
    "\n",
    "    axes.set_xlabel(r'$\\Delta$', fontsize = 16)\n",
    "    axes.set_ylabel(r'$\\sigma_{BS}(\\Delta,t)$', fontsize = 16)\n",
    "    axes.set_title(r'$\\alpha=%.1f,\\ \\beta=%.1f$'%(a,b), fontsize = 14)\n",
    "    plt.xlim([0,1])\n",
    "    plt.xticks([0,0.25,0.5,0.75,1])\n",
    "    plt.ylim([0.08,0.14])\n",
    "#     plt.yticks([0.04,0.08,0.12,0.16,0.20,0.24])\n",
    "    plt.grid(True)\n",
    "    fig_name = ccy +'_'+ date + '_d.png'\n",
    "    fname = save_path + fig_name\n",
    "    plt.savefig(fname, bbox_inches='tight', dpi = 300)"
   ]
  },
  {
   "cell_type": "code",
   "execution_count": null,
   "metadata": {
    "collapsed": true
   },
   "outputs": [],
   "source": []
  }
 ],
 "metadata": {
  "anaconda-cloud": {},
  "kernelspec": {
   "display_name": "Python [default]",
   "language": "python",
   "name": "python3"
  },
  "language_info": {
   "codemirror_mode": {
    "name": "ipython",
    "version": 3
   },
   "file_extension": ".py",
   "mimetype": "text/x-python",
   "name": "python",
   "nbconvert_exporter": "python",
   "pygments_lexer": "ipython3",
   "version": "3.5.2"
  }
 },
 "nbformat": 4,
 "nbformat_minor": 1
}
