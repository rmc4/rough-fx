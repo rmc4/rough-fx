{
 "cells": [
  {
   "cell_type": "markdown",
   "metadata": {
    "nbpresent": {
     "id": "b590a017-9bad-4ff8-ac89-d1d90e1ebf09"
    }
   },
   "source": [
    "rBergomi: skew calculation with surface plot\n",
    "=="
   ]
  },
  {
   "cell_type": "markdown",
   "metadata": {},
   "source": [
    "$$S_t = \\mathcal{E} \\left\\{ \\int_0^t \\sqrt{ V_u } \\ \\mathrm{d} \\ (\\rho W^1_u + \\bar{\\rho} W^2_u) \\right\\}, \\quad V_t = \\xi \\ \\mathcal{E} \\left\\{ \\eta \\sqrt{2\\alpha + 1} \\int_0^t (t - u)^\\alpha \\mathrm{d}W^1_u \\right\\},$$"
   ]
  },
  {
   "cell_type": "code",
   "execution_count": 1,
   "metadata": {
    "collapsed": true
   },
   "outputs": [],
   "source": [
    "import os\n",
    "os.chdir('/Users/ryanmccrickerd/desktop/rbergomi/rbergomi')"
   ]
  },
  {
   "cell_type": "code",
   "execution_count": 2,
   "metadata": {
    "collapsed": true
   },
   "outputs": [],
   "source": [
    "import numpy as np\n",
    "from matplotlib import pyplot as plt\n",
    "import matplotlib.mlab as mlab\n",
    "from rbergomi import rBergomi\n",
    "from surface import Surface\n",
    "from routines import *\n",
    "% matplotlib inline"
   ]
  },
  {
   "cell_type": "markdown",
   "metadata": {},
   "source": [
    "Change 'all' to 'short' to use very short-dated maturities"
   ]
  },
  {
   "cell_type": "code",
   "execution_count": 3,
   "metadata": {
    "scrolled": true
   },
   "outputs": [],
   "source": [
    "rough_surface = Surface('surface', 'base', close = False)\n",
    "classical_surface = Surface('surface', 'alpha', close = False)"
   ]
  },
  {
   "cell_type": "markdown",
   "metadata": {},
   "source": [
    "Now target alpha calculation"
   ]
  },
  {
   "cell_type": "code",
   "execution_count": 52,
   "metadata": {},
   "outputs": [],
   "source": [
    "yc = classical_surface.skew(degree = 3, smoothing = 0)\n",
    "yr = rough_surface.skew(degree = 3, smoothing = 0)"
   ]
  },
  {
   "cell_type": "code",
   "execution_count": 53,
   "metadata": {},
   "outputs": [],
   "source": [
    "xc = classical_surface._maturities[:,0]\n",
    "xr = rough_surface._maturities[:,0]"
   ]
  },
  {
   "cell_type": "code",
   "execution_count": 54,
   "metadata": {
    "collapsed": true
   },
   "outputs": [],
   "source": [
    "from scipy.optimize import minimize\n",
    "def alpha_calib(maturities, skew):\n",
    "\n",
    "    def rmse(x):\n",
    "        return np.sqrt(np.mean((x[0] * maturities ** x[1] - skew) ** 2))\n",
    "    result = minimize(rmse, (0.,0.), \n",
    "                      # method = 'BFGS',\n",
    "                      # method = 'L-BFGS-B',\n",
    "                      # bounds = ((0.,1.),(-1.,0.))\n",
    "                     )\n",
    "    return result"
   ]
  },
  {
   "cell_type": "code",
   "execution_count": 68,
   "metadata": {},
   "outputs": [],
   "source": [
    "cpoints = 6 # use 2 for results in paper\n",
    "rpoints = 6\n",
    "cvals = alpha_calib(xc[:cpoints], yc[:cpoints])\n",
    "rvals = alpha_calib(xr[:rpoints], yr[:rpoints])"
   ]
  },
  {
   "cell_type": "code",
   "execution_count": 69,
   "metadata": {},
   "outputs": [
    {
     "data": {
      "text/plain": [
       "      fun: 0.014372634633785443\n",
       " hess_inv: array([[ 0.0335448 ,  0.02078965],\n",
       "       [ 0.02078965,  0.02113719]])\n",
       "      jac: array([ -7.99074769e-07,   6.94533810e-07])\n",
       "  message: 'Optimization terminated successfully.'\n",
       "     nfev: 60\n",
       "      nit: 10\n",
       "     njev: 15\n",
       "   status: 0\n",
       "  success: True\n",
       "        x: array([ 0.37864401, -0.0263944 ])"
      ]
     },
     "execution_count": 69,
     "metadata": {},
     "output_type": "execute_result"
    }
   ],
   "source": [
    "cvals"
   ]
  },
  {
   "cell_type": "code",
   "execution_count": 70,
   "metadata": {},
   "outputs": [
    {
     "data": {
      "text/plain": [
       "      fun: 0.006510467208141266\n",
       " hess_inv: array([[ 0.00386844,  0.00246913],\n",
       "       [ 0.00246913,  0.0016511 ]])\n",
       "      jac: array([  1.25332735e-06,  -1.53353903e-06])\n",
       "  message: 'Optimization terminated successfully.'\n",
       "     nfev: 120\n",
       "      nit: 15\n",
       "     njev: 30\n",
       "   status: 0\n",
       "  success: True\n",
       "        x: array([ 0.28652191, -0.45025436])"
      ]
     },
     "execution_count": 70,
     "metadata": {},
     "output_type": "execute_result"
    }
   ],
   "source": [
    "rvals"
   ]
  },
  {
   "cell_type": "code",
   "execution_count": 71,
   "metadata": {},
   "outputs": [
    {
     "data": {
      "image/png": "[encoded data removed]",
      "text/plain": [
       "<matplotlib.figure.Figure at 0x115a646a0>"
      ]
     },
     "metadata": {},
     "output_type": "display_data"
    }
   ],
   "source": [
    "x2 = np.linspace(0.00320513,1,1000)\n",
    "yr2 = rvals.x[0] * x2 ** rvals.x[1]\n",
    "yc2 = cvals.x[0] * x2 ** cvals.x[1]\n",
    "\n",
    "plot, axes = plt.subplots(dpi=10000, figsize=(7,3))\n",
    "axes.plot(xr, yr, 'bo', fillstyle = 'none', ms = 7, mew = 1)\n",
    "axes.plot(x2, yr2, 'b')\n",
    "axes.plot(xc, yc, 'ro', fillstyle = 'none', ms = 7, mew = 1)\n",
    "axes.plot(x2, yc2, 'r')\n",
    "\n",
    "axes.set_xlabel(r'$\\tau$', fontsize = 16)\n",
    "axes.set_ylabel(r'$\\psi(\\tau)$', fontsize = 16)\n",
    "# axes.set_title(r'$\\rho = -0.90 \\quad \\alpha = -0.43$', fontsize = 16)\n",
    "\n",
    "#axes.yaxis.set_ticks(np.arange(0, 4.00001, 1))\n",
    "axes.xaxis.set_ticks(np.arange(0, 1.0001, 0.25))\n",
    "\n",
    "axes.legend([r'$\\mathsf{rBergomi\\ skew}$',\n",
    "             r'$\\mathsf{\\psi(\\tau) = 0.292\\ \\tau^{-0.447}}$',\n",
    "             r'$\\mathsf{Classical\\ skew}$',\n",
    "             r'$\\mathsf{\\psi(\\tau) = 0.423\\ \\tau^{-0.002}}$'])\n",
    "\n",
    "plt.xlim([-0.1,1.1])\n",
    "plt.ylim([0,4])\n",
    "plt.grid(True)"
   ]
  },
  {
   "cell_type": "markdown",
   "metadata": {
    "collapsed": true
   },
   "source": [
    "Now going to use (7.6) from Bayer"
   ]
  },
  {
   "cell_type": "code",
   "execution_count": null,
   "metadata": {
    "collapsed": true
   },
   "outputs": [],
   "source": [
    "from scipy.optimize import minimize\n",
    "def bayer_alpha_calib(maturities, skew):\n",
    "\n",
    "    def rmse(x):\n",
    "        t = maturities\n",
    "        A = x[0]\n",
    "        B = x[1]\n",
    "        a = x[2]\n",
    "        e = x[3]\n",
    "        # B = 0. # Check matches previous calib\n",
    "        approx = A * t ** a + B * t ** (2*a + 1) + e\n",
    "        return np.sqrt(np.mean((approx - skew) ** 2))\n",
    "    result = minimize(rmse, \n",
    "                      (0.,0.,0.,0.), \n",
    "                      # method = 'BFGS',\n",
    "                      # method = 'L-BFGS-B',\n",
    "                      # bounds = ((-100.,100.),(-100.,100.),(-0.5,0.))\n",
    "                     )\n",
    "    return result"
   ]
  },
  {
   "cell_type": "code",
   "execution_count": null,
   "metadata": {},
   "outputs": [],
   "source": [
    "points = 4\n",
    "maturities = x1[:points]\n",
    "skew = y1[:points]\n",
    "# results = alpha_calib(maturities, skew)\n",
    "results = bayer_alpha_calib(maturities, skew)\n",
    "results"
   ]
  },
  {
   "cell_type": "markdown",
   "metadata": {},
   "source": [
    "Is it worth making this implied vols a little more accurate?\n",
    "Or taking more short term vols?"
   ]
  },
  {
   "cell_type": "markdown",
   "metadata": {},
   "source": [
    "Perhaps should record 1W, 2W, 3W, 4W, 5W implied vols to get to the bottom of whether this works? Yes, this sounds like a good plan."
   ]
  },
  {
   "cell_type": "markdown",
   "metadata": {},
   "source": [
    "Turn the question around: how good a calibration can we get in X seconds? using no variance reduction, using optimal variance reduction."
   ]
  },
  {
   "cell_type": "markdown",
   "metadata": {},
   "source": [
    "Given that it's so close, there must be something better to do than just throw it into the calibration. Just try the above and adjust it up and down."
   ]
  },
  {
   "cell_type": "code",
   "execution_count": null,
   "metadata": {},
   "outputs": [],
   "source": [
    "surface.surface"
   ]
  },
  {
   "cell_type": "code",
   "execution_count": null,
   "metadata": {},
   "outputs": [],
   "source": [
    "surface._log_strike_surface()"
   ]
  },
  {
   "cell_type": "code",
   "execution_count": null,
   "metadata": {},
   "outputs": [],
   "source": [
    "surface._put_deltas()"
   ]
  },
  {
   "cell_type": "code",
   "execution_count": null,
   "metadata": {},
   "outputs": [],
   "source": [
    "surface._maturities"
   ]
  },
  {
   "cell_type": "code",
   "execution_count": null,
   "metadata": {
    "collapsed": true
   },
   "outputs": [],
   "source": [
    "from mpl_toolkits.mplot3d import Axes3D"
   ]
  },
  {
   "cell_type": "code",
   "execution_count": null,
   "metadata": {},
   "outputs": [],
   "source": [
    "fig = plt.figure()\n",
    "ax = fig.gca(projection='3d')"
   ]
  },
  {
   "cell_type": "code",
   "execution_count": null,
   "metadata": {},
   "outputs": [],
   "source": [
    "from mpl_toolkits.mplot3d import Axes3D\n",
    "\n",
    "fig = plt.figure()\n",
    "ax = fig.gca(projection='3d')\n",
    "\n",
    "# X = surface._put_deltas()\n",
    "X = np.array(surface._log_strike_surface())\n",
    "Y = np.ones_like(X) * np.array(surface._maturities)\n",
    "Z = np.array(surface.surface)\n",
    "\n",
    "# Plot the surface.\n",
    "surf = ax.plot_wireframe(X, Y, Z, linewidth=1)\n",
    "\n",
    "plt.show()"
   ]
  },
  {
   "cell_type": "code",
   "execution_count": null,
   "metadata": {
    "collapsed": true
   },
   "outputs": [],
   "source": []
  }
 ],
 "metadata": {
  "anaconda-cloud": {},
  "kernelspec": {
   "display_name": "Python [default]",
   "language": "python",
   "name": "python3"
  },
  "language_info": {
   "codemirror_mode": {
    "name": "ipython",
    "version": 3
   },
   "file_extension": ".py",
   "mimetype": "text/x-python",
   "name": "python",
   "nbconvert_exporter": "python",
   "pygments_lexer": "ipython3",
   "version": "3.5.2"
  }
 },
 "nbformat": 4,
 "nbformat_minor": 1
}
