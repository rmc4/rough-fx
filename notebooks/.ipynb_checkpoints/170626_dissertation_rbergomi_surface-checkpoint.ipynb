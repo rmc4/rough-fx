{
 "cells": [
  {
   "cell_type": "markdown",
   "metadata": {
    "nbpresent": {
     "id": "b590a017-9bad-4ff8-ac89-d1d90e1ebf09"
    }
   },
   "source": [
    "rBergomi: generating surface for dissertation\n",
    "=="
   ]
  },
  {
   "cell_type": "markdown",
   "metadata": {},
   "source": [
    "$$S_t = \\mathcal{E} \\left\\{ \\int_0^t \\sqrt{ V_u } \\ \\mathrm{d} \\ (\\rho W^1_u + \\bar{\\rho} W^2_u) \\right\\}, \\quad V_t = \\xi \\ \\mathcal{E} \\left\\{ \\eta \\sqrt{2\\alpha + 1} \\int_0^t (t - u)^\\alpha \\mathrm{d}W^1_u \\right\\},$$"
   ]
  },
  {
   "cell_type": "code",
   "execution_count": 1,
   "metadata": {
    "collapsed": true
   },
   "outputs": [],
   "source": [
    "import os\n",
    "os.chdir('/Users/ryanmccrickerd/desktop/rbergomi/rbergomi')"
   ]
  },
  {
   "cell_type": "code",
   "execution_count": 2,
   "metadata": {},
   "outputs": [],
   "source": [
    "import numpy as np\n",
    "from matplotlib import pyplot as plt\n",
    "# import matplotlib.mlab as mlab\n",
    "from rbergomi import rBergomi\n",
    "# from surface import Surface\n",
    "from routines import generate_surface\n",
    "% matplotlib inline"
   ]
  },
  {
   "cell_type": "markdown",
   "metadata": {},
   "source": [
    "Record maturities and granularities here which give 312 steps for each"
   ]
  },
  {
   "cell_type": "code",
   "execution_count": 3,
   "metadata": {},
   "outputs": [
    {
     "data": {
      "text/plain": [
       "{'1D': 624, '1M': 24, '1W': 104, '1Y': 2, '2Y': 1, '3M': 8, '6M': 4}"
      ]
     },
     "execution_count": 3,
     "metadata": {},
     "output_type": "execute_result"
    }
   ],
   "source": [
    "n_dict = {'1D':624,\n",
    "          '1W':104,\n",
    "          '1M':24,\n",
    "          '3M':8,\n",
    "          '6M':4,\n",
    "          '1Y':2,\n",
    "          '2Y':1}\n",
    "n_dict"
   ]
  },
  {
   "cell_type": "markdown",
   "metadata": {},
   "source": [
    "**Specify tenor and paths here**"
   ]
  },
  {
   "cell_type": "code",
   "execution_count": 4,
   "metadata": {
    "collapsed": true
   },
   "outputs": [],
   "source": [
    "tenor = '2Y'\n",
    "N = 400000"
   ]
  },
  {
   "cell_type": "code",
   "execution_count": 5,
   "metadata": {},
   "outputs": [
    {
     "data": {
      "text/plain": [
       "1"
      ]
     },
     "execution_count": 5,
     "metadata": {},
     "output_type": "execute_result"
    }
   ],
   "source": [
    "n = n_dict[tenor]\n",
    "n"
   ]
  },
  {
   "cell_type": "code",
   "execution_count": 6,
   "metadata": {},
   "outputs": [
    {
     "data": {
      "text/plain": [
       "2.0"
      ]
     },
     "execution_count": 6,
     "metadata": {},
     "output_type": "execute_result"
    }
   ],
   "source": [
    "T = 2./n\n",
    "T"
   ]
  },
  {
   "cell_type": "code",
   "execution_count": 7,
   "metadata": {
    "collapsed": true
   },
   "outputs": [],
   "source": [
    "rbergomi = rBergomi(n = n, N = N, T = T, a = -0.43, AS = True)"
   ]
  },
  {
   "cell_type": "code",
   "execution_count": 8,
   "metadata": {},
   "outputs": [
    {
     "data": {
      "text/plain": [
       "2.0"
      ]
     },
     "execution_count": 8,
     "metadata": {},
     "output_type": "execute_result"
    }
   ],
   "source": [
    "rbergomi.T"
   ]
  },
  {
   "cell_type": "code",
   "execution_count": 23,
   "metadata": {},
   "outputs": [
    {
     "data": {
      "text/plain": [
       "array([[-0.05 , -0.045, -0.04 , -0.035, -0.03 , -0.025, -0.02 , -0.015,\n",
       "        -0.01 , -0.005,  0.   ,  0.005,  0.01 ,  0.015,  0.02 ,  0.025,\n",
       "         0.03 ,  0.035,  0.04 ,  0.045,  0.05 ]])"
      ]
     },
     "execution_count": 23,
     "metadata": {},
     "output_type": "execute_result"
    }
   ],
   "source": [
    "k_max = 0.05\n",
    "num_points = 21\n",
    "log_strikes = np.linspace(-k_max, k_max, num_points)[np.newaxis,:]\n",
    "log_strikes"
   ]
  },
  {
   "cell_type": "code",
   "execution_count": 10,
   "metadata": {
    "collapsed": true
   },
   "outputs": [],
   "source": [
    "kwargs = {'xi':0.235**2, 'eta':1.9, 'rho':-0.}"
   ]
  },
  {
   "cell_type": "code",
   "execution_count": 11,
   "metadata": {
    "collapsed": true
   },
   "outputs": [],
   "source": [
    "np.random.seed(0)"
   ]
  },
  {
   "cell_type": "code",
   "execution_count": 12,
   "metadata": {},
   "outputs": [],
   "source": [
    "IV = generate_surface(rbergomi, log_strikes, **kwargs)"
   ]
  },
  {
   "cell_type": "markdown",
   "metadata": {},
   "source": [
    "This section should take the same amount of time for each. N should be scaled accordingly."
   ]
  },
  {
   "cell_type": "code",
   "execution_count": 13,
   "metadata": {},
   "outputs": [
    {
     "data": {
      "image/png": "[encoded data removed]",
      "text/plain": [
       "<matplotlib.figure.Figure at 0x10cbb49b0>"
      ]
     },
     "metadata": {},
     "output_type": "display_data"
    }
   ],
   "source": [
    "k = log_strikes\n",
    "\n",
    "plot, axes = plt.subplots()\n",
    "\n",
    "axes.plot(k[0,:], IV[0,:], 'r')\n",
    "\n",
    "# 1SD bounds - only correct when not using AV\n",
    "# axes.plot(k[M,:], IV[M,:,0], 'k--', linewidth = 0.5) # Lower bound\n",
    "# axes.plot(k[M,:], IV[M,:,2], 'k--', linewidth = 0.5) # Upper bound\n",
    "\n",
    "# axes.plot(k[M,:], MV[M,:], 'go', fillstyle = 'none', ms = 4, mew = 1)\n",
    "\n",
    "axes.set_xlabel(r'$k$', fontsize = 14)\n",
    "axes.set_ylabel(r'$IV(k,\\tau)$', fontsize = 14)\n",
    "axes.set_title(r'$T=$' + tenor, fontsize = 14)\n",
    "#axes.legend([r'$\\mathsf{Standard}$', r'$\\mathsf{Timer \\ Control}$', r'$\\mathsf{S \\ Control}$'])\n",
    "# plt.xlim([-0.05,0.05])\n",
    "# plt.ylim([0.14,0.30])\n",
    "\n",
    "plt.grid(True)"
   ]
  },
  {
   "cell_type": "code",
   "execution_count": 14,
   "metadata": {},
   "outputs": [
    {
     "data": {
      "text/plain": [
       "{'1D': 'B', '1M': 'D', '1W': 'C', '1Y': 'G', '2Y': 'H', '3M': 'E', '6M': 'F'}"
      ]
     },
     "execution_count": 14,
     "metadata": {},
     "output_type": "execute_result"
    }
   ],
   "source": [
    "col_dict = {'1D':'B',\n",
    "            '1W':'C',\n",
    "            '1M':'D',\n",
    "            '3M':'E',\n",
    "            '6M':'F',\n",
    "            '1Y':'G',\n",
    "            '2Y':'H'}\n",
    "col_dict"
   ]
  },
  {
   "cell_type": "code",
   "execution_count": null,
   "metadata": {
    "collapsed": true
   },
   "outputs": [],
   "source": [
    "import xlwings as xw\n",
    "install_path = '/Users/ryanmccrickerd/desktop'\n",
    "file_path = install_path + '/rbergomi/data/surface_data.xlsx'\n",
    "# Instantiate xlwings object\n",
    "wb = xw.Book(file_path)\n",
    "sht = wb.sheets['Sheet1']"
   ]
  },
  {
   "cell_type": "markdown",
   "metadata": {},
   "source": [
    "**The following will write to surface_data.xlsx file**"
   ]
  },
  {
   "cell_type": "code",
   "execution_count": 15,
   "metadata": {
    "collapsed": true
   },
   "outputs": [],
   "source": [
    "# # Paste implied vols\n",
    "# sht.range(col_dict[tenor] + '1').value = T\n",
    "# sht.range(col_dict[tenor] + '2').value = 100 * np.flipud(np.transpose(IV))\n",
    "# wb.save()"
   ]
  },
  {
   "cell_type": "code",
   "execution_count": 51,
   "metadata": {
    "collapsed": true
   },
   "outputs": [],
   "source": [
    "# Copy implied surface\n",
    "log_strikes = np.array(sht.range('A2:A22').value)\n",
    "maturities = np.array(sht.range('B1:G1').value)\n",
    "surface = np.transpose(np.array(sht.range('B2:G22').value))"
   ]
  },
  {
   "cell_type": "markdown",
   "metadata": {},
   "source": [
    "Demonstrate this neatly"
   ]
  },
  {
   "cell_type": "code",
   "execution_count": 52,
   "metadata": {},
   "outputs": [
    {
     "data": {
      "text/html": [
       "<div>\n",
       "<table border=\"1\" class=\"dataframe\">\n",
       "  <thead>\n",
       "    <tr style=\"text-align: right;\">\n",
       "      <th></th>\n",
       "      <th>-0.05</th>\n",
       "      <th>-0.045</th>\n",
       "      <th>-0.04</th>\n",
       "      <th>-0.035</th>\n",
       "      <th>-0.03</th>\n",
       "      <th>-0.025</th>\n",
       "      <th>-0.02</th>\n",
       "      <th>-0.015</th>\n",
       "      <th>-0.01</th>\n",
       "      <th>-0.005</th>\n",
       "      <th>...</th>\n",
       "      <th>0.005</th>\n",
       "      <th>0.01</th>\n",
       "      <th>0.015</th>\n",
       "      <th>0.02</th>\n",
       "      <th>0.025</th>\n",
       "      <th>0.03</th>\n",
       "      <th>0.035</th>\n",
       "      <th>0.04</th>\n",
       "      <th>0.045</th>\n",
       "      <th>0.05</th>\n",
       "    </tr>\n",
       "  </thead>\n",
       "  <tbody>\n",
       "    <tr>\n",
       "      <th>0.003205</th>\n",
       "      <td>30.428965</td>\n",
       "      <td>29.358385</td>\n",
       "      <td>28.267712</td>\n",
       "      <td>27.183254</td>\n",
       "      <td>26.227319</td>\n",
       "      <td>25.312153</td>\n",
       "      <td>24.453401</td>\n",
       "      <td>23.699214</td>\n",
       "      <td>23.097502</td>\n",
       "      <td>22.695766</td>\n",
       "      <td>...</td>\n",
       "      <td>22.695489</td>\n",
       "      <td>23.097858</td>\n",
       "      <td>23.700235</td>\n",
       "      <td>24.454448</td>\n",
       "      <td>25.313750</td>\n",
       "      <td>26.231353</td>\n",
       "      <td>27.182285</td>\n",
       "      <td>28.263583</td>\n",
       "      <td>29.361306</td>\n",
       "      <td>30.433108</td>\n",
       "    </tr>\n",
       "    <tr>\n",
       "      <th>0.019231</th>\n",
       "      <td>24.736803</td>\n",
       "      <td>24.338771</td>\n",
       "      <td>23.961970</td>\n",
       "      <td>23.611556</td>\n",
       "      <td>23.289612</td>\n",
       "      <td>23.002123</td>\n",
       "      <td>22.757089</td>\n",
       "      <td>22.552528</td>\n",
       "      <td>22.401723</td>\n",
       "      <td>22.306408</td>\n",
       "      <td>...</td>\n",
       "      <td>22.306282</td>\n",
       "      <td>22.400996</td>\n",
       "      <td>22.551871</td>\n",
       "      <td>22.757930</td>\n",
       "      <td>23.004095</td>\n",
       "      <td>23.291105</td>\n",
       "      <td>23.613886</td>\n",
       "      <td>23.963898</td>\n",
       "      <td>24.339484</td>\n",
       "      <td>24.739790</td>\n",
       "    </tr>\n",
       "    <tr>\n",
       "      <th>0.083333</th>\n",
       "      <td>22.818705</td>\n",
       "      <td>22.673545</td>\n",
       "      <td>22.540051</td>\n",
       "      <td>22.417831</td>\n",
       "      <td>22.308044</td>\n",
       "      <td>22.213797</td>\n",
       "      <td>22.134602</td>\n",
       "      <td>22.071104</td>\n",
       "      <td>22.026037</td>\n",
       "      <td>21.997874</td>\n",
       "      <td>...</td>\n",
       "      <td>21.997970</td>\n",
       "      <td>22.025213</td>\n",
       "      <td>22.070991</td>\n",
       "      <td>22.133102</td>\n",
       "      <td>22.211988</td>\n",
       "      <td>22.306475</td>\n",
       "      <td>22.416499</td>\n",
       "      <td>22.540431</td>\n",
       "      <td>22.675664</td>\n",
       "      <td>22.821494</td>\n",
       "    </tr>\n",
       "    <tr>\n",
       "      <th>0.250000</th>\n",
       "      <td>22.076189</td>\n",
       "      <td>22.012475</td>\n",
       "      <td>21.954499</td>\n",
       "      <td>21.902531</td>\n",
       "      <td>21.857188</td>\n",
       "      <td>21.818618</td>\n",
       "      <td>21.786134</td>\n",
       "      <td>21.760388</td>\n",
       "      <td>21.741781</td>\n",
       "      <td>21.730690</td>\n",
       "      <td>...</td>\n",
       "      <td>21.730970</td>\n",
       "      <td>21.741968</td>\n",
       "      <td>21.759998</td>\n",
       "      <td>21.784873</td>\n",
       "      <td>21.817565</td>\n",
       "      <td>21.856763</td>\n",
       "      <td>21.902351</td>\n",
       "      <td>21.953877</td>\n",
       "      <td>22.011550</td>\n",
       "      <td>22.075170</td>\n",
       "    </tr>\n",
       "    <tr>\n",
       "      <th>0.500000</th>\n",
       "      <td>21.731493</td>\n",
       "      <td>21.694966</td>\n",
       "      <td>21.662234</td>\n",
       "      <td>21.632839</td>\n",
       "      <td>21.606939</td>\n",
       "      <td>21.584910</td>\n",
       "      <td>21.566770</td>\n",
       "      <td>21.552505</td>\n",
       "      <td>21.542156</td>\n",
       "      <td>21.535792</td>\n",
       "      <td>...</td>\n",
       "      <td>21.535877</td>\n",
       "      <td>21.541920</td>\n",
       "      <td>21.552065</td>\n",
       "      <td>21.566179</td>\n",
       "      <td>21.584257</td>\n",
       "      <td>21.606168</td>\n",
       "      <td>21.632219</td>\n",
       "      <td>21.661937</td>\n",
       "      <td>21.695402</td>\n",
       "      <td>21.732230</td>\n",
       "    </tr>\n",
       "    <tr>\n",
       "      <th>1.000000</th>\n",
       "      <td>21.418681</td>\n",
       "      <td>21.397890</td>\n",
       "      <td>21.378992</td>\n",
       "      <td>21.362555</td>\n",
       "      <td>21.348590</td>\n",
       "      <td>21.336558</td>\n",
       "      <td>21.326474</td>\n",
       "      <td>21.318328</td>\n",
       "      <td>21.312408</td>\n",
       "      <td>21.308848</td>\n",
       "      <td>...</td>\n",
       "      <td>21.308969</td>\n",
       "      <td>21.312284</td>\n",
       "      <td>21.318002</td>\n",
       "      <td>21.325905</td>\n",
       "      <td>21.336312</td>\n",
       "      <td>21.348823</td>\n",
       "      <td>21.363364</td>\n",
       "      <td>21.380015</td>\n",
       "      <td>21.398701</td>\n",
       "      <td>21.419635</td>\n",
       "    </tr>\n",
       "  </tbody>\n",
       "</table>\n",
       "<p>6 rows × 21 columns</p>\n",
       "</div>"
      ],
      "text/plain": [
       "             -0.050     -0.045     -0.040     -0.035     -0.030     -0.025  \\\n",
       "0.003205  30.428965  29.358385  28.267712  27.183254  26.227319  25.312153   \n",
       "0.019231  24.736803  24.338771  23.961970  23.611556  23.289612  23.002123   \n",
       "0.083333  22.818705  22.673545  22.540051  22.417831  22.308044  22.213797   \n",
       "0.250000  22.076189  22.012475  21.954499  21.902531  21.857188  21.818618   \n",
       "0.500000  21.731493  21.694966  21.662234  21.632839  21.606939  21.584910   \n",
       "1.000000  21.418681  21.397890  21.378992  21.362555  21.348590  21.336558   \n",
       "\n",
       "             -0.020     -0.015     -0.010     -0.005    ...          0.005  \\\n",
       "0.003205  24.453401  23.699214  23.097502  22.695766    ...      22.695489   \n",
       "0.019231  22.757089  22.552528  22.401723  22.306408    ...      22.306282   \n",
       "0.083333  22.134602  22.071104  22.026037  21.997874    ...      21.997970   \n",
       "0.250000  21.786134  21.760388  21.741781  21.730690    ...      21.730970   \n",
       "0.500000  21.566770  21.552505  21.542156  21.535792    ...      21.535877   \n",
       "1.000000  21.326474  21.318328  21.312408  21.308848    ...      21.308969   \n",
       "\n",
       "              0.010      0.015      0.020      0.025      0.030      0.035  \\\n",
       "0.003205  23.097858  23.700235  24.454448  25.313750  26.231353  27.182285   \n",
       "0.019231  22.400996  22.551871  22.757930  23.004095  23.291105  23.613886   \n",
       "0.083333  22.025213  22.070991  22.133102  22.211988  22.306475  22.416499   \n",
       "0.250000  21.741968  21.759998  21.784873  21.817565  21.856763  21.902351   \n",
       "0.500000  21.541920  21.552065  21.566179  21.584257  21.606168  21.632219   \n",
       "1.000000  21.312284  21.318002  21.325905  21.336312  21.348823  21.363364   \n",
       "\n",
       "              0.040      0.045      0.050  \n",
       "0.003205  28.263583  29.361306  30.433108  \n",
       "0.019231  23.963898  24.339484  24.739790  \n",
       "0.083333  22.540431  22.675664  22.821494  \n",
       "0.250000  21.953877  22.011550  22.075170  \n",
       "0.500000  21.661937  21.695402  21.732230  \n",
       "1.000000  21.380015  21.398701  21.419635  \n",
       "\n",
       "[6 rows x 21 columns]"
      ]
     },
     "execution_count": 52,
     "metadata": {},
     "output_type": "execute_result"
    }
   ],
   "source": [
    "import pandas as pd\n",
    "pd.DataFrame(surface, index = maturities, columns = log_strikes)"
   ]
  },
  {
   "cell_type": "markdown",
   "metadata": {},
   "source": [
    "Now plot this"
   ]
  },
  {
   "cell_type": "code",
   "execution_count": 82,
   "metadata": {},
   "outputs": [
    {
     "data": {
      "image/png": "[encoded data removed]",
      "text/plain": [
       "<matplotlib.figure.Figure at 0x123137128>"
      ]
     },
     "metadata": {},
     "output_type": "display_data"
    }
   ],
   "source": [
    "from mpl_toolkits.mplot3d import Axes3D\n",
    "from matplotlib import cm\n",
    "from matplotlib.ticker import LinearLocator, FormatStrFormatter\n",
    "\n",
    "fig = plt.figure()\n",
    "ax = fig.gca(projection='3d')\n",
    "\n",
    "X = log_strikes[np.newaxis,:]\n",
    "Y = maturities[:,np.newaxis]\n",
    "X, Y = np.meshgrid(X, Y)\n",
    "Z = surface\n",
    "\n",
    "# Plot the surface.\n",
    "surf = ax.plot_wireframe(X, Y, Z, cmap = cm.coolwarm, linewidth = 0.1, antialiased = False)\n",
    "\n",
    "plt.show()"
   ]
  },
  {
   "cell_type": "markdown",
   "metadata": {},
   "source": [
    "This looks shite..."
   ]
  },
  {
   "cell_type": "code",
   "execution_count": 84,
   "metadata": {},
   "outputs": [],
   "source": [
    "from surface import Surface\n",
    "surface = Surface('all', 'rbergomi', close = False)"
   ]
  },
  {
   "cell_type": "code",
   "execution_count": 85,
   "metadata": {},
   "outputs": [
    {
     "data": {
      "text/html": [
       "<div>\n",
       "<table border=\"1\" class=\"dataframe\">\n",
       "  <thead>\n",
       "    <tr style=\"text-align: right;\">\n",
       "      <th></th>\n",
       "      <th>5P</th>\n",
       "      <th>10P</th>\n",
       "      <th>15P</th>\n",
       "      <th>20P</th>\n",
       "      <th>25P</th>\n",
       "      <th>30P</th>\n",
       "      <th>35P</th>\n",
       "      <th>40P</th>\n",
       "      <th>45P</th>\n",
       "      <th>ATM</th>\n",
       "      <th>45C</th>\n",
       "      <th>40C</th>\n",
       "      <th>35C</th>\n",
       "      <th>30C</th>\n",
       "      <th>25C</th>\n",
       "      <th>20C</th>\n",
       "      <th>15C</th>\n",
       "      <th>10C</th>\n",
       "      <th>5C</th>\n",
       "    </tr>\n",
       "  </thead>\n",
       "  <tbody>\n",
       "    <tr>\n",
       "      <th>1W</th>\n",
       "      <td>0.325855</td>\n",
       "      <td>0.295906</td>\n",
       "      <td>0.277152</td>\n",
       "      <td>0.263344</td>\n",
       "      <td>0.252344</td>\n",
       "      <td>0.243005</td>\n",
       "      <td>0.234878</td>\n",
       "      <td>0.227560</td>\n",
       "      <td>0.220734</td>\n",
       "      <td>0.215082</td>\n",
       "      <td>0.208241</td>\n",
       "      <td>0.202380</td>\n",
       "      <td>0.196599</td>\n",
       "      <td>0.190855</td>\n",
       "      <td>0.185148</td>\n",
       "      <td>0.179265</td>\n",
       "      <td>0.173056</td>\n",
       "      <td>0.166197</td>\n",
       "      <td>0.157668</td>\n",
       "    </tr>\n",
       "    <tr>\n",
       "      <th>1M</th>\n",
       "      <td>0.328562</td>\n",
       "      <td>0.295672</td>\n",
       "      <td>0.275376</td>\n",
       "      <td>0.260636</td>\n",
       "      <td>0.248850</td>\n",
       "      <td>0.238964</td>\n",
       "      <td>0.230351</td>\n",
       "      <td>0.222627</td>\n",
       "      <td>0.215502</td>\n",
       "      <td>0.210433</td>\n",
       "      <td>0.202572</td>\n",
       "      <td>0.196586</td>\n",
       "      <td>0.190686</td>\n",
       "      <td>0.184914</td>\n",
       "      <td>0.179205</td>\n",
       "      <td>0.173481</td>\n",
       "      <td>0.167591</td>\n",
       "      <td>0.161244</td>\n",
       "      <td>0.153770</td>\n",
       "    </tr>\n",
       "    <tr>\n",
       "      <th>3M</th>\n",
       "      <td>0.326387</td>\n",
       "      <td>0.292071</td>\n",
       "      <td>0.271116</td>\n",
       "      <td>0.255975</td>\n",
       "      <td>0.243880</td>\n",
       "      <td>0.233758</td>\n",
       "      <td>0.224947</td>\n",
       "      <td>0.217060</td>\n",
       "      <td>0.209852</td>\n",
       "      <td>0.205853</td>\n",
       "      <td>0.196875</td>\n",
       "      <td>0.190887</td>\n",
       "      <td>0.185063</td>\n",
       "      <td>0.179395</td>\n",
       "      <td>0.173872</td>\n",
       "      <td>0.168438</td>\n",
       "      <td>0.162971</td>\n",
       "      <td>0.157278</td>\n",
       "      <td>0.151030</td>\n",
       "    </tr>\n",
       "    <tr>\n",
       "      <th>6M</th>\n",
       "      <td>0.321939</td>\n",
       "      <td>0.287334</td>\n",
       "      <td>0.266410</td>\n",
       "      <td>0.251217</td>\n",
       "      <td>0.239138</td>\n",
       "      <td>0.228986</td>\n",
       "      <td>0.220195</td>\n",
       "      <td>0.212333</td>\n",
       "      <td>0.205167</td>\n",
       "      <td>0.202260</td>\n",
       "      <td>0.192339</td>\n",
       "      <td>0.186427</td>\n",
       "      <td>0.180737</td>\n",
       "      <td>0.175245</td>\n",
       "      <td>0.169952</td>\n",
       "      <td>0.164781</td>\n",
       "      <td>0.159716</td>\n",
       "      <td>0.154552</td>\n",
       "      <td>0.149291</td>\n",
       "    </tr>\n",
       "    <tr>\n",
       "      <th>1Y</th>\n",
       "      <td>0.314001</td>\n",
       "      <td>0.280012</td>\n",
       "      <td>0.259608</td>\n",
       "      <td>0.244591</td>\n",
       "      <td>0.232697</td>\n",
       "      <td>0.222702</td>\n",
       "      <td>0.214066</td>\n",
       "      <td>0.206356</td>\n",
       "      <td>0.199342</td>\n",
       "      <td>0.197929</td>\n",
       "      <td>0.186824</td>\n",
       "      <td>0.181097</td>\n",
       "      <td>0.175628</td>\n",
       "      <td>0.170399</td>\n",
       "      <td>0.165418</td>\n",
       "      <td>0.160622</td>\n",
       "      <td>0.156071</td>\n",
       "      <td>0.151559</td>\n",
       "      <td>0.147402</td>\n",
       "    </tr>\n",
       "  </tbody>\n",
       "</table>\n",
       "</div>"
      ],
      "text/plain": [
       "          5P       10P       15P       20P       25P       30P       35P  \\\n",
       "1W  0.325855  0.295906  0.277152  0.263344  0.252344  0.243005  0.234878   \n",
       "1M  0.328562  0.295672  0.275376  0.260636  0.248850  0.238964  0.230351   \n",
       "3M  0.326387  0.292071  0.271116  0.255975  0.243880  0.233758  0.224947   \n",
       "6M  0.321939  0.287334  0.266410  0.251217  0.239138  0.228986  0.220195   \n",
       "1Y  0.314001  0.280012  0.259608  0.244591  0.232697  0.222702  0.214066   \n",
       "\n",
       "         40P       45P       ATM       45C       40C       35C       30C  \\\n",
       "1W  0.227560  0.220734  0.215082  0.208241  0.202380  0.196599  0.190855   \n",
       "1M  0.222627  0.215502  0.210433  0.202572  0.196586  0.190686  0.184914   \n",
       "3M  0.217060  0.209852  0.205853  0.196875  0.190887  0.185063  0.179395   \n",
       "6M  0.212333  0.205167  0.202260  0.192339  0.186427  0.180737  0.175245   \n",
       "1Y  0.206356  0.199342  0.197929  0.186824  0.181097  0.175628  0.170399   \n",
       "\n",
       "         25C       20C       15C       10C        5C  \n",
       "1W  0.185148  0.179265  0.173056  0.166197  0.157668  \n",
       "1M  0.179205  0.173481  0.167591  0.161244  0.153770  \n",
       "3M  0.173872  0.168438  0.162971  0.157278  0.151030  \n",
       "6M  0.169952  0.164781  0.159716  0.154552  0.149291  \n",
       "1Y  0.165418  0.160622  0.156071  0.151559  0.147402  "
      ]
     },
     "execution_count": 85,
     "metadata": {},
     "output_type": "execute_result"
    }
   ],
   "source": [
    "surface.surface"
   ]
  },
  {
   "cell_type": "code",
   "execution_count": 96,
   "metadata": {},
   "outputs": [
    {
     "data": {
      "image/png": "[encoded data removed]",
      "text/plain": [
       "<matplotlib.figure.Figure at 0x118e96048>"
      ]
     },
     "metadata": {},
     "output_type": "display_data"
    }
   ],
   "source": [
    "k = np.array(surface._log_strike_surface())\n",
    "MV = np.array(surface.surface)\n",
    "\n",
    "plot, axes = plt.subplots()\n",
    "\n",
    "axes.plot(k[0,:], MV[0,:], 'r')\n",
    "axes.plot(k[1,:], MV[1,:], 'm')\n",
    "axes.plot(k[2,:], MV[2,:], 'y')\n",
    "axes.plot(k[3,:], MV[3,:], 'g')\n",
    "axes.plot(0.5*(k[3,:]+k[4,:]), 0.5*(MV[3,:]+MV[4,:]), 'c')\n",
    "axes.plot(k[4,:], MV[4,:], 'b')\n",
    "\n",
    "axes.set_xlabel(r'$k$', fontsize = 14)\n",
    "axes.set_ylabel(r'$IV(k,\\tau)$', fontsize = 14)\n",
    "# axes.set_title(r'$T=$' + surface._tenors[M], fontsize = 14)\n",
    "axes.legend([r'$\\mathsf{1D}$',\n",
    "             r'$\\mathsf{1W}$',\n",
    "             r'$\\mathsf{1M}$',\n",
    "             r'$\\mathsf{3M}$',\n",
    "             r'$\\mathsf{6M}$',\n",
    "             r'$\\mathsf{1Y}$'])\n",
    "\n",
    "plt.grid(True)"
   ]
  },
  {
   "cell_type": "markdown",
   "metadata": {},
   "source": [
    "This is much better. do this for rho = 0 and rho = -0.9, with 1D to 1Y maturities. :)"
   ]
  },
  {
   "cell_type": "markdown",
   "metadata": {},
   "source": [
    "Obtain the smiles from the other open notebook."
   ]
  },
  {
   "cell_type": "code",
   "execution_count": null,
   "metadata": {
    "collapsed": true
   },
   "outputs": [],
   "source": []
  }
 ],
 "metadata": {
  "anaconda-cloud": {},
  "kernelspec": {
   "display_name": "Python [default]",
   "language": "python",
   "name": "python3"
  },
  "language_info": {
   "codemirror_mode": {
    "name": "ipython",
    "version": 3
   },
   "file_extension": ".py",
   "mimetype": "text/x-python",
   "name": "python",
   "nbconvert_exporter": "python",
   "pygments_lexer": "ipython3",
   "version": "3.5.2"
  }
 },
 "nbformat": 4,
 "nbformat_minor": 1
}
