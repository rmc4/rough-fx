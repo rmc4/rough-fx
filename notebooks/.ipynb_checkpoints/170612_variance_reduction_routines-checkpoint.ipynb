{
 "cells": [
  {
   "cell_type": "markdown",
   "metadata": {
    "nbpresent": {
     "id": "b590a017-9bad-4ff8-ac89-d1d90e1ebf09"
    }
   },
   "source": [
    "rBergomi: variance reduction tests\n",
    "=="
   ]
  },
  {
   "cell_type": "markdown",
   "metadata": {},
   "source": [
    "$$S_t = \\mathcal{E} \\left\\{ \\int_0^t \\sqrt{ V_u } \\ \\mathrm{d} \\ (\\rho W^1_u + \\bar{\\rho} W^2_u) \\right\\}, \\quad V_t = \\xi \\ \\mathcal{E} \\left\\{ \\eta \\sqrt{2\\alpha + 1} \\int_0^t (t - u)^\\alpha \\mathrm{d}W^1_u \\right\\},$$"
   ]
  },
  {
   "cell_type": "markdown",
   "metadata": {},
   "source": [
    "CAREFUL WITH WHERE DATA FILES ARE KEPT FOR THIS, BEST TO CHANGE SURFACE CODE TEMPORARILY.\n",
    "MUST GIVE BIAS AND STANDARD DEVIATION ON CHARTS!"
   ]
  },
  {
   "cell_type": "code",
   "execution_count": 1,
   "metadata": {
    "collapsed": true
   },
   "outputs": [],
   "source": [
    "import os\n",
    "os.chdir('/Users/ryanmccrickerd/desktop/phd/2016-17/turbo_rbergomi/rbergomi')"
   ]
  },
  {
   "cell_type": "code",
   "execution_count": 2,
   "metadata": {
    "collapsed": true
   },
   "outputs": [],
   "source": [
    "import numpy as np\n",
    "from matplotlib import pyplot as plt\n",
    "import matplotlib.mlab as mlab\n",
    "from rbergomi import rBergomi\n",
    "from surface import Surface\n",
    "from routines import *\n",
    "% matplotlib inline"
   ]
  },
  {
   "cell_type": "markdown",
   "metadata": {},
   "source": [
    "This should come out with a similar phi to 0.24, if everything is understood."
   ]
  },
  {
   "cell_type": "code",
   "execution_count": 3,
   "metadata": {},
   "outputs": [
    {
     "data": {
      "text/plain": [
       "<function routines.base_run>"
      ]
     },
     "execution_count": 3,
     "metadata": {},
     "output_type": "execute_result"
    }
   ],
   "source": [
    "n1 = 20500 # paths\n",
    "N1 = 1000 # samples\n",
    "rho = -0.0\n",
    "### SELECT ESTIMATOR ########################\n",
    "estimator = 'Base'\n",
    "# estimator = 'Antithetic'\n",
    "# estimator = 'Conditional'\n",
    "# estimator = 'Controlled'\n",
    "# estimator = 'Mixed'\n",
    "#############################################\n",
    "method_dict = {'Base':base_run,\n",
    "               'Antithetic':base_run,\n",
    "               'Conditional':conditional_mc, # optimise before using!\n",
    "               'Controlled':timer_control,\n",
    "               'Mixed':optimal_run}\n",
    "method = method_dict[estimator]\n",
    "method"
   ]
  },
  {
   "cell_type": "code",
   "execution_count": 4,
   "metadata": {
    "collapsed": true
   },
   "outputs": [],
   "source": [
    "### SELECT AS SAMPLING ########################\n",
    "### ALWAYS SELECT AS !!! ######################\n",
    "AS = True\n",
    "# AS = False\n",
    "if estimator == 'Base':\n",
    "    AS = False\n",
    "    \n",
    "if estimator == 'Conditional' or estimator == 'Mixed':\n",
    "    n1 = int(2*n1)\n",
    "\n",
    "rbergomi = rBergomi(n = 8, N = n1, T = 0.25, a = -0.43, AS = AS)\n",
    "\n",
    "if estimator == 'Conditional' or estimator == 'Mixed':\n",
    "    n1 = int(n1/2)"
   ]
  },
  {
   "cell_type": "code",
   "execution_count": 5,
   "metadata": {},
   "outputs": [
    {
     "data": {
      "text/html": [
       "<div>\n",
       "<table border=\"1\" class=\"dataframe\">\n",
       "  <thead>\n",
       "    <tr style=\"text-align: right;\">\n",
       "      <th></th>\n",
       "      <th>10P</th>\n",
       "      <th>ATM</th>\n",
       "      <th>10C</th>\n",
       "    </tr>\n",
       "  </thead>\n",
       "  <tbody>\n",
       "    <tr>\n",
       "      <th>3M</th>\n",
       "      <td>0.241656</td>\n",
       "      <td>0.217273</td>\n",
       "      <td>0.246561</td>\n",
       "    </tr>\n",
       "  </tbody>\n",
       "</table>\n",
       "</div>"
      ],
      "text/plain": [
       "         10P       ATM       10C\n",
       "3M  0.241656  0.217273  0.246561"
      ]
     },
     "execution_count": 5,
     "metadata": {},
     "output_type": "execute_result"
    }
   ],
   "source": [
    "### SELECT DATA ##############################\n",
    "\n",
    "data_dict = {'-0.9':'base',\n",
    "             '-0.0':'rho'}\n",
    "data = data_dict[str(rho)]\n",
    "surface = Surface('3m', data, close = False)\n",
    "surface.surface"
   ]
  },
  {
   "cell_type": "code",
   "execution_count": 6,
   "metadata": {},
   "outputs": [
    {
     "data": {
      "text/html": [
       "<div>\n",
       "<table border=\"1\" class=\"dataframe\">\n",
       "  <thead>\n",
       "    <tr style=\"text-align: right;\">\n",
       "      <th></th>\n",
       "      <th>10P</th>\n",
       "      <th>ATM</th>\n",
       "      <th>10C</th>\n",
       "    </tr>\n",
       "  </thead>\n",
       "  <tbody>\n",
       "    <tr>\n",
       "      <th>3M</th>\n",
       "      <td>-0.147548</td>\n",
       "      <td>0.0</td>\n",
       "      <td>0.165589</td>\n",
       "    </tr>\n",
       "  </tbody>\n",
       "</table>\n",
       "</div>"
      ],
      "text/plain": [
       "         10P  ATM       10C\n",
       "3M -0.147548  0.0  0.165589"
      ]
     },
     "execution_count": 6,
     "metadata": {},
     "output_type": "execute_result"
    }
   ],
   "source": [
    "surface._log_strike_surface()"
   ]
  },
  {
   "cell_type": "code",
   "execution_count": 7,
   "metadata": {},
   "outputs": [
    {
     "data": {
      "text/html": [
       "<div>\n",
       "<table border=\"1\" class=\"dataframe\">\n",
       "  <thead>\n",
       "    <tr style=\"text-align: right;\">\n",
       "      <th></th>\n",
       "      <th>10P</th>\n",
       "      <th>ATM</th>\n",
       "      <th>10C</th>\n",
       "    </tr>\n",
       "  </thead>\n",
       "  <tbody>\n",
       "    <tr>\n",
       "      <th>3M</th>\n",
       "      <td>0.1</td>\n",
       "      <td>0.478341</td>\n",
       "      <td>0.9</td>\n",
       "    </tr>\n",
       "  </tbody>\n",
       "</table>\n",
       "</div>"
      ],
      "text/plain": [
       "    10P       ATM  10C\n",
       "3M  0.1  0.478341  0.9"
      ]
     },
     "execution_count": 7,
     "metadata": {},
     "output_type": "execute_result"
    }
   ],
   "source": [
    "surface._put_deltas()"
   ]
  },
  {
   "cell_type": "code",
   "execution_count": 8,
   "metadata": {
    "collapsed": true
   },
   "outputs": [],
   "source": [
    "### SELECT RHO #############################\n",
    "kwargs = {'xi':0.235**2, 'eta':1.9, 'rho':rho}"
   ]
  },
  {
   "cell_type": "markdown",
   "metadata": {},
   "source": [
    "Select implied vol construction here"
   ]
  },
  {
   "cell_type": "code",
   "execution_count": 9,
   "metadata": {
    "collapsed": true
   },
   "outputs": [],
   "source": [
    "np.random.seed(0)"
   ]
  },
  {
   "cell_type": "code",
   "execution_count": 10,
   "metadata": {},
   "outputs": [
    {
     "name": "stdout",
     "output_type": "stream",
     "text": [
      "1 loop, best of 3: 2.02 s per loop\n"
     ]
    }
   ],
   "source": [
    "%%timeit\n",
    "IV = method(rbergomi, surface, **kwargs)\n",
    "# Run this a few times so that libraries loaded."
   ]
  },
  {
   "cell_type": "code",
   "execution_count": 11,
   "metadata": {
    "collapsed": true
   },
   "outputs": [],
   "source": [
    "from datetime import datetime"
   ]
  },
  {
   "cell_type": "code",
   "execution_count": 12,
   "metadata": {
    "collapsed": true
   },
   "outputs": [],
   "source": [
    "# trials = 10\n",
    "# np.random.seed(0)\n",
    "# IV = method(rbergomi, surface, **kwargs)\n",
    "# t0 = datetime.now()\n",
    "# for i in range(trials):\n",
    "#     IV = method(rbergomi, surface, **kwargs)\n",
    "# t1 = datetime.now()\n",
    "# dt = (t1 - t0) / trials\n",
    "# runtime = 1000 * (dt.seconds + dt.microseconds/1e6)\n",
    "# runtime\n",
    "# # runtime = np.round(dt.seconds + dt.microseconds/1e6, decimals = 3)"
   ]
  },
  {
   "cell_type": "markdown",
   "metadata": {},
   "source": [
    "Recall must iterate input file vols to a fixed point. Use 250,000 antithetic paths for this."
   ]
  },
  {
   "cell_type": "code",
   "execution_count": 13,
   "metadata": {
    "collapsed": true
   },
   "outputs": [],
   "source": [
    "# Set to 10000 with 50 buckets for final charts\n",
    "replications = N1"
   ]
  },
  {
   "cell_type": "code",
   "execution_count": 14,
   "metadata": {
    "collapsed": true
   },
   "outputs": [],
   "source": [
    "# minutes = np.round(N1 * runtime / 1000 / 60, decimals = 1)\n",
    "# print('Beware, the folling calculation will take ' + str(minutes) + ' minutes!')"
   ]
  },
  {
   "cell_type": "markdown",
   "metadata": {},
   "source": [
    "This section should take the same amount of time for each. N should be scaled accordingly."
   ]
  },
  {
   "cell_type": "code",
   "execution_count": 15,
   "metadata": {},
   "outputs": [
    {
     "name": "stdout",
     "output_type": "stream",
     "text": [
      "runtime is set to 2177.6 milliseconds\n",
      "0\n"
     ]
    }
   ],
   "source": [
    "x = np.arange(replications)\n",
    "y = 100 * np.squeeze(np.array(surface.surface)) # True implied vols\n",
    "IV_observations = np.zeros((replications, 3))\n",
    "np.random.seed(0)\n",
    "t0 = datetime.now()\n",
    "for i in range(replications):\n",
    "    IV_observations[i,:] = method(rbergomi, surface, **kwargs)\n",
    "#     if i%100 == 0:\n",
    "#         print(i)\n",
    "\n",
    "t1 = datetime.now()\n",
    "dt = (t1 - t0) / N1\n",
    "runtime = 1000 * (dt.seconds + dt.microseconds/1e6)\n",
    "print('runtime is set to', np.round(runtime,1), 'milliseconds')\n",
    "\n",
    "#     if IV_observations[i,0] < 0.01:\n",
    "#         IV_observations[i,0] = y[0]/100.\n",
    "#         i -= 1\n",
    "k=0\n",
    "for i in range(3):\n",
    "    for j in range(replications):\n",
    "        if IV_observations[j,i] < 0.01:\n",
    "            IV_observations[j,i] = y[i]/100.\n",
    "            k+=1\n",
    "print(k)"
   ]
  },
  {
   "cell_type": "code",
   "execution_count": 16,
   "metadata": {},
   "outputs": [
    {
     "name": "stdout",
     "output_type": "stream",
     "text": [
      "Saved at: /Users/ryanmccrickerd/desktop/X4Y3_0_20500_1000_Base.png\n"
     ]
    },
    {
     "data": {
      "image/png": "[encoded data removed]",
      "text/plain": [
       "<matplotlib.figure.Figure at 0x13faca710>"
      ]
     },
     "metadata": {},
     "output_type": "display_data"
    }
   ],
   "source": [
    "log_strikes = np.array(surface._log_strike_surface())[0]\n",
    "IV_true = np.array(surface.surface)\n",
    "IV_errors = IV_observations - IV_true\n",
    "IV_errors *= 100\n",
    "IV_mean = np.mean(IV_errors, axis = 0)\n",
    "IV_std = np.std(IV_errors, axis = 0)\n",
    "r = np.round(rho,2)\n",
    "fs = 16\n",
    "# Three subplots, unpack the axes array immediately\n",
    "f, (ax1, ax2, ax3) = plt.subplots(1, 3, sharey = True, sharex = True)\n",
    "\n",
    "n, bins, patches = ax1.hist(IV_errors[:,0], 30, normed=100, fc='blue', ec='black', alpha=0.25, rwidth=0.9)\n",
    "\n",
    "# add a 'best fit' line\n",
    "norm_fit = mlab.normpdf(bins, IV_mean[0], IV_std[0])\n",
    "ax1.plot(bins, norm_fit, 'r', linewidth = 2)\n",
    "\n",
    "n, bins, patches = ax2.hist(IV_errors[:,1], 30, normed=100, fc='blue', ec='black', alpha=0.25, rwidth=0.9)\n",
    "\n",
    "# add a 'best fit' line\n",
    "norm_fit = mlab.normpdf(bins, IV_mean[1], IV_std[1])\n",
    "ax2.plot(bins, norm_fit, 'r', linewidth = 2)\n",
    "\n",
    "n, bins, patches = ax3.hist(IV_errors[:,2], 30, normed=100, fc='blue', ec='black', alpha=0.25, rwidth=0.9)\n",
    "\n",
    "# add a 'best fit' line\n",
    "norm_fit = mlab.normpdf(bins, IV_mean[2], IV_std[2])\n",
    "ax3.plot(bins, norm_fit, 'r', linewidth = 2)\n",
    "\n",
    "t = runtime\n",
    "RM = runtime * np.sum(IV_std**2)/len(IV_std)\n",
    "RMSE = np.sqrt(np.sum(IV_std**2)/len(IV_std))\n",
    "# Set x and y axes labels\n",
    "# if rho == 0:\n",
    "#     ax1.set_ylabel(r'$\\mathrm{Density}$', fontsize = 16)\n",
    "if estimator == 'Base':\n",
    "#     ax2.set_xlabel(r'$\\mathrm{Base\\ error:\\ 100}( \\hat{\\sigma}^n_{BS\\ i} - \\sigma_{BS} ).\\ \\rho = %.1f,\\ n = %.0f,\\ \\tau = %.1f ms,\\ N = %.0f,\\ \\psi^2 = %.1f.}$'%(r, n1, t, N1, RM), fontsize = fs)\n",
    "#     ax2.set_xlabel(r'$\\mathrm{Base\\ error:\\ 100}( \\hat{\\sigma}^n_{BS\\ i} - \\sigma_{BS} ).\\ \\rho = %.1f,\\ n = %.0f,\\ \\tau = 114.4ms,\\ N = %.0f,\\ \\psi^2 = 131.4}$'%(r, n1, N1), fontsize = fs)\n",
    "    ax2.set_xlabel(r'$\\mathrm{Base\\ error:\\ 100}( \\hat{\\sigma}^n_{BS\\ i} - \\sigma_{BS} ).\\ \\rho = %.1f,\\ n = %.0f,\\ \\tau = 114.6ms,\\ N = %.0f,\\ \\psi^2 = 133.6}$'%(r, n1, N1), fontsize = fs)\n",
    "elif estimator == 'Put':\n",
    "    ax2.set_xlabel(r'$\\mathrm{Put\\ error:\\ 100}( \\hat{\\sigma}^n_{BS\\ i} - \\sigma_{BS} ).\\ \\rho = %.1f,\\ n = %.0f,\\ \\tau = %.1f ms,\\ N = %.0f,\\ \\psi^2 = %.1f.}$'%(r, n1, t, N1, RM), fontsize = fs)\n",
    "elif estimator == 'Antithetic':\n",
    "    ax2.set_xlabel(r'$\\mathrm{Antithetic\\ error:\\ 100}( \\hat{\\sigma}^n_{BS\\ i} - \\sigma_{BS} ).\\ \\rho = %.1f,\\ n = %.0f,\\ \\tau = %.1f ms,\\ N = %.0f,\\ \\psi^2 = %.1f.}$'%(r, n1, t, N1, RM), fontsize = fs)\n",
    "elif estimator == 'Conditional':   \n",
    "    ax2.set_xlabel(r'$\\mathrm{Conditional\\ error:\\ 100}( \\hat{\\sigma}^n_{BS\\ i} - \\sigma_{BS} ).\\ \\rho = %.1f,\\ n = %.0f,\\ \\tau = %.1f ms,\\ N = %.0f,\\ \\psi^2 = %.1f.}$'%(r, n1, t, N1, RM), fontsize = fs)\n",
    "elif estimator == 'Controlled':\n",
    "    ax2.set_xlabel(r'$\\mathrm{Controlled\\ error:\\ 100}( \\hat{\\sigma}^n_{BS\\ i} - \\sigma_{BS} ).\\ \\rho = %.1f,\\ n = %.0f,\\ \\tau = %.1f ms,\\ N = %.0f,\\ \\psi^2 = %.1f.}$'%(r, n1, t, N1, RM), fontsize = fs)\n",
    "elif estimator == 'Mixed':\n",
    "#     ax2.set_xlabel(r'$\\mathrm{Mixed\\ error:\\ 100}( \\hat{\\sigma}^n_{BS\\ i} - \\sigma_{BS} ).\\ \\rho = %.1f,\\ n = %.0f,\\ \\tau = %.1f ms,\\ N = %.0f,\\ \\psi^2 = %.1f.}$'%(r, n1, t, N1, RM), fontsize = fs)\n",
    "#     ax2.set_xlabel(r'$\\mathrm{Mixed\\ error:\\ 100}( \\hat{\\sigma}^n_{BS\\ i} - \\sigma_{BS} ).\\ \\rho = %.1f,\\ n = %.0f,\\ \\tau = 70.6ms,\\ N = %.0f,\\ \\psi^2 = 10.4}$'%(r, n1, N1), fontsize = fs)\n",
    "    ax2.set_xlabel(r'$\\mathrm{Mixed\\ error:\\ 100}( \\hat{\\sigma}^n_{BS\\ i} - \\sigma_{BS} ).\\ \\rho = %.1f,\\ n = %.0f,\\ \\tau = 69.8ms,\\ N = %.0f,\\ \\psi^2 = 3.9}$'%(r, n1, N1), fontsize = fs)\n",
    "# else:\n",
    "#     ax1.set_ylabel(r'$\\mathrm{Density}$', fontsize = 16)\n",
    "\n",
    "# Set titles\n",
    "# if rho == -0.9:\n",
    "ax1.set_title(r'$\\mathrm{10\\ Delta \\ Put}$', fontsize = fs)\n",
    "ax2.set_title(r'$\\mathrm{ATM}$', fontsize = fs)\n",
    "ax3.set_title(r'$\\mathrm{10\\ Delta \\ Call}$', fontsize = fs)\n",
    "\n",
    "# these are matplotlib.patch.Patch properties\n",
    "props = dict(boxstyle='round', facecolor='white')\n",
    "\n",
    "b = np.round(IV_mean[0],2)\n",
    "s = np.round(IV_std[0],2)\n",
    "k = np.round(log_strikes[0],2)\n",
    "IV = 100*IV_true[0][0]\n",
    "textstr = '$k=%.2f$\\n$\\sigma_{BS}=%.1f$\\n$\\mathrm{B}=%.2f$\\n$\\mathrm{S}=%.2f$'%(k, IV, b, s)\n",
    "# textstr = '$n=%.0E$\\n$N=%.0E$\\n$\\\\rho=%.2f$\\n$k=%.2f$\\n$\\mathrm{B}=%.2f$\\n$\\mathrm{S}=%.2f$'%(n1, N1, r, k, b, s)\n",
    "\n",
    "# textstr = 'a'\n",
    "\n",
    "# place a text box in upper left in axes coords\n",
    "ax1.text(0.04, 0.93, textstr, transform=ax1.transAxes, fontsize=13,\n",
    "        va='top', ha='left', bbox=props)\n",
    "\n",
    "b = np.round(IV_mean[1],2)\n",
    "s = np.round(IV_std[1],2)\n",
    "k = np.round(log_strikes[1],2)\n",
    "IV = 100*IV_true[0][1]\n",
    "textstr = '$k=%.2f$\\n$\\sigma_{BS}=%.1f$\\n$\\mathrm{B}=%.2f$\\n$\\mathrm{S}=%.2f$'%(k, IV, b, s)\n",
    "\n",
    "# place a text box in upper left in axes coords\n",
    "ax2.text(0.04, 0.93, textstr, transform=ax2.transAxes, fontsize=13,\n",
    "        va='top', ha='left', bbox=props)\n",
    "\n",
    "b = np.round(IV_mean[2],2)\n",
    "s = np.round(IV_std[2],2)\n",
    "k = np.round(log_strikes[2],2)\n",
    "IV = 100*IV_true[0][2]\n",
    "textstr = '$k=%.2f$\\n$\\sigma_{BS}=%.1f$\\n$\\mathrm{B}=%.2f$\\n$\\mathrm{S}=%.2f$'%(k, IV, b, s)\n",
    "\n",
    "# place a text box in upper left in axes coords\n",
    "ax3.text(0.04, 0.93, textstr, transform=ax3.transAxes, fontsize=13,\n",
    "        va='top', ha='left', bbox=props)\n",
    "\n",
    "# Apply grids\n",
    "ax1.grid(True)\n",
    "ax2.grid(True)\n",
    "ax3.grid(True)\n",
    "\n",
    "# Remove meaningless y axis densities\n",
    "# ax1.yaxis.set_visible(False)\n",
    "# ax2.yaxis.set_visible(False)\n",
    "# ax3.yaxis.set_visible(False)\n",
    "\n",
    "# ax2.xaxis.set_ticks(np.linspace(-2,2,5))\n",
    "# ax3.xaxis.set_ticks(np.linspace(-2,2,5))\n",
    "\n",
    "# ax1.set_ylim([0,7])\n",
    "#ax1.set_ylim([0,4])\n",
    "\n",
    "# for tick in ax1.xaxis.get_major_ticks():\n",
    "#     tick.label.set_fontsize(12)\n",
    "# for tick in ax2.xaxis.get_major_ticks():\n",
    "#     tick.label.set_fontsize(12)\n",
    "# for tick in ax3.xaxis.get_major_ticks():\n",
    "#     tick.label.set_fontsize(12)\n",
    "f.set_size_inches(12, 2.5)\n",
    "save_path = '/Users/ryanmccrickerd/desktop/'\n",
    "\n",
    "# for x in [1,2,4]:\n",
    "#     for y in [1,2,3,4]:\n",
    "for x in [4]:\n",
    "    for y in [3]:        \n",
    "        ax1.set_xlim([-x,x])\n",
    "        ax1.xaxis.set_ticks(np.linspace(-x,x,5))\n",
    "        ax1.set_ylim([0,y])\n",
    "        ax1.yaxis.set_ticks(np.linspace(0,y,y+1))\n",
    "        fig_name = 'X'+str(x) +'Y'+str(y) +'_'+ str(rho)[-1] +'_'+ str(n1) +'_'+ str(N1) +'_'+ estimator\n",
    "        # plt.gcf().subplots_adjust(bottom=0.16)\n",
    "        fname = save_path + fig_name + '.png'\n",
    "        f.savefig(fname, bbox_inches='tight')\n",
    "        print('Saved at:', fname)\n",
    "    \n",
    "# fname = '/Users/ryanmccrickerd/Desktop/phd/2017-18/turbo/histogram3.pdf'\n",
    "# plt.savefig(fname, dpi=300, bbox_inches='tight')"
   ]
  },
  {
   "cell_type": "markdown",
   "metadata": {},
   "source": [
    "Need to place Y scale in file names too ! Defined by highest in optimal case. looks like 3."
   ]
  },
  {
   "cell_type": "code",
   "execution_count": 17,
   "metadata": {},
   "outputs": [
    {
     "data": {
      "text/plain": [
       "0.24165647564612899"
      ]
     },
     "execution_count": 17,
     "metadata": {},
     "output_type": "execute_result"
    }
   ],
   "source": [
    "IV_true[0][0]"
   ]
  },
  {
   "cell_type": "code",
   "execution_count": 18,
   "metadata": {
    "collapsed": true
   },
   "outputs": [],
   "source": [
    "# print('Means =', IV_mean)\n",
    "# print('Stds =', IV_std)"
   ]
  },
  {
   "cell_type": "code",
   "execution_count": 19,
   "metadata": {
    "collapsed": true
   },
   "outputs": [],
   "source": [
    "# import cProfile"
   ]
  },
  {
   "cell_type": "code",
   "execution_count": 20,
   "metadata": {
    "collapsed": true
   },
   "outputs": [],
   "source": [
    "# pr = cProfile.Profile()\n",
    "# pr.run('method(rbergomi, surface, **kwargs)')"
   ]
  },
  {
   "cell_type": "code",
   "execution_count": 21,
   "metadata": {
    "collapsed": true
   },
   "outputs": [],
   "source": [
    "# pr.print_stats(sort='cumtime')"
   ]
  },
  {
   "cell_type": "code",
   "execution_count": 22,
   "metadata": {},
   "outputs": [
    {
     "data": {
      "text/html": [
       "<div>\n",
       "<table border=\"1\" class=\"dataframe\">\n",
       "  <thead>\n",
       "    <tr style=\"text-align: right;\">\n",
       "      <th></th>\n",
       "      <th>5P</th>\n",
       "      <th>10P</th>\n",
       "      <th>15P</th>\n",
       "      <th>20P</th>\n",
       "      <th>25P</th>\n",
       "      <th>30P</th>\n",
       "      <th>35P</th>\n",
       "      <th>40P</th>\n",
       "      <th>45P</th>\n",
       "      <th>ATM</th>\n",
       "      <th>45C</th>\n",
       "      <th>40C</th>\n",
       "      <th>35C</th>\n",
       "      <th>30C</th>\n",
       "      <th>25C</th>\n",
       "      <th>20C</th>\n",
       "      <th>15C</th>\n",
       "      <th>10C</th>\n",
       "      <th>5C</th>\n",
       "    </tr>\n",
       "  </thead>\n",
       "  <tbody>\n",
       "    <tr>\n",
       "      <th>3M</th>\n",
       "      <td>0.257699</td>\n",
       "      <td>0.241656</td>\n",
       "      <td>0.233083</td>\n",
       "      <td>0.227538</td>\n",
       "      <td>0.223711</td>\n",
       "      <td>0.221002</td>\n",
       "      <td>0.219143</td>\n",
       "      <td>0.217949</td>\n",
       "      <td>0.217362</td>\n",
       "      <td>0.217273</td>\n",
       "      <td>0.217839</td>\n",
       "      <td>0.218903</td>\n",
       "      <td>0.220575</td>\n",
       "      <td>0.22293</td>\n",
       "      <td>0.226165</td>\n",
       "      <td>0.230622</td>\n",
       "      <td>0.236906</td>\n",
       "      <td>0.246561</td>\n",
       "      <td>0.264556</td>\n",
       "    </tr>\n",
       "  </tbody>\n",
       "</table>\n",
       "</div>"
      ],
      "text/plain": [
       "          5P       10P       15P       20P       25P       30P       35P  \\\n",
       "3M  0.257699  0.241656  0.233083  0.227538  0.223711  0.221002  0.219143   \n",
       "\n",
       "         40P       45P       ATM       45C       40C       35C      30C  \\\n",
       "3M  0.217949  0.217362  0.217273  0.217839  0.218903  0.220575  0.22293   \n",
       "\n",
       "         25C       20C       15C       10C        5C  \n",
       "3M  0.226165  0.230622  0.236906  0.246561  0.264556  "
      ]
     },
     "execution_count": 22,
     "metadata": {},
     "output_type": "execute_result"
    }
   ],
   "source": [
    "full_surface = Surface('3m_full', data, close = False)\n",
    "full_surface.surface"
   ]
  },
  {
   "cell_type": "code",
   "execution_count": 23,
   "metadata": {},
   "outputs": [
    {
     "name": "stdout",
     "output_type": "stream",
     "text": [
      "Saved at: /Users/ryanmccrickerd/desktop/0_20500_1000_Base.png\n"
     ]
    },
    {
     "data": {
      "image/png": "[encoded data removed]",
      "text/plain": [
       "<matplotlib.figure.Figure at 0x14177a3c8>"
      ]
     },
     "metadata": {},
     "output_type": "display_data"
    }
   ],
   "source": [
    "k_full = np.array(full_surface._log_strike_surface())\n",
    "MV_full = np.array(full_surface.surface)\n",
    "k = np.array(surface._log_strike_surface())\n",
    "\n",
    "means = np.array(surface.surface) + IV_mean/100\n",
    "lower = means + 2*IV_std/100\n",
    "upper = means - 2*IV_std/100\n",
    "\n",
    "plot, axes = plt.subplots(figsize=(4,2.5))\n",
    "\n",
    "# axes.plot(k[0,:], MV[0,:], 'r')\n",
    "# axes.plot(k[1,:], MV[1,:], 'm')\n",
    "# axes.plot(k[2,:], MV[2,:], 'y')\n",
    "axes.plot(k_full[0,:], MV_full[0,:], 'g')\n",
    "axes.plot(k[0,:], means[0,:], 'ro', fillstyle = 'none', ms = 7, mew = 1)\n",
    "axes.plot(k[0,:], lower[0,:], 'k_', fillstyle = 'none', ms = 7, mew = 1.5)\n",
    "axes.plot(k[0,:], upper[0,:], 'k_', fillstyle = 'none', ms = 7, mew = 1.5)\n",
    "for i in range(3):\n",
    "    axes.plot([k[0,i],k[0,i]], [lower[0,i],upper[0,i]], 'k', linewidth = 0.5)\n",
    "# axes.plot(k[4,:], MV[4,:], 'c')\n",
    "# axes.plot(k[5,:], MV[5,:], 'b')\n",
    "\n",
    "axes.set_xlabel(r'$k$', fontsize = 16)\n",
    "axes.set_ylabel(r'$\\sigma_{BS}(k,t)$', fontsize = 16)\n",
    "axes.set_title(r'$\\rho = %.1f,\\ \\phi = %.2f}$'%(r,RMSE), fontsize = 16)\n",
    "# axes.legend([r'$\\mathsf{3M}$'], prop={'size':11}, loc=3)\n",
    "if r == 0:    \n",
    "    xlim = 0.2\n",
    "    plt.xlim([-xlim,xlim])\n",
    "    axes.xaxis.set_ticks(np.linspace(-xlim,xlim,5))\n",
    "    plt.ylim([0.14,0.3401])\n",
    "    axes.yaxis.set_ticks(np.linspace(0.14,0.34,5))\n",
    "else:\n",
    "    plt.xlim([-0.25,0.15])\n",
    "    axes.xaxis.set_ticks(np.linspace(-0.25,0.15,5))\n",
    "    plt.ylim([0.14,0.3401])\n",
    "    axes.yaxis.set_ticks(np.linspace(0.14,0.34,5))\n",
    "plt.grid(True)\n",
    "\n",
    "save_path = '/Users/ryanmccrickerd/desktop/'\n",
    "fig_name = str(rho)[-1] +'_'+ str(n1) +'_'+ str(N1) +'_'+ estimator\n",
    "fname = save_path + fig_name + '.png'\n",
    "plot.savefig(fname, bbox_inches='tight')\n",
    "print('Saved at:', fname)\n",
    "\n",
    "fname = '/Users/ryanmccrickerd/Desktop/phd/2017-18/turbo/bounds5.pdf'\n",
    "plt.savefig(fname, dpi=300, bbox_inches='tight')"
   ]
  },
  {
   "cell_type": "code",
   "execution_count": null,
   "metadata": {
    "collapsed": true
   },
   "outputs": [],
   "source": []
  }
 ],
 "metadata": {
  "anaconda-cloud": {},
  "kernelspec": {
   "display_name": "Python [default]",
   "language": "python",
   "name": "python3"
  },
  "language_info": {
   "codemirror_mode": {
    "name": "ipython",
    "version": 3
   },
   "file_extension": ".py",
   "mimetype": "text/x-python",
   "name": "python",
   "nbconvert_exporter": "python",
   "pygments_lexer": "ipython3",
   "version": "3.5.2"
  }
 },
 "nbformat": 4,
 "nbformat_minor": 1
}
