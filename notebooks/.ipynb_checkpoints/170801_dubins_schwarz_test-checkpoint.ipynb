{
 "cells": [
  {
   "cell_type": "markdown",
   "metadata": {
    "nbpresent": {
     "id": "b590a017-9bad-4ff8-ac89-d1d90e1ebf09"
    }
   },
   "source": [
    "Demonstration the Volterra process and resulting price processes\n",
    "=="
   ]
  },
  {
   "cell_type": "markdown",
   "metadata": {
    "nbpresent": {
     "id": "4523a2f1-a876-4216-a222-c3e0c4d62e9a"
    }
   },
   "source": [
    "Change directory to folder with rBergomi scripts"
   ]
  },
  {
   "cell_type": "code",
   "execution_count": 1,
   "metadata": {
    "collapsed": true,
    "nbpresent": {
     "id": "d3eb17f0-eba6-4483-b962-9fc62b4ae12b"
    }
   },
   "outputs": [],
   "source": [
    "import os\n",
    "os.chdir('/Users/ryanmccrickerd/desktop/rbergomi/rbergomi')"
   ]
  },
  {
   "cell_type": "markdown",
   "metadata": {
    "nbpresent": {
     "id": "d95b28a8-a3ad-42d8-b1de-453db5f619a8"
    }
   },
   "source": [
    "Import required libraries and classes"
   ]
  },
  {
   "cell_type": "code",
   "execution_count": 2,
   "metadata": {
    "collapsed": true,
    "nbpresent": {
     "id": "577b9e39-b12e-4ca8-9b95-fdb814c09a91"
    },
    "scrolled": true
   },
   "outputs": [],
   "source": [
    "import numpy as np\n",
    "from matplotlib import pyplot as plt\n",
    "from rbergomi import rBergomi\n",
    "from surface import Surface\n",
    "from calibrate import Calibrate\n",
    "% matplotlib inline"
   ]
  },
  {
   "cell_type": "markdown",
   "metadata": {
    "nbpresent": {
     "id": "c235967a-8303-4e62-abf1-10e5c7229c9f"
    }
   },
   "source": [
    "Create instance of the rBergomi class with granularity $n \\times 156$, paths $N$, max maturity $T$ and roughness index $a$"
   ]
  },
  {
   "cell_type": "code",
   "execution_count": 282,
   "metadata": {
    "collapsed": true,
    "nbpresent": {
     "id": "c6acd2d1-8354-4afc-b6ce-fe12e3358df1"
    }
   },
   "outputs": [],
   "source": [
    "rbergomi = rBergomi(n = 8, N = 100000, T = 0.25, a = -0.43, AS = False)"
   ]
  },
  {
   "cell_type": "markdown",
   "metadata": {
    "nbpresent": {
     "id": "104e4831-a151-403d-91de-d5190e5f4001"
    }
   },
   "source": [
    "Fix the generator's seed for replicable simulation results"
   ]
  },
  {
   "cell_type": "markdown",
   "metadata": {
    "nbpresent": {
     "id": "6edc32ba-80b0-41e0-a268-bcd279fbf478"
    }
   },
   "source": [
    "Generate required orthogonal random numbers. Recall $W_1$ is mulivariate (required for the hybrid scheme), depending on $a$"
   ]
  },
  {
   "cell_type": "markdown",
   "metadata": {},
   "source": [
    "USE 400 HERE FOR NICE RESULTS"
   ]
  },
  {
   "cell_type": "code",
   "execution_count": 283,
   "metadata": {
    "collapsed": true
   },
   "outputs": [],
   "source": [
    "seed = 0"
   ]
  },
  {
   "cell_type": "code",
   "execution_count": 284,
   "metadata": {
    "collapsed": true,
    "nbpresent": {
     "id": "d48220f4-a06c-4182-b6ea-bfdef938934b"
    }
   },
   "outputs": [],
   "source": [
    "np.random.seed(seed)\n",
    "dW1 = rbergomi.dW1()\n",
    "dW2 = rbergomi.dW2()"
   ]
  },
  {
   "cell_type": "markdown",
   "metadata": {
    "nbpresent": {
     "id": "fda3303d-3c49-4b89-b4f4-049d78ded1f1"
    }
   },
   "source": [
    "Construct the truncated BSS process, $Y(t)$"
   ]
  },
  {
   "cell_type": "code",
   "execution_count": 285,
   "metadata": {
    "collapsed": true,
    "nbpresent": {
     "id": "5e7430b0-873d-4756-ab2c-f4069dc668b3"
    }
   },
   "outputs": [],
   "source": [
    "Y = rbergomi.Y(dW1)"
   ]
  },
  {
   "cell_type": "markdown",
   "metadata": {},
   "source": [
    "*Now demonstrate this!*"
   ]
  },
  {
   "cell_type": "code",
   "execution_count": 286,
   "metadata": {
    "collapsed": true,
    "nbpresent": {
     "id": "f95288a5-2adb-483f-8488-c6ebd08f1027"
    }
   },
   "outputs": [],
   "source": [
    "dB = rbergomi.dB(dW1, dW2, rho = -1.0)"
   ]
  },
  {
   "cell_type": "markdown",
   "metadata": {
    "nbpresent": {
     "id": "b39ab489-9218-4ba6-a971-74813f713283"
    }
   },
   "source": [
    "Construct the variance process, $v(t)$ using piecewise flat $\\xi(t)$"
   ]
  },
  {
   "cell_type": "code",
   "execution_count": 287,
   "metadata": {
    "collapsed": true,
    "nbpresent": {
     "id": "207584be-40fb-4957-833c-0e11ab89433d"
    }
   },
   "outputs": [],
   "source": [
    "V = rbergomi.V(Y, xi = 0.235**2, eta = 1.9)"
   ]
  },
  {
   "cell_type": "markdown",
   "metadata": {
    "nbpresent": {
     "id": "83d17e74-5d6a-4f1a-a58d-349d082fb1df"
    }
   },
   "source": [
    "Finally the rBergomi and rFX price process, $S(t)$"
   ]
  },
  {
   "cell_type": "code",
   "execution_count": 288,
   "metadata": {
    "collapsed": true,
    "nbpresent": {
     "id": "698f4b14-0398-46bb-88aa-c822fcff2ad1"
    }
   },
   "outputs": [],
   "source": [
    "S = rbergomi.S(V, dB)"
   ]
  },
  {
   "cell_type": "code",
   "execution_count": 300,
   "metadata": {
    "collapsed": true
   },
   "outputs": [],
   "source": [
    "k = 0.1041"
   ]
  },
  {
   "cell_type": "code",
   "execution_count": 301,
   "metadata": {},
   "outputs": [
    {
     "data": {
      "text/plain": [
       "0.14394300845873959"
      ]
     },
     "execution_count": 301,
     "metadata": {},
     "output_type": "execute_result"
    }
   ],
   "source": [
    "from rbergomi_utils import blsimpv\n",
    "P = np.mean(np.maximum(S[:,-1] - np.exp(k),0))\n",
    "vol = blsimpv(P,1,np.exp(k),0.25)\n",
    "vol"
   ]
  },
  {
   "cell_type": "code",
   "execution_count": 302,
   "metadata": {},
   "outputs": [],
   "source": [
    "intV = np.cumsum(V,axis = 1)*rbergomi.dt"
   ]
  },
  {
   "cell_type": "code",
   "execution_count": 303,
   "metadata": {},
   "outputs": [
    {
     "data": {
      "text/plain": [
       "(100000, 313)"
      ]
     },
     "execution_count": 303,
     "metadata": {},
     "output_type": "execute_result"
    }
   ],
   "source": [
    "np.shape(intV)"
   ]
  },
  {
   "cell_type": "code",
   "execution_count": 252,
   "metadata": {},
   "outputs": [],
   "source": [
    "P = 0\n",
    "\n",
    "for v in intV[:,-1]:\n",
    "    rand = np.random.normal(0,np.sqrt(v))\n",
    "    logS = rand - 0.5 * v\n",
    "    P += np.maximum(np.exp(logS) - np.exp(k), 0)  \n",
    "P /= (2*len(intV[:,-1]))"
   ]
  },
  {
   "cell_type": "code",
   "execution_count": 253,
   "metadata": {},
   "outputs": [
    {
     "data": {
      "text/plain": [
       "0.21722025846195372"
      ]
     },
     "execution_count": 253,
     "metadata": {},
     "output_type": "execute_result"
    }
   ],
   "source": [
    "vol = blsimpv(P,1,np.exp(k),0.25)\n",
    "vol"
   ]
  },
  {
   "cell_type": "code",
   "execution_count": 304,
   "metadata": {},
   "outputs": [],
   "source": [
    "from scipy.stats import norm"
   ]
  },
  {
   "cell_type": "code",
   "execution_count": 306,
   "metadata": {},
   "outputs": [
    {
     "data": {
      "text/plain": [
       "1e-05"
      ]
     },
     "execution_count": 306,
     "metadata": {},
     "output_type": "execute_result"
    }
   ],
   "source": [
    "P = 0\n",
    "percentiles = np.linspace(1,99,99)\n",
    "for q in percentiles:\n",
    "    v = np.percentile(intV,q)\n",
    "    B = norm.ppf(1.-q/100., loc=0, scale = np.sqrt(v))\n",
    "    logS = B - 0.5 * v\n",
    "    P += np.maximum(np.exp(logS) - np.exp(k), 0)  \n",
    "P /= len(percentiles)\n",
    "vol = blsimpv(P,1,np.exp(k),0.25)\n",
    "vol    "
   ]
  },
  {
   "cell_type": "markdown",
   "metadata": {},
   "source": [
    "Seems to work in the zero corr case (still amazing) but not in full corr case."
   ]
  },
  {
   "cell_type": "code",
   "execution_count": null,
   "metadata": {
    "collapsed": true
   },
   "outputs": [],
   "source": []
  }
 ],
 "metadata": {
  "anaconda-cloud": {},
  "kernelspec": {
   "display_name": "Python [default]",
   "language": "python",
   "name": "python3"
  },
  "language_info": {
   "codemirror_mode": {
    "name": "ipython",
    "version": 3
   },
   "file_extension": ".py",
   "mimetype": "text/x-python",
   "name": "python",
   "nbconvert_exporter": "python",
   "pygments_lexer": "ipython3",
   "version": "3.5.2"
  }
 },
 "nbformat": 4,
 "nbformat_minor": 1
}
