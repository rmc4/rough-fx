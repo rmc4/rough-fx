{
 "cells": [
  {
   "cell_type": "markdown",
   "metadata": {
    "nbpresent": {
     "id": "b590a017-9bad-4ff8-ac89-d1d90e1ebf09"
    }
   },
   "source": [
    "rBergomi: obtaining dissertation smile files\n",
    "=="
   ]
  },
  {
   "cell_type": "markdown",
   "metadata": {},
   "source": [
    "*This file was replaced by the record_smile.py routine file which can be run from terminal. This file presently trials time dependent eta.*"
   ]
  },
  {
   "cell_type": "markdown",
   "metadata": {},
   "source": [
    "$$S_t = \\mathcal{E} \\left\\{ \\int_0^t \\sqrt{ V_u } \\ \\mathrm{d} \\ (\\rho W^1_u + \\bar{\\rho} W^2_u) \\right\\}, \\quad V_t = \\xi \\ \\mathcal{E} \\left\\{ \\eta \\sqrt{2\\alpha + 1} \\int_0^t (t - u)^\\alpha \\mathrm{d}W^1_u \\right\\},$$"
   ]
  },
  {
   "cell_type": "code",
   "execution_count": 1,
   "metadata": {
    "collapsed": true
   },
   "outputs": [],
   "source": [
    "import os\n",
    "os.chdir('/Users/ryanmccrickerd/desktop/rbergomi/rbergomi')"
   ]
  },
  {
   "cell_type": "code",
   "execution_count": 2,
   "metadata": {
    "collapsed": true
   },
   "outputs": [],
   "source": [
    "import numpy as np\n",
    "from matplotlib import pyplot as plt\n",
    "import matplotlib.mlab as mlab\n",
    "from rbergomi import rBergomi\n",
    "from surface import Surface\n",
    "from routines import *\n",
    "% matplotlib inline"
   ]
  },
  {
   "cell_type": "markdown",
   "metadata": {},
   "source": [
    "Set antithetic sampling here"
   ]
  },
  {
   "cell_type": "code",
   "execution_count": 3,
   "metadata": {},
   "outputs": [
    {
     "data": {
      "text/plain": [
       "{'1D': 624, '1M': 24, '1W': 104, '1Y': 2, '3M': 8, '6M': 4}"
      ]
     },
     "execution_count": 3,
     "metadata": {},
     "output_type": "execute_result"
    }
   ],
   "source": [
    "n_dict = {'1D':624,\n",
    "          '1W':104,\n",
    "          '1M':24,\n",
    "          '3M':8,\n",
    "          '6M':4,\n",
    "          '1Y':2}\n",
    "n_dict"
   ]
  },
  {
   "cell_type": "code",
   "execution_count": 4,
   "metadata": {
    "collapsed": true
   },
   "outputs": [],
   "source": [
    "tenor = '1D'\n",
    "settings = 'rho'\n",
    "n = n_dict[tenor]\n",
    "T = 2./n\n",
    "N = 400000\n",
    "rho = -0.00\n",
    "alpha = -0.00001"
   ]
  },
  {
   "cell_type": "code",
   "execution_count": 5,
   "metadata": {
    "collapsed": true
   },
   "outputs": [],
   "source": [
    "rbergomi = rBergomi(n = n, N = N, T = T, a = alpha, AS = True)"
   ]
  },
  {
   "cell_type": "code",
   "execution_count": 6,
   "metadata": {},
   "outputs": [
    {
     "data": {
      "text/html": [
       "<div>\n",
       "<table border=\"1\" class=\"dataframe\">\n",
       "  <thead>\n",
       "    <tr style=\"text-align: right;\">\n",
       "      <th></th>\n",
       "      <th>5P</th>\n",
       "      <th>10P</th>\n",
       "      <th>15P</th>\n",
       "      <th>20P</th>\n",
       "      <th>25P</th>\n",
       "      <th>30P</th>\n",
       "      <th>35P</th>\n",
       "      <th>40P</th>\n",
       "      <th>45P</th>\n",
       "      <th>ATM</th>\n",
       "      <th>45C</th>\n",
       "      <th>40C</th>\n",
       "      <th>35C</th>\n",
       "      <th>30C</th>\n",
       "      <th>25C</th>\n",
       "      <th>20C</th>\n",
       "      <th>15C</th>\n",
       "      <th>10C</th>\n",
       "      <th>5C</th>\n",
       "    </tr>\n",
       "  </thead>\n",
       "  <tbody>\n",
       "    <tr>\n",
       "      <th>1D</th>\n",
       "      <td>0.249896</td>\n",
       "      <td>0.240369</td>\n",
       "      <td>0.235294</td>\n",
       "      <td>0.232007</td>\n",
       "      <td>0.229702</td>\n",
       "      <td>0.228047</td>\n",
       "      <td>0.226882</td>\n",
       "      <td>0.2261</td>\n",
       "      <td>0.225635</td>\n",
       "      <td>0.2255</td>\n",
       "      <td>0.225668</td>\n",
       "      <td>0.226166</td>\n",
       "      <td>0.226977</td>\n",
       "      <td>0.228174</td>\n",
       "      <td>0.22986</td>\n",
       "      <td>0.232205</td>\n",
       "      <td>0.235537</td>\n",
       "      <td>0.240673</td>\n",
       "      <td>0.250289</td>\n",
       "    </tr>\n",
       "  </tbody>\n",
       "</table>\n",
       "</div>"
      ],
      "text/plain": [
       "          5P       10P       15P       20P       25P       30P       35P  \\\n",
       "1D  0.249896  0.240369  0.235294  0.232007  0.229702  0.228047  0.226882   \n",
       "\n",
       "       40P       45P     ATM       45C       40C       35C       30C      25C  \\\n",
       "1D  0.2261  0.225635  0.2255  0.225668  0.226166  0.226977  0.228174  0.22986   \n",
       "\n",
       "         20C       15C       10C        5C  \n",
       "1D  0.232205  0.235537  0.240673  0.250289  "
      ]
     },
     "execution_count": 6,
     "metadata": {},
     "output_type": "execute_result"
    }
   ],
   "source": [
    "surface = Surface(tenor, settings, close = False)\n",
    "surface.surface"
   ]
  },
  {
   "cell_type": "code",
   "execution_count": 7,
   "metadata": {
    "collapsed": true
   },
   "outputs": [],
   "source": [
    "eta = 1.9\n",
    "a = -0.43\n",
    "# time_dep_eta = np.minimum(eta * rbergomi.t**a, 1000)\n",
    "time_dep_eta = eta * rbergomi.t**a\n",
    "time_dep_eta[0,:-1] = time_dep_eta[0,1:]\n",
    "flat_eta = np.ones_like(rbergomi.t) * eta"
   ]
  },
  {
   "cell_type": "code",
   "execution_count": 8,
   "metadata": {},
   "outputs": [
    {
     "data": {
      "image/png": "[encoded data removed]",
      "text/plain": [
       "<matplotlib.figure.Figure at 0x1155a4748>"
      ]
     },
     "metadata": {},
     "output_type": "display_data"
    }
   ],
   "source": [
    "plot, axes = plt.subplots()\n",
    "axes.plot(rbergomi.t[0,:], time_dep_eta[0,:])\n",
    "axes.plot(rbergomi.t[0,:], flat_eta[0,:])\n",
    "plt.grid(True)"
   ]
  },
  {
   "cell_type": "code",
   "execution_count": 9,
   "metadata": {
    "collapsed": true
   },
   "outputs": [],
   "source": [
    "# kwargs = {'xi':0.235**2, 'eta':flat_eta, 'rho':rho}\n",
    "kwargs = {'xi':0.235**2, 'eta':time_dep_eta, 'rho':rho}\n",
    "# kwargs = {'xi':0.235**2, 'eta':1.9, 'rho':rho}"
   ]
  },
  {
   "cell_type": "markdown",
   "metadata": {},
   "source": [
    "Select implied vol construction here"
   ]
  },
  {
   "cell_type": "code",
   "execution_count": 10,
   "metadata": {
    "collapsed": true
   },
   "outputs": [],
   "source": [
    "method = base_run\n",
    "# method = moment_matching\n",
    "# method = conditional_mc\n",
    "# method = price_control\n",
    "# method = timer_control\n",
    "# method = optimal_run"
   ]
  },
  {
   "cell_type": "code",
   "execution_count": 11,
   "metadata": {
    "collapsed": true
   },
   "outputs": [],
   "source": [
    "np.random.seed(0)"
   ]
  },
  {
   "cell_type": "code",
   "execution_count": 12,
   "metadata": {
    "collapsed": true
   },
   "outputs": [],
   "source": [
    "IV = method(rbergomi, surface, **kwargs)"
   ]
  },
  {
   "cell_type": "markdown",
   "metadata": {},
   "source": [
    "This will write to file."
   ]
  },
  {
   "cell_type": "code",
   "execution_count": 13,
   "metadata": {
    "collapsed": true
   },
   "outputs": [],
   "source": [
    "# import xlwings as xw\n",
    "\n",
    "# install_path = '/Users/ryanmccrickerd/desktop'\n",
    "# file_path = install_path + '/rbergomi/data/market/' + settings + '_' + tenor + '.xlsx'\n",
    "\n",
    "# # Instantiate xlwings object\n",
    "# wb = xw.Book(file_path)\n",
    "# sht = wb.sheets['Sheet1']\n",
    "\n",
    "# # Paste implied vols\n",
    "# sht.range('B6').value = 100 * np.flipud(np.transpose(IV))\n",
    "# wb.save()"
   ]
  },
  {
   "cell_type": "markdown",
   "metadata": {},
   "source": [
    "This section should take the same amount of time for each. N should be scaled accordingly."
   ]
  },
  {
   "cell_type": "code",
   "execution_count": 14,
   "metadata": {},
   "outputs": [
    {
     "data": {
      "image/png": "[encoded data removed]",
      "text/plain": [
       "<matplotlib.figure.Figure at 0x1157e2438>"
      ]
     },
     "metadata": {},
     "output_type": "display_data"
    }
   ],
   "source": [
    "k = np.array(surface._log_strike_surface())\n",
    "MV = np.array(surface.surface)\n",
    "\n",
    "for M in range(len(k[:,0])):\n",
    "    plot, axes = plt.subplots()\n",
    "\n",
    "    axes.plot(k[M,:], IV[M,:], 'r')\n",
    "    \n",
    "    # 1SD bounds - only correct when not using AV\n",
    "    # axes.plot(k[M,:], IV[M,:,0], 'k--', linewidth = 0.5) # Lower bound\n",
    "    # axes.plot(k[M,:], IV[M,:,2], 'k--', linewidth = 0.5) # Upper bound\n",
    "\n",
    "    axes.plot(k[M,:], MV[M,:], 'go', fillstyle = 'none', ms = 4, mew = 1)\n",
    "    \n",
    "    axes.set_xlabel(r'$k$', fontsize = 14)\n",
    "    axes.set_ylabel(r'$IV(k,T)$', fontsize = 14)\n",
    "    axes.set_title(r'$T=$' + surface._tenors[M], fontsize = 14)\n",
    "    #axes.legend([r'$\\mathsf{Standard}$', r'$\\mathsf{Timer \\ Control}$', r'$\\mathsf{S \\ Control}$'])\n",
    "    # plt.xlim([-0.05,0.05])\n",
    "    # plt.ylim([0.14,0.30])\n",
    "    \n",
    "    plt.grid(True)"
   ]
  },
  {
   "cell_type": "code",
   "execution_count": null,
   "metadata": {
    "collapsed": true
   },
   "outputs": [],
   "source": []
  }
 ],
 "metadata": {
  "anaconda-cloud": {},
  "kernelspec": {
   "display_name": "Python [default]",
   "language": "python",
   "name": "python3"
  },
  "language_info": {
   "codemirror_mode": {
    "name": "ipython",
    "version": 3
   },
   "file_extension": ".py",
   "mimetype": "text/x-python",
   "name": "python",
   "nbconvert_exporter": "python",
   "pygments_lexer": "ipython3",
   "version": "3.5.2"
  }
 },
 "nbformat": 4,
 "nbformat_minor": 1
}
