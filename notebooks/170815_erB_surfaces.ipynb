{
 "cells": [
  {
   "cell_type": "markdown",
   "metadata": {
    "nbpresent": {
     "id": "b590a017-9bad-4ff8-ac89-d1d90e1ebf09"
    }
   },
   "source": [
    "rBergomi: generating surface for dissertation\n",
    "=="
   ]
  },
  {
   "cell_type": "markdown",
   "metadata": {},
   "source": [
    "$$S_t = \\mathcal{E} \\left\\{ \\int_0^t \\sqrt{ V_u } \\ \\mathrm{d} \\ (\\rho W^1_u + \\bar{\\rho} W^2_u) \\right\\}, \\quad V_t = \\xi \\ \\mathcal{E} \\left\\{ \\eta \\sqrt{2\\alpha + 1} \\int_0^t (t - u)^\\alpha \\mathrm{d}W^1_u \\right\\},$$"
   ]
  },
  {
   "cell_type": "code",
   "execution_count": 55,
   "metadata": {
    "collapsed": true
   },
   "outputs": [],
   "source": [
    "import os\n",
    "os.chdir('/Users/ryanmccrickerd/desktop/turbo_rbergomi/rbergomi')"
   ]
  },
  {
   "cell_type": "code",
   "execution_count": 56,
   "metadata": {
    "collapsed": true
   },
   "outputs": [],
   "source": [
    "import numpy as np\n",
    "from matplotlib import pyplot as plt\n",
    "# import matplotlib.mlab as mlab\n",
    "from rbergomi import rBergomi\n",
    "# from surface import Surface\n",
    "from routines import generate_surface\n",
    "% matplotlib inline"
   ]
  },
  {
   "cell_type": "code",
   "execution_count": 101,
   "metadata": {
    "collapsed": true
   },
   "outputs": [],
   "source": [
    "from surface import Surface\n",
    "ccy = 'surface'\n",
    "date = 'erB+40'\n",
    "surface = Surface(ccy, date, close = False)\n",
    "a = 0.4\n",
    "\n",
    "### dont change these\n",
    "zeta = -1\n",
    "eta = 2\n",
    "xi = 0.01\n",
    "b = -0.4"
   ]
  },
  {
   "cell_type": "code",
   "execution_count": 102,
   "metadata": {},
   "outputs": [
    {
     "data": {
      "text/html": [
       "<div>\n",
       "<table border=\"1\" class=\"dataframe\">\n",
       "  <thead>\n",
       "    <tr style=\"text-align: right;\">\n",
       "      <th></th>\n",
       "      <th>5P</th>\n",
       "      <th>10P</th>\n",
       "      <th>15P</th>\n",
       "      <th>20P</th>\n",
       "      <th>25P</th>\n",
       "      <th>30P</th>\n",
       "      <th>35P</th>\n",
       "      <th>40P</th>\n",
       "      <th>45P</th>\n",
       "      <th>ATM</th>\n",
       "      <th>45C</th>\n",
       "      <th>40C</th>\n",
       "      <th>35C</th>\n",
       "      <th>30C</th>\n",
       "      <th>25C</th>\n",
       "      <th>20C</th>\n",
       "      <th>15C</th>\n",
       "      <th>10C</th>\n",
       "      <th>5C</th>\n",
       "    </tr>\n",
       "  </thead>\n",
       "  <tbody>\n",
       "    <tr>\n",
       "      <th>1W</th>\n",
       "      <td>0.109025</td>\n",
       "      <td>0.103563</td>\n",
       "      <td>0.100525</td>\n",
       "      <td>0.098521</td>\n",
       "      <td>0.097116</td>\n",
       "      <td>0.096059</td>\n",
       "      <td>0.095319</td>\n",
       "      <td>0.094824</td>\n",
       "      <td>0.094512</td>\n",
       "      <td>0.094374</td>\n",
       "      <td>0.094655</td>\n",
       "      <td>0.094865</td>\n",
       "      <td>0.095290</td>\n",
       "      <td>0.095964</td>\n",
       "      <td>0.096910</td>\n",
       "      <td>0.098221</td>\n",
       "      <td>0.100117</td>\n",
       "      <td>0.103035</td>\n",
       "      <td>0.108581</td>\n",
       "    </tr>\n",
       "    <tr>\n",
       "      <th>1M</th>\n",
       "      <td>0.113067</td>\n",
       "      <td>0.105484</td>\n",
       "      <td>0.101316</td>\n",
       "      <td>0.098526</td>\n",
       "      <td>0.096534</td>\n",
       "      <td>0.095048</td>\n",
       "      <td>0.093952</td>\n",
       "      <td>0.093180</td>\n",
       "      <td>0.092661</td>\n",
       "      <td>0.092389</td>\n",
       "      <td>0.092618</td>\n",
       "      <td>0.092788</td>\n",
       "      <td>0.093218</td>\n",
       "      <td>0.093951</td>\n",
       "      <td>0.095056</td>\n",
       "      <td>0.096618</td>\n",
       "      <td>0.098955</td>\n",
       "      <td>0.102598</td>\n",
       "      <td>0.109588</td>\n",
       "    </tr>\n",
       "    <tr>\n",
       "      <th>3M</th>\n",
       "      <td>0.118536</td>\n",
       "      <td>0.108460</td>\n",
       "      <td>0.102897</td>\n",
       "      <td>0.099121</td>\n",
       "      <td>0.096379</td>\n",
       "      <td>0.094309</td>\n",
       "      <td>0.092720</td>\n",
       "      <td>0.091529</td>\n",
       "      <td>0.090666</td>\n",
       "      <td>0.090172</td>\n",
       "      <td>0.090153</td>\n",
       "      <td>0.090147</td>\n",
       "      <td>0.090444</td>\n",
       "      <td>0.091101</td>\n",
       "      <td>0.092175</td>\n",
       "      <td>0.093815</td>\n",
       "      <td>0.096303</td>\n",
       "      <td>0.100331</td>\n",
       "      <td>0.108226</td>\n",
       "    </tr>\n",
       "    <tr>\n",
       "      <th>6M</th>\n",
       "      <td>0.124061</td>\n",
       "      <td>0.111495</td>\n",
       "      <td>0.104524</td>\n",
       "      <td>0.099771</td>\n",
       "      <td>0.096277</td>\n",
       "      <td>0.093593</td>\n",
       "      <td>0.091493</td>\n",
       "      <td>0.089849</td>\n",
       "      <td>0.088595</td>\n",
       "      <td>0.087884</td>\n",
       "      <td>0.087457</td>\n",
       "      <td>0.087206</td>\n",
       "      <td>0.087297</td>\n",
       "      <td>0.087777</td>\n",
       "      <td>0.088715</td>\n",
       "      <td>0.090260</td>\n",
       "      <td>0.092722</td>\n",
       "      <td>0.096833</td>\n",
       "      <td>0.105045</td>\n",
       "    </tr>\n",
       "    <tr>\n",
       "      <th>1Y</th>\n",
       "      <td>0.131522</td>\n",
       "      <td>0.115042</td>\n",
       "      <td>0.105900</td>\n",
       "      <td>0.099712</td>\n",
       "      <td>0.095112</td>\n",
       "      <td>0.091537</td>\n",
       "      <td>0.088702</td>\n",
       "      <td>0.086416</td>\n",
       "      <td>0.084597</td>\n",
       "      <td>0.083621</td>\n",
       "      <td>0.082461</td>\n",
       "      <td>0.081834</td>\n",
       "      <td>0.081605</td>\n",
       "      <td>0.081801</td>\n",
       "      <td>0.082502</td>\n",
       "      <td>0.083856</td>\n",
       "      <td>0.086196</td>\n",
       "      <td>0.090267</td>\n",
       "      <td>0.098682</td>\n",
       "    </tr>\n",
       "  </tbody>\n",
       "</table>\n",
       "</div>"
      ],
      "text/plain": [
       "          5P       10P       15P       20P       25P       30P       35P  \\\n",
       "1W  0.109025  0.103563  0.100525  0.098521  0.097116  0.096059  0.095319   \n",
       "1M  0.113067  0.105484  0.101316  0.098526  0.096534  0.095048  0.093952   \n",
       "3M  0.118536  0.108460  0.102897  0.099121  0.096379  0.094309  0.092720   \n",
       "6M  0.124061  0.111495  0.104524  0.099771  0.096277  0.093593  0.091493   \n",
       "1Y  0.131522  0.115042  0.105900  0.099712  0.095112  0.091537  0.088702   \n",
       "\n",
       "         40P       45P       ATM       45C       40C       35C       30C  \\\n",
       "1W  0.094824  0.094512  0.094374  0.094655  0.094865  0.095290  0.095964   \n",
       "1M  0.093180  0.092661  0.092389  0.092618  0.092788  0.093218  0.093951   \n",
       "3M  0.091529  0.090666  0.090172  0.090153  0.090147  0.090444  0.091101   \n",
       "6M  0.089849  0.088595  0.087884  0.087457  0.087206  0.087297  0.087777   \n",
       "1Y  0.086416  0.084597  0.083621  0.082461  0.081834  0.081605  0.081801   \n",
       "\n",
       "         25C       20C       15C       10C        5C  \n",
       "1W  0.096910  0.098221  0.100117  0.103035  0.108581  \n",
       "1M  0.095056  0.096618  0.098955  0.102598  0.109588  \n",
       "3M  0.092175  0.093815  0.096303  0.100331  0.108226  \n",
       "6M  0.088715  0.090260  0.092722  0.096833  0.105045  \n",
       "1Y  0.082502  0.083856  0.086196  0.090267  0.098682  "
      ]
     },
     "execution_count": 102,
     "metadata": {},
     "output_type": "execute_result"
    }
   ],
   "source": [
    "surface.surface"
   ]
  },
  {
   "cell_type": "code",
   "execution_count": 103,
   "metadata": {},
   "outputs": [
    {
     "data": {
      "image/png": "[encoded data removed]",
      "text/plain": [
       "<matplotlib.figure.Figure at 0x1043f8240>"
      ]
     },
     "metadata": {},
     "output_type": "display_data"
    }
   ],
   "source": [
    "save_path = '/Users/ryanmccrickerd/Desktop/GBPUSD_volatilities/'\n",
    "k = np.array(surface._log_strike_surface())\n",
    "MV = np.array(surface.surface)\n",
    "colors = ['r-','m-','y-','g-','b-']\n",
    "mat = ['1W','1M','3M','6M','1Y']\n",
    "\n",
    "plot, axes = plt.subplots(figsize=(4,2.5))\n",
    "for i in range(5):\n",
    "\n",
    "    axes.plot(k[i,:], MV[i,:], colors[i], fillstyle = 'none', ms = 5, mew = 0.5, lw = 1)\n",
    "\n",
    "    axes.set_xlabel(r'$k$', fontsize = 16)\n",
    "    axes.set_ylabel(r'$\\sigma_{BS}(k,t)$', fontsize = 16)\n",
    "    axes.set_title(r'$\\alpha=%.1f,\\ \\beta=%.1f$'%(a,b), fontsize = 14)\n",
    "    plt.xlim([-0.25,0.25])\n",
    "    plt.xticks([-0.25,-0.125,0,0.125,0.25])\n",
    "    plt.ylim([0.07,0.15])\n",
    "    plt.yticks([0.07,0.09,0.11,0.13,0.15])\n",
    "    plt.grid(True)\n",
    "    fig_name = ccy +'_'+ date + '_k.png'\n",
    "    fname = save_path + fig_name\n",
    "    plt.savefig(fname, bbox_inches='tight', dpi = 300)"
   ]
  },
  {
   "cell_type": "code",
   "execution_count": 104,
   "metadata": {},
   "outputs": [
    {
     "data": {
      "image/png": "[encoded data removed]",
      "text/plain": [
       "<matplotlib.figure.Figure at 0x11982e518>"
      ]
     },
     "metadata": {},
     "output_type": "display_data"
    }
   ],
   "source": [
    "save_path = '/Users/ryanmccrickerd/Desktop/GBPUSD_volatilities/'\n",
    "k = np.array(surface._put_deltas())\n",
    "MV = np.array(surface.surface)\n",
    "colors = ['r-','m-','y-','g-','b-']\n",
    "mat = ['1W','1M','3M','6M','1Y']\n",
    "\n",
    "plot, axes = plt.subplots(figsize=(4,2.5))\n",
    "for i in range(5):\n",
    "\n",
    "    axes.plot(k[i,:], MV[i,:], colors[i], fillstyle = 'none', ms = 5, mew = 0.5, lw = 1)\n",
    "\n",
    "    axes.set_xlabel(r'$\\Delta$', fontsize = 16)\n",
    "    axes.set_ylabel(r'$\\sigma_{BS}(\\Delta,t)$', fontsize = 16)\n",
    "    axes.set_title(r'$\\alpha=%.1f,\\ \\beta=%.1f$'%(a,b), fontsize = 14)\n",
    "    plt.xlim([0,1])\n",
    "    plt.xticks([0,0.25,0.5,0.75,1])\n",
    "    plt.ylim([0.07,0.15])\n",
    "    plt.yticks([0.07,0.09,0.11,0.13,0.15])\n",
    "    plt.grid(True)\n",
    "    fig_name = ccy +'_'+ date + '_d.png'\n",
    "    fname = save_path + fig_name\n",
    "    plt.savefig(fname, bbox_inches='tight', dpi = 300)"
   ]
  },
  {
   "cell_type": "code",
   "execution_count": null,
   "metadata": {
    "collapsed": true
   },
   "outputs": [],
   "source": []
  }
 ],
 "metadata": {
  "anaconda-cloud": {},
  "kernelspec": {
   "display_name": "Python [default]",
   "language": "python",
   "name": "python3"
  },
  "language_info": {
   "codemirror_mode": {
    "name": "ipython",
    "version": 3
   },
   "file_extension": ".py",
   "mimetype": "text/x-python",
   "name": "python",
   "nbconvert_exporter": "python",
   "pygments_lexer": "ipython3",
   "version": "3.5.2"
  }
 },
 "nbformat": 4,
 "nbformat_minor": 1
}
