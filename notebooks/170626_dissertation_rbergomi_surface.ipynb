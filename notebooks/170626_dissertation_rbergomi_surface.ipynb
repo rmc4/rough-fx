{
 "cells": [
  {
   "cell_type": "markdown",
   "metadata": {
    "nbpresent": {
     "id": "b590a017-9bad-4ff8-ac89-d1d90e1ebf09"
    }
   },
   "source": [
    "rBergomi: generating surface for dissertation\n",
    "=="
   ]
  },
  {
   "cell_type": "markdown",
   "metadata": {},
   "source": [
    "$$S_t = \\mathcal{E} \\left\\{ \\int_0^t \\sqrt{ V_u } \\ \\mathrm{d} \\ (\\rho W^1_u + \\bar{\\rho} W^2_u) \\right\\}, \\quad V_t = \\xi \\ \\mathcal{E} \\left\\{ \\eta \\sqrt{2\\alpha + 1} \\int_0^t (t - u)^\\alpha \\mathrm{d}W^1_u \\right\\},$$"
   ]
  },
  {
   "cell_type": "code",
   "execution_count": 1,
   "metadata": {
    "collapsed": true
   },
   "outputs": [],
   "source": [
    "import os\n",
    "os.chdir('/Users/ryanmccrickerd/desktop/rbergomi/rbergomi')"
   ]
  },
  {
   "cell_type": "code",
   "execution_count": 2,
   "metadata": {},
   "outputs": [],
   "source": [
    "import numpy as np\n",
    "from matplotlib import pyplot as plt\n",
    "# import matplotlib.mlab as mlab\n",
    "from rbergomi import rBergomi\n",
    "# from surface import Surface\n",
    "from routines import generate_surface\n",
    "% matplotlib inline"
   ]
  },
  {
   "cell_type": "markdown",
   "metadata": {},
   "source": [
    "Record maturities and granularities here which give 312 steps for each"
   ]
  },
  {
   "cell_type": "code",
   "execution_count": null,
   "metadata": {},
   "outputs": [],
   "source": [
    "n_dict = {'1D':624,\n",
    "          '1W':104,\n",
    "          '1M':24,\n",
    "          '3M':8,\n",
    "          '6M':4,\n",
    "          '1Y':2,\n",
    "          '2Y':1}\n",
    "n_dict"
   ]
  },
  {
   "cell_type": "markdown",
   "metadata": {},
   "source": [
    "**Specify tenor and paths here**"
   ]
  },
  {
   "cell_type": "code",
   "execution_count": null,
   "metadata": {
    "collapsed": true
   },
   "outputs": [],
   "source": [
    "tenor = '2Y'\n",
    "N = 400000"
   ]
  },
  {
   "cell_type": "code",
   "execution_count": null,
   "metadata": {},
   "outputs": [],
   "source": [
    "n = n_dict[tenor]\n",
    "n"
   ]
  },
  {
   "cell_type": "code",
   "execution_count": null,
   "metadata": {},
   "outputs": [],
   "source": [
    "T = 2./n\n",
    "T"
   ]
  },
  {
   "cell_type": "code",
   "execution_count": null,
   "metadata": {
    "collapsed": true
   },
   "outputs": [],
   "source": [
    "rbergomi = rBergomi(n = n, N = N, T = T, a = -0.43, AS = True)"
   ]
  },
  {
   "cell_type": "code",
   "execution_count": null,
   "metadata": {},
   "outputs": [],
   "source": [
    "rbergomi.T"
   ]
  },
  {
   "cell_type": "code",
   "execution_count": null,
   "metadata": {},
   "outputs": [],
   "source": [
    "k_max = 0.05\n",
    "num_points = 21\n",
    "log_strikes = np.linspace(-k_max, k_max, num_points)[np.newaxis,:]\n",
    "log_strikes"
   ]
  },
  {
   "cell_type": "code",
   "execution_count": null,
   "metadata": {
    "collapsed": true
   },
   "outputs": [],
   "source": [
    "kwargs = {'xi':0.235**2, 'eta':1.9, 'rho':-0.}"
   ]
  },
  {
   "cell_type": "code",
   "execution_count": null,
   "metadata": {
    "collapsed": true
   },
   "outputs": [],
   "source": [
    "np.random.seed(0)"
   ]
  },
  {
   "cell_type": "code",
   "execution_count": null,
   "metadata": {},
   "outputs": [],
   "source": [
    "IV = generate_surface(rbergomi, log_strikes, **kwargs)"
   ]
  },
  {
   "cell_type": "markdown",
   "metadata": {},
   "source": [
    "This section should take the same amount of time for each. N should be scaled accordingly."
   ]
  },
  {
   "cell_type": "code",
   "execution_count": null,
   "metadata": {},
   "outputs": [],
   "source": [
    "k = log_strikes\n",
    "\n",
    "plot, axes = plt.subplots()\n",
    "\n",
    "axes.plot(k[0,:], IV[0,:], 'r')\n",
    "\n",
    "# 1SD bounds - only correct when not using AV\n",
    "# axes.plot(k[M,:], IV[M,:,0], 'k--', linewidth = 0.5) # Lower bound\n",
    "# axes.plot(k[M,:], IV[M,:,2], 'k--', linewidth = 0.5) # Upper bound\n",
    "\n",
    "# axes.plot(k[M,:], MV[M,:], 'go', fillstyle = 'none', ms = 4, mew = 1)\n",
    "\n",
    "axes.set_xlabel(r'$k$', fontsize = 14)\n",
    "axes.set_ylabel(r'$IV(k,\\tau)$', fontsize = 14)\n",
    "axes.set_title(r'$T=$' + tenor, fontsize = 14)\n",
    "#axes.legend([r'$\\mathsf{Standard}$', r'$\\mathsf{Timer \\ Control}$', r'$\\mathsf{S \\ Control}$'])\n",
    "# plt.xlim([-0.05,0.05])\n",
    "# plt.ylim([0.14,0.30])\n",
    "\n",
    "plt.grid(True)"
   ]
  },
  {
   "cell_type": "code",
   "execution_count": null,
   "metadata": {},
   "outputs": [],
   "source": [
    "col_dict = {'1D':'B',\n",
    "            '1W':'C',\n",
    "            '1M':'D',\n",
    "            '3M':'E',\n",
    "            '6M':'F',\n",
    "            '1Y':'G',\n",
    "            '2Y':'H'}\n",
    "col_dict"
   ]
  },
  {
   "cell_type": "code",
   "execution_count": null,
   "metadata": {
    "collapsed": true
   },
   "outputs": [],
   "source": [
    "import xlwings as xw\n",
    "install_path = '/Users/ryanmccrickerd/desktop'\n",
    "file_path = install_path + '/rbergomi/data/surface_data.xlsx'\n",
    "# Instantiate xlwings object\n",
    "wb = xw.Book(file_path)\n",
    "sht = wb.sheets['Sheet1']"
   ]
  },
  {
   "cell_type": "markdown",
   "metadata": {},
   "source": [
    "**The following will write to surface_data.xlsx file**"
   ]
  },
  {
   "cell_type": "code",
   "execution_count": null,
   "metadata": {
    "collapsed": true
   },
   "outputs": [],
   "source": [
    "# # Paste implied vols\n",
    "# sht.range(col_dict[tenor] + '1').value = T\n",
    "# sht.range(col_dict[tenor] + '2').value = 100 * np.flipud(np.transpose(IV))\n",
    "# wb.save()"
   ]
  },
  {
   "cell_type": "code",
   "execution_count": null,
   "metadata": {
    "collapsed": true
   },
   "outputs": [],
   "source": [
    "# Copy implied surface\n",
    "log_strikes = np.array(sht.range('A2:A22').value)\n",
    "maturities = np.array(sht.range('B1:G1').value)\n",
    "surface = np.transpose(np.array(sht.range('B2:G22').value))"
   ]
  },
  {
   "cell_type": "markdown",
   "metadata": {},
   "source": [
    "Demonstrate this neatly"
   ]
  },
  {
   "cell_type": "code",
   "execution_count": null,
   "metadata": {},
   "outputs": [],
   "source": [
    "import pandas as pd\n",
    "pd.DataFrame(surface, index = maturities, columns = log_strikes)"
   ]
  },
  {
   "cell_type": "markdown",
   "metadata": {},
   "source": [
    "Now plot this"
   ]
  },
  {
   "cell_type": "code",
   "execution_count": null,
   "metadata": {},
   "outputs": [],
   "source": [
    "from mpl_toolkits.mplot3d import Axes3D\n",
    "from matplotlib import cm\n",
    "from matplotlib.ticker import LinearLocator, FormatStrFormatter\n",
    "\n",
    "fig = plt.figure()\n",
    "ax = fig.gca(projection='3d')\n",
    "\n",
    "X = log_strikes[np.newaxis,:]\n",
    "Y = maturities[:,np.newaxis]\n",
    "X, Y = np.meshgrid(X, Y)\n",
    "Z = surface\n",
    "\n",
    "# Plot the surface.\n",
    "surf = ax.plot_wireframe(X, Y, Z, cmap = cm.coolwarm, linewidth = 0.1, antialiased = False)\n",
    "\n",
    "plt.show()"
   ]
  },
  {
   "cell_type": "markdown",
   "metadata": {},
   "source": [
    "This looks shite..."
   ]
  },
  {
   "cell_type": "code",
   "execution_count": 3,
   "metadata": {},
   "outputs": [],
   "source": [
    "from surface import Surface\n",
    "surface = Surface('surface', 'base', close = False)"
   ]
  },
  {
   "cell_type": "code",
   "execution_count": 4,
   "metadata": {},
   "outputs": [
    {
     "data": {
      "text/html": [
       "<div>\n",
       "<table border=\"1\" class=\"dataframe\">\n",
       "  <thead>\n",
       "    <tr style=\"text-align: right;\">\n",
       "      <th></th>\n",
       "      <th>5P</th>\n",
       "      <th>10P</th>\n",
       "      <th>15P</th>\n",
       "      <th>20P</th>\n",
       "      <th>25P</th>\n",
       "      <th>30P</th>\n",
       "      <th>35P</th>\n",
       "      <th>40P</th>\n",
       "      <th>45P</th>\n",
       "      <th>ATM</th>\n",
       "      <th>45C</th>\n",
       "      <th>40C</th>\n",
       "      <th>35C</th>\n",
       "      <th>30C</th>\n",
       "      <th>25C</th>\n",
       "      <th>20C</th>\n",
       "      <th>15C</th>\n",
       "      <th>10C</th>\n",
       "      <th>5C</th>\n",
       "    </tr>\n",
       "  </thead>\n",
       "  <tbody>\n",
       "    <tr>\n",
       "      <th>1D</th>\n",
       "      <td>0.324548</td>\n",
       "      <td>0.295867</td>\n",
       "      <td>0.278527</td>\n",
       "      <td>0.265714</td>\n",
       "      <td>0.255337</td>\n",
       "      <td>0.246528</td>\n",
       "      <td>0.238823</td>\n",
       "      <td>0.231842</td>\n",
       "      <td>0.225386</td>\n",
       "      <td>0.219606</td>\n",
       "      <td>0.213549</td>\n",
       "      <td>0.207946</td>\n",
       "      <td>0.202434</td>\n",
       "      <td>0.196966</td>\n",
       "      <td>0.191421</td>\n",
       "      <td>0.185635</td>\n",
       "      <td>0.179379</td>\n",
       "      <td>0.172302</td>\n",
       "      <td>0.163241</td>\n",
       "    </tr>\n",
       "    <tr>\n",
       "      <th>1W</th>\n",
       "      <td>0.332202</td>\n",
       "      <td>0.299343</td>\n",
       "      <td>0.279773</td>\n",
       "      <td>0.265418</td>\n",
       "      <td>0.253893</td>\n",
       "      <td>0.244151</td>\n",
       "      <td>0.235702</td>\n",
       "      <td>0.228103</td>\n",
       "      <td>0.221110</td>\n",
       "      <td>0.215340</td>\n",
       "      <td>0.208425</td>\n",
       "      <td>0.202493</td>\n",
       "      <td>0.196720</td>\n",
       "      <td>0.191033</td>\n",
       "      <td>0.185326</td>\n",
       "      <td>0.179481</td>\n",
       "      <td>0.173282</td>\n",
       "      <td>0.166436</td>\n",
       "      <td>0.158147</td>\n",
       "    </tr>\n",
       "    <tr>\n",
       "      <th>1M</th>\n",
       "      <td>0.335236</td>\n",
       "      <td>0.299439</td>\n",
       "      <td>0.278203</td>\n",
       "      <td>0.262749</td>\n",
       "      <td>0.250429</td>\n",
       "      <td>0.240083</td>\n",
       "      <td>0.231134</td>\n",
       "      <td>0.223156</td>\n",
       "      <td>0.215858</td>\n",
       "      <td>0.210680</td>\n",
       "      <td>0.202695</td>\n",
       "      <td>0.196624</td>\n",
       "      <td>0.190776</td>\n",
       "      <td>0.185066</td>\n",
       "      <td>0.179402</td>\n",
       "      <td>0.173699</td>\n",
       "      <td>0.167810</td>\n",
       "      <td>0.161528</td>\n",
       "      <td>0.154338</td>\n",
       "    </tr>\n",
       "    <tr>\n",
       "      <th>3M</th>\n",
       "      <td>0.333202</td>\n",
       "      <td>0.296052</td>\n",
       "      <td>0.274017</td>\n",
       "      <td>0.258037</td>\n",
       "      <td>0.245360</td>\n",
       "      <td>0.234788</td>\n",
       "      <td>0.225659</td>\n",
       "      <td>0.217556</td>\n",
       "      <td>0.210161</td>\n",
       "      <td>0.206085</td>\n",
       "      <td>0.196941</td>\n",
       "      <td>0.190900</td>\n",
       "      <td>0.185136</td>\n",
       "      <td>0.179553</td>\n",
       "      <td>0.174093</td>\n",
       "      <td>0.168675</td>\n",
       "      <td>0.163233</td>\n",
       "      <td>0.157642</td>\n",
       "      <td>0.151672</td>\n",
       "    </tr>\n",
       "    <tr>\n",
       "      <th>6M</th>\n",
       "      <td>0.328794</td>\n",
       "      <td>0.291462</td>\n",
       "      <td>0.269242</td>\n",
       "      <td>0.253180</td>\n",
       "      <td>0.240494</td>\n",
       "      <td>0.229950</td>\n",
       "      <td>0.220844</td>\n",
       "      <td>0.212772</td>\n",
       "      <td>0.205431</td>\n",
       "      <td>0.202469</td>\n",
       "      <td>0.192372</td>\n",
       "      <td>0.186444</td>\n",
       "      <td>0.180820</td>\n",
       "      <td>0.175414</td>\n",
       "      <td>0.170183</td>\n",
       "      <td>0.165061</td>\n",
       "      <td>0.160018</td>\n",
       "      <td>0.155004</td>\n",
       "      <td>0.150002</td>\n",
       "    </tr>\n",
       "    <tr>\n",
       "      <th>1Y</th>\n",
       "      <td>0.321039</td>\n",
       "      <td>0.284210</td>\n",
       "      <td>0.262220</td>\n",
       "      <td>0.246376</td>\n",
       "      <td>0.233928</td>\n",
       "      <td>0.223565</td>\n",
       "      <td>0.214633</td>\n",
       "      <td>0.206708</td>\n",
       "      <td>0.199534</td>\n",
       "      <td>0.198101</td>\n",
       "      <td>0.186844</td>\n",
       "      <td>0.181132</td>\n",
       "      <td>0.175735</td>\n",
       "      <td>0.170606</td>\n",
       "      <td>0.165700</td>\n",
       "      <td>0.160971</td>\n",
       "      <td>0.156435</td>\n",
       "      <td>0.152116</td>\n",
       "      <td>0.148262</td>\n",
       "    </tr>\n",
       "  </tbody>\n",
       "</table>\n",
       "</div>"
      ],
      "text/plain": [
       "          5P       10P       15P       20P       25P       30P       35P  \\\n",
       "1D  0.324548  0.295867  0.278527  0.265714  0.255337  0.246528  0.238823   \n",
       "1W  0.332202  0.299343  0.279773  0.265418  0.253893  0.244151  0.235702   \n",
       "1M  0.335236  0.299439  0.278203  0.262749  0.250429  0.240083  0.231134   \n",
       "3M  0.333202  0.296052  0.274017  0.258037  0.245360  0.234788  0.225659   \n",
       "6M  0.328794  0.291462  0.269242  0.253180  0.240494  0.229950  0.220844   \n",
       "1Y  0.321039  0.284210  0.262220  0.246376  0.233928  0.223565  0.214633   \n",
       "\n",
       "         40P       45P       ATM       45C       40C       35C       30C  \\\n",
       "1D  0.231842  0.225386  0.219606  0.213549  0.207946  0.202434  0.196966   \n",
       "1W  0.228103  0.221110  0.215340  0.208425  0.202493  0.196720  0.191033   \n",
       "1M  0.223156  0.215858  0.210680  0.202695  0.196624  0.190776  0.185066   \n",
       "3M  0.217556  0.210161  0.206085  0.196941  0.190900  0.185136  0.179553   \n",
       "6M  0.212772  0.205431  0.202469  0.192372  0.186444  0.180820  0.175414   \n",
       "1Y  0.206708  0.199534  0.198101  0.186844  0.181132  0.175735  0.170606   \n",
       "\n",
       "         25C       20C       15C       10C        5C  \n",
       "1D  0.191421  0.185635  0.179379  0.172302  0.163241  \n",
       "1W  0.185326  0.179481  0.173282  0.166436  0.158147  \n",
       "1M  0.179402  0.173699  0.167810  0.161528  0.154338  \n",
       "3M  0.174093  0.168675  0.163233  0.157642  0.151672  \n",
       "6M  0.170183  0.165061  0.160018  0.155004  0.150002  \n",
       "1Y  0.165700  0.160971  0.156435  0.152116  0.148262  "
      ]
     },
     "execution_count": 4,
     "metadata": {},
     "output_type": "execute_result"
    }
   ],
   "source": [
    "surface.surface"
   ]
  },
  {
   "cell_type": "code",
   "execution_count": 5,
   "metadata": {},
   "outputs": [
    {
     "data": {
      "image/png": "[encoded data removed]",
      "text/plain": [
       "<matplotlib.figure.Figure at 0x1049512b0>"
      ]
     },
     "metadata": {},
     "output_type": "display_data"
    }
   ],
   "source": [
    "k = np.array(surface._log_strike_surface())\n",
    "MV = np.array(surface.surface)\n",
    "\n",
    "plot, axes = plt.subplots()\n",
    "\n",
    "axes.plot(k[0,:], MV[0,:], 'r')\n",
    "axes.plot(k[1,:], MV[1,:], 'm')\n",
    "axes.plot(k[2,:], MV[2,:], 'y')\n",
    "axes.plot(k[3,:], MV[3,:], 'g')\n",
    "axes.plot(0.5*(k[3,:]+k[4,:]), 0.5*(MV[3,:]+MV[4,:]), 'c')\n",
    "axes.plot(k[4,:], MV[4,:], 'b')\n",
    "\n",
    "axes.set_xlabel(r'$k$', fontsize = 14)\n",
    "axes.set_ylabel(r'$IV(k,\\tau)$', fontsize = 14)\n",
    "# axes.set_title(r'$T=$' + surface._tenors[M], fontsize = 14)\n",
    "axes.legend([r'$\\mathsf{1D}$',\n",
    "             r'$\\mathsf{1W}$',\n",
    "             r'$\\mathsf{1M}$',\n",
    "             r'$\\mathsf{3M}$',\n",
    "             r'$\\mathsf{6M}$',\n",
    "             r'$\\mathsf{1Y}$'])\n",
    "\n",
    "plt.grid(True)"
   ]
  },
  {
   "cell_type": "markdown",
   "metadata": {},
   "source": [
    "This is much better. do this for rho = 0 and rho = -0.9, with 1D to 1Y maturities. :)"
   ]
  },
  {
   "cell_type": "markdown",
   "metadata": {},
   "source": [
    "Obtain the smiles from the other open notebook."
   ]
  },
  {
   "cell_type": "code",
   "execution_count": null,
   "metadata": {
    "collapsed": true
   },
   "outputs": [],
   "source": []
  }
 ],
 "metadata": {
  "anaconda-cloud": {},
  "kernelspec": {
   "display_name": "Python [default]",
   "language": "python",
   "name": "python3"
  },
  "language_info": {
   "codemirror_mode": {
    "name": "ipython",
    "version": 3
   },
   "file_extension": ".py",
   "mimetype": "text/x-python",
   "name": "python",
   "nbconvert_exporter": "python",
   "pygments_lexer": "ipython3",
   "version": "3.5.2"
  }
 },
 "nbformat": 4,
 "nbformat_minor": 1
}
