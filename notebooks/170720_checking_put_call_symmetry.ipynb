{
 "cells": [
  {
   "cell_type": "markdown",
   "metadata": {
    "nbpresent": {
     "id": "b590a017-9bad-4ff8-ac89-d1d90e1ebf09"
    }
   },
   "source": [
    "rBergomi: variance reduction tests\n",
    "=="
   ]
  },
  {
   "cell_type": "markdown",
   "metadata": {},
   "source": [
    "$$S_t = \\mathcal{E} \\left\\{ \\int_0^t \\sqrt{ V_u } \\ \\mathrm{d} \\ (\\rho W^1_u + \\bar{\\rho} W^2_u) \\right\\}, \\quad V_t = \\xi \\ \\mathcal{E} \\left\\{ \\eta \\sqrt{2\\alpha + 1} \\int_0^t (t - u)^\\alpha \\mathrm{d}W^1_u \\right\\},$$"
   ]
  },
  {
   "cell_type": "markdown",
   "metadata": {},
   "source": [
    "CAREFUL WITH WHERE DATA FILES ARE KEPT FOR THIS, BEST TO CHANGE SURFACE CODE TEMPORARILY.\n",
    "MUST GIVE BIAS AND STANDARD DEVIATION ON CHARTS!"
   ]
  },
  {
   "cell_type": "code",
   "execution_count": 1,
   "metadata": {
    "collapsed": true
   },
   "outputs": [],
   "source": [
    "import os\n",
    "os.chdir('/Users/ryanmccrickerd/desktop/rbergomi/rbergomi')"
   ]
  },
  {
   "cell_type": "code",
   "execution_count": 2,
   "metadata": {},
   "outputs": [],
   "source": [
    "import numpy as np\n",
    "from matplotlib import pyplot as plt\n",
    "import matplotlib.mlab as mlab\n",
    "from rbergomi import rBergomi\n",
    "from surface import Surface\n",
    "from routines import *\n",
    "% matplotlib inline"
   ]
  },
  {
   "cell_type": "code",
   "execution_count": 3,
   "metadata": {},
   "outputs": [
    {
     "data": {
      "text/plain": [
       "<function routines.optimal_run>"
      ]
     },
     "execution_count": 3,
     "metadata": {},
     "output_type": "execute_result"
    }
   ],
   "source": [
    "n1 = 500 # paths\n",
    "N1 = 500 # samples\n",
    "rho = -0.9\n",
    "### SELECT ESTIMATOR ########################\n",
    "# estimator = 'Base'\n",
    "# estimator = 'Put'\n",
    "# estimator = 'Antithetic'\n",
    "# estimator = 'Conditional'\n",
    "# estimator = 'Controlled'\n",
    "estimator = 'Mixed'\n",
    "#############################################\n",
    "method_dict = {'Base':base_run,\n",
    "               'Put':base_put_run,\n",
    "               'Antithetic':base_run,\n",
    "               'Conditional':conditional_mc, # optimise before using!\n",
    "               'Controlled':timer_control,\n",
    "               'Mixed':optimal_run}\n",
    "method = method_dict[estimator]\n",
    "method"
   ]
  },
  {
   "cell_type": "code",
   "execution_count": 4,
   "metadata": {},
   "outputs": [],
   "source": [
    "### SELECT AS SAMPLING ########################\n",
    "AS = False\n",
    "if estimator == 'Antithetic' or estimator == 'Mixed':\n",
    "    AS = True\n",
    "    \n",
    "if estimator == 'Conditional' or estimator == 'Mixed':\n",
    "    n1 = int(2*n1)\n",
    "\n",
    "rbergomi = rBergomi(n = 8, N = n1, T = 0.25, a = -0.43, AS = AS)\n",
    "\n",
    "if estimator == 'Conditional' or estimator == 'Mixed':\n",
    "    n1 = int(n1/2)"
   ]
  },
  {
   "cell_type": "code",
   "execution_count": 5,
   "metadata": {},
   "outputs": [
    {
     "data": {
      "text/html": [
       "<div>\n",
       "<table border=\"1\" class=\"dataframe\">\n",
       "  <thead>\n",
       "    <tr style=\"text-align: right;\">\n",
       "      <th></th>\n",
       "      <th>10P</th>\n",
       "      <th>ATM</th>\n",
       "      <th>10C</th>\n",
       "    </tr>\n",
       "  </thead>\n",
       "  <tbody>\n",
       "    <tr>\n",
       "      <th>3M</th>\n",
       "      <td>0.296052</td>\n",
       "      <td>0.206085</td>\n",
       "      <td>0.157642</td>\n",
       "    </tr>\n",
       "  </tbody>\n",
       "</table>\n",
       "</div>"
      ],
      "text/plain": [
       "         10P       ATM       10C\n",
       "3M  0.296052  0.206085  0.157642"
      ]
     },
     "execution_count": 5,
     "metadata": {},
     "output_type": "execute_result"
    }
   ],
   "source": [
    "### SELECT DATA ##############################\n",
    "\n",
    "data_dict = {'-0.9':'base',\n",
    "             '-0.0':'rho'}\n",
    "data = data_dict[str(rho)]\n",
    "surface = Surface('3m', data, close = False)\n",
    "surface.surface"
   ]
  },
  {
   "cell_type": "code",
   "execution_count": 6,
   "metadata": {
    "collapsed": true
   },
   "outputs": [],
   "source": [
    "### SELECT RHO #############################\n",
    "kwargs = {'xi':0.235**2, 'eta':1.9, 'rho':rho}"
   ]
  },
  {
   "cell_type": "markdown",
   "metadata": {},
   "source": [
    "Select implied vol construction here"
   ]
  },
  {
   "cell_type": "code",
   "execution_count": 7,
   "metadata": {
    "collapsed": true
   },
   "outputs": [],
   "source": [
    "np.random.seed(0)"
   ]
  },
  {
   "cell_type": "code",
   "execution_count": 8,
   "metadata": {},
   "outputs": [
    {
     "name": "stdout",
     "output_type": "stream",
     "text": [
      "10 loops, best of 3: 39.5 ms per loop\n"
     ]
    }
   ],
   "source": [
    "%%timeit\n",
    "IV = method(rbergomi, surface, **kwargs)\n",
    "# Run this a few times so that libraries loaded."
   ]
  },
  {
   "cell_type": "code",
   "execution_count": 9,
   "metadata": {
    "collapsed": true
   },
   "outputs": [],
   "source": [
    "from datetime import datetime\n",
    "trials = 10"
   ]
  },
  {
   "cell_type": "code",
   "execution_count": 12,
   "metadata": {},
   "outputs": [
    {
     "data": {
      "text/plain": [
       "40.656"
      ]
     },
     "execution_count": 12,
     "metadata": {},
     "output_type": "execute_result"
    }
   ],
   "source": [
    "np.random.seed(0)\n",
    "IV = method(rbergomi, surface, **kwargs)\n",
    "t0 = datetime.now()\n",
    "for i in range(trials):\n",
    "    IV = method(rbergomi, surface, **kwargs)\n",
    "t1 = datetime.now()\n",
    "dt = (t1 - t0) / trials\n",
    "runtime = 1000 * (dt.seconds + dt.microseconds/1e6)\n",
    "runtime\n",
    "# runtime = np.round(dt.seconds + dt.microseconds/1e6, decimals = 3)"
   ]
  },
  {
   "cell_type": "markdown",
   "metadata": {},
   "source": [
    "Recall must iterate input file vols to a fixed point. Use 250,000 antithetic paths for this."
   ]
  },
  {
   "cell_type": "code",
   "execution_count": 13,
   "metadata": {
    "collapsed": true
   },
   "outputs": [],
   "source": [
    "# Set to 10000 with 50 buckets for final charts\n",
    "replications = N1"
   ]
  },
  {
   "cell_type": "code",
   "execution_count": 14,
   "metadata": {},
   "outputs": [
    {
     "name": "stdout",
     "output_type": "stream",
     "text": [
      "Beware, the folling calculation will take 0.3 minutes!\n"
     ]
    }
   ],
   "source": [
    "minutes = np.round(N1 * runtime / 1000 / 60, decimals = 1)\n",
    "print('Beware, the folling calculation will take ' + str(minutes) + ' minutes!')"
   ]
  },
  {
   "cell_type": "markdown",
   "metadata": {},
   "source": [
    "This section should take the same amount of time for each. N should be scaled accordingly."
   ]
  },
  {
   "cell_type": "code",
   "execution_count": 15,
   "metadata": {},
   "outputs": [
    {
     "name": "stdout",
     "output_type": "stream",
     "text": [
      "0\n",
      "100\n",
      "200\n",
      "300\n",
      "400\n"
     ]
    }
   ],
   "source": [
    "x = np.arange(replications)\n",
    "y = 100 * np.squeeze(np.array(surface.surface)) # True implied vols\n",
    "IV_observations = np.zeros((replications, 3))\n",
    "np.random.seed(0)\n",
    "for i in range(replications):\n",
    "    IV_observations[i,:] = method(rbergomi, surface, **kwargs)\n",
    "    if i%100 == 0:\n",
    "        print(i)\n",
    "#     if IV_observations[i,0] < 0.01:\n",
    "#         IV_observations[i,0] = y[0]/100.\n",
    "#         i -= 1\n",
    "# k=0\n",
    "# for i in range(3):\n",
    "#     for j in range(replications):\n",
    "#         if IV_observations[j,i] < 0.01:\n",
    "#             IV_observations[j,i] = y[i]/100.\n",
    "#             k+=1\n",
    "# print(k)"
   ]
  },
  {
   "cell_type": "code",
   "execution_count": 16,
   "metadata": {},
   "outputs": [
    {
     "name": "stdout",
     "output_type": "stream",
     "text": [
      "Saved at: /Users/ryanmccrickerd/desktop/histograms/X1_Y1_rho-0.9_n500_N500_Mixed_RM3.01.png\n",
      "Saved at: /Users/ryanmccrickerd/desktop/histograms/X1_Y2_rho-0.9_n500_N500_Mixed_RM3.01.png\n",
      "Saved at: /Users/ryanmccrickerd/desktop/histograms/X1_Y3_rho-0.9_n500_N500_Mixed_RM3.01.png\n",
      "Saved at: /Users/ryanmccrickerd/desktop/histograms/X1_Y4_rho-0.9_n500_N500_Mixed_RM3.01.png\n",
      "Saved at: /Users/ryanmccrickerd/desktop/histograms/X2_Y1_rho-0.9_n500_N500_Mixed_RM3.01.png\n",
      "Saved at: /Users/ryanmccrickerd/desktop/histograms/X2_Y2_rho-0.9_n500_N500_Mixed_RM3.01.png\n",
      "Saved at: /Users/ryanmccrickerd/desktop/histograms/X2_Y3_rho-0.9_n500_N500_Mixed_RM3.01.png\n",
      "Saved at: /Users/ryanmccrickerd/desktop/histograms/X2_Y4_rho-0.9_n500_N500_Mixed_RM3.01.png\n",
      "Saved at: /Users/ryanmccrickerd/desktop/histograms/X4_Y1_rho-0.9_n500_N500_Mixed_RM3.01.png\n",
      "Saved at: /Users/ryanmccrickerd/desktop/histograms/X4_Y2_rho-0.9_n500_N500_Mixed_RM3.01.png\n",
      "Saved at: /Users/ryanmccrickerd/desktop/histograms/X4_Y3_rho-0.9_n500_N500_Mixed_RM3.01.png\n",
      "Saved at: /Users/ryanmccrickerd/desktop/histograms/X4_Y4_rho-0.9_n500_N500_Mixed_RM3.01.png\n"
     ]
    },
    {
     "data": {
      "image/png": "[encoded data removed]",
      "text/plain": [
       "<matplotlib.figure.Figure at 0x119110d30>"
      ]
     },
     "metadata": {},
     "output_type": "display_data"
    }
   ],
   "source": [
    "log_strikes = np.array(surface._log_strike_surface())[0]\n",
    "IV_true = np.array(surface.surface)\n",
    "IV_errors = IV_observations - IV_true\n",
    "IV_errors *= 100\n",
    "IV_mean = np.mean(IV_errors, axis = 0)\n",
    "IV_std = np.std(IV_errors, axis = 0)\n",
    "r = np.round(rho,2)\n",
    "fs = 16\n",
    "# Three subplots, unpack the axes array immediately\n",
    "f, (ax1, ax2, ax3) = plt.subplots(1, 3, sharey = True, sharex = True, dpi=1000000)\n",
    "\n",
    "n, bins, patches = ax1.hist(IV_errors[:,0], 30, normed=100, facecolor = 'blue', alpha=0.25)\n",
    "\n",
    "# add a 'best fit' line\n",
    "norm_fit = mlab.normpdf(bins, IV_mean[0], IV_std[0])\n",
    "ax1.plot(bins, norm_fit, 'r', linewidth = 2)\n",
    "\n",
    "n, bins, patches = ax2.hist(IV_errors[:,1], 30, normed=100, facecolor = 'blue', alpha=0.25)\n",
    "\n",
    "# add a 'best fit' line\n",
    "norm_fit = mlab.normpdf(bins, IV_mean[1], IV_std[1])\n",
    "ax2.plot(bins, norm_fit, 'r', linewidth = 2)\n",
    "\n",
    "n, bins, patches = ax3.hist(IV_errors[:,2], 30, normed=100, facecolor = 'blue', alpha=0.25)\n",
    "\n",
    "# add a 'best fit' line\n",
    "norm_fit = mlab.normpdf(bins, IV_mean[2], IV_std[2])\n",
    "ax3.plot(bins, norm_fit, 'r', linewidth = 2)\n",
    "\n",
    "t = runtime\n",
    "RM = np.sqrt(runtime * np.sum(IV_std**2)/len(IV_std))\n",
    "# Set x and y axes labels\n",
    "# if rho == 0:\n",
    "#     ax1.set_ylabel(r'$\\mathrm{Density}$', fontsize = 16)\n",
    "if estimator == 'Base':\n",
    "    ax2.set_xlabel(r'$\\mathrm{Base\\ error:\\ 100}( \\hat{\\sigma}^n_{BS\\ i} - \\sigma_{BS} ).\\ \\rho = %.1f,\\ n = %.0f,\\ \\tau = %.1f ms,\\ N = %.0f,\\ \\mathrm{\\mathbb{RM}} = %.2f.}$'%(r, n1, t, N1, RM), fontsize = fs)\n",
    "elif estimator == 'Put':\n",
    "    ax2.set_xlabel(r'$\\mathrm{Put\\ error:\\ 100}( \\hat{\\sigma}^n_{BS\\ i} - \\sigma_{BS} ).\\ \\rho = %.1f,\\ n = %.0f,\\ \\tau = %.1f ms,\\ N = %.0f,\\ \\mathrm{\\mathbb{RM}} = %.2f.}$'%(r, n1, t, N1, RM), fontsize = fs)\n",
    "elif estimator == 'Antithetic':\n",
    "    ax2.set_xlabel(r'$\\mathrm{Antithetic\\ error:\\ 100}( \\hat{\\sigma}^n_{BS\\ i} - \\sigma_{BS} ).\\ \\rho = %.1f,\\ n = %.0f,\\ \\tau = %.1f ms,\\ N = %.0f,\\ \\mathrm{\\mathbb{RM}} = %.2f.}$'%(r, n1, t, N1, RM), fontsize = fs)\n",
    "elif estimator == 'Conditional':   \n",
    "    ax2.set_xlabel(r'$\\mathrm{Conditional\\ error:\\ 100}( \\hat{\\sigma}^n_{BS\\ i} - \\sigma_{BS} ).\\ \\rho = %.1f,\\ n = %.0f,\\ \\tau = %.1f ms,\\ N = %.0f,\\ \\mathrm{\\mathbb{RM}} = %.2f.}$'%(r, n1, t, N1, RM), fontsize = fs)\n",
    "elif estimator == 'Controlled':\n",
    "    ax2.set_xlabel(r'$\\mathrm{Controlled\\ error:\\ 100}( \\hat{\\sigma}^n_{BS\\ i} - \\sigma_{BS} ).\\ \\rho = %.1f,\\ n = %.0f,\\ \\tau = %.1f ms,\\ N = %.0f,\\ \\mathrm{\\mathbb{RM}} = %.2f.}$'%(r, n1, t, N1, RM), fontsize = fs)\n",
    "elif estimator == 'Mixed':\n",
    "    ax2.set_xlabel(r'$\\mathrm{Mixed\\ error:\\ 100}( \\hat{\\sigma}^n_{BS\\ i} - \\sigma_{BS} ).\\ \\rho = %.1f,\\ n = %.0f,\\ \\tau = %.1f ms,\\ N = %.0f,\\ \\mathrm{\\mathbb{RM}} = %.2f.}$'%(r, n1, t, N1, RM), fontsize = fs)\n",
    "\n",
    "# else:\n",
    "#     ax1.set_ylabel(r'$\\mathrm{Density}$', fontsize = 16)\n",
    "\n",
    "# Set titles\n",
    "# if rho == -0.9:\n",
    "ax1.set_title(r'$\\mathrm{10\\ Delta \\ Put}$', fontsize = fs)\n",
    "ax2.set_title(r'$\\mathrm{ATM}$', fontsize = fs)\n",
    "ax3.set_title(r'$\\mathrm{10\\ Delta \\ Call}$', fontsize = fs)\n",
    "\n",
    "# these are matplotlib.patch.Patch properties\n",
    "props = dict(boxstyle='round', facecolor='white')\n",
    "\n",
    "b = np.round(IV_mean[0],2)\n",
    "s = np.round(IV_std[0],2)\n",
    "k = np.round(log_strikes[0],2)\n",
    "textstr = '$k=%.2f$\\n$\\mathrm{B}=%.2f$\\n$\\mathrm{S}=%.2f$'%(k, b, s)\n",
    "# textstr = '$n=%.0E$\\n$N=%.0E$\\n$\\\\rho=%.2f$\\n$k=%.2f$\\n$\\mathrm{B}=%.2f$\\n$\\mathrm{S}=%.2f$'%(n1, N1, r, k, b, s)\n",
    "\n",
    "# textstr = 'a'\n",
    "\n",
    "# place a text box in upper left in axes coords\n",
    "ax1.text(0.05, 0.95, textstr, transform=ax1.transAxes, fontsize=13,\n",
    "        va='top', ha='left', bbox=props)\n",
    "\n",
    "b = np.round(IV_mean[1],2)\n",
    "s = np.round(IV_std[1],2)\n",
    "k = np.round(log_strikes[1],2)\n",
    "textstr = '$k=%.2f$\\n$\\mathrm{B}=%.2f$\\n$\\mathrm{S}=%.2f$'%(k, b, s)\n",
    "\n",
    "# place a text box in upper left in axes coords\n",
    "ax2.text(0.05, 0.95, textstr, transform=ax2.transAxes, fontsize=13,\n",
    "        va='top', ha='left', bbox=props)\n",
    "\n",
    "b = np.round(IV_mean[2],2)\n",
    "s = np.round(IV_std[2],2)\n",
    "k = np.round(log_strikes[2],2)\n",
    "textstr = '$k=%.2f$\\n$\\mathrm{B}=%.2f$\\n$\\mathrm{S}=%.2f$'%(k, b, s)\n",
    "\n",
    "# place a text box in upper left in axes coords\n",
    "ax3.text(0.05, 0.95, textstr, transform=ax3.transAxes, fontsize=13,\n",
    "        va='top', ha='left', bbox=props)\n",
    "\n",
    "# Apply grids\n",
    "ax1.grid(True)\n",
    "ax2.grid(True)\n",
    "ax3.grid(True)\n",
    "\n",
    "# Remove meaningless y axis densities\n",
    "# ax1.yaxis.set_visible(False)\n",
    "# ax2.yaxis.set_visible(False)\n",
    "# ax3.yaxis.set_visible(False)\n",
    "\n",
    "# ax2.xaxis.set_ticks(np.linspace(-2,2,5))\n",
    "# ax3.xaxis.set_ticks(np.linspace(-2,2,5))\n",
    "\n",
    "# ax1.set_ylim([0,7])\n",
    "#ax1.set_ylim([0,4])\n",
    "\n",
    "# for tick in ax1.xaxis.get_major_ticks():\n",
    "#     tick.label.set_fontsize(12)\n",
    "# for tick in ax2.xaxis.get_major_ticks():\n",
    "#     tick.label.set_fontsize(12)\n",
    "# for tick in ax3.xaxis.get_major_ticks():\n",
    "#     tick.label.set_fontsize(12)\n",
    "f.set_size_inches(12, 3.5)\n",
    "save_path = '/Users/ryanmccrickerd/desktop/histograms/'\n",
    "\n",
    "for x in [1,2,4]:\n",
    "    for y in [1,2,3,4]:\n",
    "        ax1.set_xlim([-x,x])\n",
    "        ax1.xaxis.set_ticks(np.linspace(-x,x,5))\n",
    "        ax1.set_ylim([0,y])\n",
    "        ax1.yaxis.set_ticks(np.linspace(0,y,y+1))\n",
    "        fig_name = 'X'+str(x) +'_Y'+str(y) +'_rho'+ str(rho) +'_n'+ str(n1) +'_N'+ str(N1) +'_'+ estimator + '_RM'+ str(np.round(RM,2))\n",
    "        plt.gcf().subplots_adjust(bottom=0.16)\n",
    "        fname = save_path + fig_name + '.png'\n",
    "        f.savefig(fname)\n",
    "        print('Saved at:', fname)"
   ]
  },
  {
   "cell_type": "markdown",
   "metadata": {},
   "source": [
    "Need to place Y scale in file names too ! Defined by highest in optimal case. looks like 3."
   ]
  },
  {
   "cell_type": "code",
   "execution_count": null,
   "metadata": {},
   "outputs": [],
   "source": [
    "print('Means =', IV_mean)\n",
    "print('Stds =', IV_std)"
   ]
  },
  {
   "cell_type": "code",
   "execution_count": null,
   "metadata": {
    "collapsed": true
   },
   "outputs": [],
   "source": [
    "import cProfile"
   ]
  },
  {
   "cell_type": "code",
   "execution_count": null,
   "metadata": {},
   "outputs": [],
   "source": [
    "pr = cProfile.Profile()\n",
    "pr.run('method(rbergomi, surface, **kwargs)')"
   ]
  },
  {
   "cell_type": "code",
   "execution_count": 17,
   "metadata": {},
   "outputs": [
    {
     "ename": "NameError",
     "evalue": "name 'pr' is not defined",
     "output_type": "error",
     "traceback": [
      "\u001b[0;31m---------------------------------------------------------------------------\u001b[0m",
      "\u001b[0;31mNameError\u001b[0m                                 Traceback (most recent call last)",
      "\u001b[0;32m<ipython-input-17-2cb30054391d>\u001b[0m in \u001b[0;36m<module>\u001b[0;34m()\u001b[0m\n\u001b[0;32m----> 1\u001b[0;31m \u001b[0mpr\u001b[0m\u001b[0;34m.\u001b[0m\u001b[0mprint_stats\u001b[0m\u001b[0;34m(\u001b[0m\u001b[0msort\u001b[0m\u001b[0;34m=\u001b[0m\u001b[0;34m'cumtime'\u001b[0m\u001b[0;34m)\u001b[0m\u001b[0;34m\u001b[0m\u001b[0m\n\u001b[0m",
      "\u001b[0;31mNameError\u001b[0m: name 'pr' is not defined"
     ]
    }
   ],
   "source": [
    "pr.print_stats(sort='cumtime')"
   ]
  },
  {
   "cell_type": "code",
   "execution_count": 51,
   "metadata": {},
   "outputs": [],
   "source": [
    "from scipy.stats import norm\n",
    "def bs(v, s, k, o):\n",
    "    \"\"\"\n",
    "    Returns the Black call price for given forward, strike and variance.\n",
    "    \"\"\"\n",
    "    v = np.sqrt(v)\n",
    "    d1 = - k/v + v/2\n",
    "    d2 = d1 - v\n",
    "    w = 1\n",
    "    if o == 'p':\n",
    "        w = -1\n",
    "    P = w * s * (norm.cdf(w * d1) - np.exp(k) * norm.cdf(w * d2))\n",
    "    return P"
   ]
  },
  {
   "cell_type": "code",
   "execution_count": 62,
   "metadata": {},
   "outputs": [
    {
     "data": {
      "text/plain": [
       "0.13799319238166172"
      ]
     },
     "execution_count": 62,
     "metadata": {},
     "output_type": "execute_result"
    }
   ],
   "source": [
    "v1 = 0.25\n",
    "s1 = 1.10\n",
    "k1 = 0.20\n",
    "o1 = 'c'\n",
    "a = bs(v1, s1, k1, o1)\n",
    "a"
   ]
  },
  {
   "cell_type": "code",
   "execution_count": 70,
   "metadata": {},
   "outputs": [
    {
     "data": {
      "text/plain": [
       "0.13799319238166172"
      ]
     },
     "execution_count": 70,
     "metadata": {},
     "output_type": "execute_result"
    }
   ],
   "source": [
    "v2 = v1\n",
    "s2 = 1./s1\n",
    "k2 = -k1\n",
    "o2 = 'p'\n",
    "b = np.exp(k1) * bs(v1, s1, -k1, o2)\n",
    "b"
   ]
  },
  {
   "cell_type": "markdown",
   "metadata": {},
   "source": [
    "Careful with the above."
   ]
  },
  {
   "cell_type": "code",
   "execution_count": 78,
   "metadata": {},
   "outputs": [
    {
     "name": "stdout",
     "output_type": "stream",
     "text": [
      "1.05174239098\n",
      "1.05174239098\n"
     ]
    }
   ],
   "source": [
    "v = 0.25\n",
    "s = 1.50\n",
    "k = 0.50\n",
    "print(bs(v, s, k, 'p'))\n",
    "print(np.exp(k) * bs(v, s, -k, 'c'))"
   ]
  }
 ],
 "metadata": {
  "anaconda-cloud": {},
  "kernelspec": {
   "display_name": "Python [default]",
   "language": "python",
   "name": "python3"
  },
  "language_info": {
   "codemirror_mode": {
    "name": "ipython",
    "version": 3
   },
   "file_extension": ".py",
   "mimetype": "text/x-python",
   "name": "python",
   "nbconvert_exporter": "python",
   "pygments_lexer": "ipython3",
   "version": "3.5.2"
  }
 },
 "nbformat": 4,
 "nbformat_minor": 1
}
