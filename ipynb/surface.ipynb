{
 "cells": [
  {
   "cell_type": "markdown",
   "metadata": {},
   "source": [
    "# Surface class demo"
   ]
  },
  {
   "cell_type": "markdown",
   "metadata": {},
   "source": [
    "Must remember that rBergomi class needs a \"generate surface\" method."
   ]
  },
  {
   "cell_type": "markdown",
   "metadata": {},
   "source": [
    "The file structure should be such that this isn't required?"
   ]
  },
  {
   "cell_type": "code",
   "execution_count": 1,
   "metadata": {
    "collapsed": true
   },
   "outputs": [],
   "source": [
    "import os\n",
    "os.chdir('/Users/ryanmccrickerd/desktop/phd/2017-18/extended-rmc/')"
   ]
  },
  {
   "cell_type": "code",
   "execution_count": 2,
   "metadata": {
    "collapsed": true
   },
   "outputs": [],
   "source": [
    "import pandas as pd\n",
    "import numpy as np"
   ]
  },
  {
   "cell_type": "code",
   "execution_count": 3,
   "metadata": {},
   "outputs": [],
   "source": [
    "from rbergomi.surface import Surface"
   ]
  },
  {
   "cell_type": "code",
   "execution_count": 4,
   "metadata": {},
   "outputs": [],
   "source": [
    "ccy, date = 'GBPUSD','2017-08-01'\n",
    "surf = Surface(ccy, date)"
   ]
  },
  {
   "cell_type": "markdown",
   "metadata": {},
   "source": [
    "Attributes"
   ]
  },
  {
   "cell_type": "code",
   "execution_count": 5,
   "metadata": {},
   "outputs": [
    {
     "data": {
      "text/html": [
       "<div>\n",
       "<table border=\"1\" class=\"dataframe\">\n",
       "  <thead>\n",
       "    <tr style=\"text-align: right;\">\n",
       "      <th></th>\n",
       "      <th>10P</th>\n",
       "      <th>25P</th>\n",
       "      <th>ATM</th>\n",
       "      <th>25C</th>\n",
       "      <th>10C</th>\n",
       "    </tr>\n",
       "  </thead>\n",
       "  <tbody>\n",
       "    <tr>\n",
       "      <th>1W</th>\n",
       "      <td>0.085813</td>\n",
       "      <td>0.082063</td>\n",
       "      <td>0.079525</td>\n",
       "      <td>0.080638</td>\n",
       "      <td>0.083688</td>\n",
       "    </tr>\n",
       "    <tr>\n",
       "      <th>1M</th>\n",
       "      <td>0.080863</td>\n",
       "      <td>0.075775</td>\n",
       "      <td>0.072450</td>\n",
       "      <td>0.073625</td>\n",
       "      <td>0.077138</td>\n",
       "    </tr>\n",
       "    <tr>\n",
       "      <th>3M</th>\n",
       "      <td>0.087425</td>\n",
       "      <td>0.079513</td>\n",
       "      <td>0.074150</td>\n",
       "      <td>0.074438</td>\n",
       "      <td>0.078475</td>\n",
       "    </tr>\n",
       "    <tr>\n",
       "      <th>6M</th>\n",
       "      <td>0.098000</td>\n",
       "      <td>0.086963</td>\n",
       "      <td>0.079350</td>\n",
       "      <td>0.078788</td>\n",
       "      <td>0.083500</td>\n",
       "    </tr>\n",
       "    <tr>\n",
       "      <th>1Y</th>\n",
       "      <td>0.109688</td>\n",
       "      <td>0.095550</td>\n",
       "      <td>0.085675</td>\n",
       "      <td>0.084100</td>\n",
       "      <td>0.088913</td>\n",
       "    </tr>\n",
       "  </tbody>\n",
       "</table>\n",
       "</div>"
      ],
      "text/plain": [
       "         10P       25P       ATM       25C       10C\n",
       "1W  0.085813  0.082063  0.079525  0.080638  0.083688\n",
       "1M  0.080863  0.075775  0.072450  0.073625  0.077138\n",
       "3M  0.087425  0.079513  0.074150  0.074438  0.078475\n",
       "6M  0.098000  0.086963  0.079350  0.078788  0.083500\n",
       "1Y  0.109688  0.095550  0.085675  0.084100  0.088913"
      ]
     },
     "execution_count": 5,
     "metadata": {},
     "output_type": "execute_result"
    }
   ],
   "source": [
    "surf.surface\n",
    "# surf.deltas\n",
    "# surf.tenors \n",
    "# surf.maturities\n",
    "# surf.vols"
   ]
  },
  {
   "cell_type": "markdown",
   "metadata": {},
   "source": [
    "Methods"
   ]
  },
  {
   "cell_type": "code",
   "execution_count": 6,
   "metadata": {},
   "outputs": [
    {
     "data": {
      "text/html": [
       "<div>\n",
       "<table border=\"1\" class=\"dataframe\">\n",
       "  <thead>\n",
       "    <tr style=\"text-align: right;\">\n",
       "      <th></th>\n",
       "      <th>10P</th>\n",
       "      <th>25P</th>\n",
       "      <th>ATM</th>\n",
       "      <th>25C</th>\n",
       "      <th>10C</th>\n",
       "    </tr>\n",
       "  </thead>\n",
       "  <tbody>\n",
       "    <tr>\n",
       "      <th>1W</th>\n",
       "      <td>0.1</td>\n",
       "      <td>0.25</td>\n",
       "      <td>0.497800</td>\n",
       "      <td>0.75</td>\n",
       "      <td>0.9</td>\n",
       "    </tr>\n",
       "    <tr>\n",
       "      <th>1M</th>\n",
       "      <td>0.1</td>\n",
       "      <td>0.25</td>\n",
       "      <td>0.495828</td>\n",
       "      <td>0.75</td>\n",
       "      <td>0.9</td>\n",
       "    </tr>\n",
       "    <tr>\n",
       "      <th>3M</th>\n",
       "      <td>0.1</td>\n",
       "      <td>0.25</td>\n",
       "      <td>0.492605</td>\n",
       "      <td>0.75</td>\n",
       "      <td>0.9</td>\n",
       "    </tr>\n",
       "    <tr>\n",
       "      <th>6M</th>\n",
       "      <td>0.1</td>\n",
       "      <td>0.25</td>\n",
       "      <td>0.488809</td>\n",
       "      <td>0.75</td>\n",
       "      <td>0.9</td>\n",
       "    </tr>\n",
       "    <tr>\n",
       "      <th>1Y</th>\n",
       "      <td>0.1</td>\n",
       "      <td>0.25</td>\n",
       "      <td>0.482916</td>\n",
       "      <td>0.75</td>\n",
       "      <td>0.9</td>\n",
       "    </tr>\n",
       "  </tbody>\n",
       "</table>\n",
       "</div>"
      ],
      "text/plain": [
       "    10P   25P       ATM   25C  10C\n",
       "1W  0.1  0.25  0.497800  0.75  0.9\n",
       "1M  0.1  0.25  0.495828  0.75  0.9\n",
       "3M  0.1  0.25  0.492605  0.75  0.9\n",
       "6M  0.1  0.25  0.488809  0.75  0.9\n",
       "1Y  0.1  0.25  0.482916  0.75  0.9"
      ]
     },
     "execution_count": 6,
     "metadata": {},
     "output_type": "execute_result"
    }
   ],
   "source": [
    "surf.put_deltas()\n",
    "# surf.strikes()\n",
    "# surf.logstrikes()\n",
    "# surf.forward_deltas()\n",
    "# surf.variance_splines()\n",
    "# surf.skew()\n",
    "# surf.integrated_variances()\n",
    "# surf.xi()"
   ]
  },
  {
   "cell_type": "markdown",
   "metadata": {},
   "source": [
    "Must give first and second deriv curves, THEN evaluate."
   ]
  }
 ],
 "metadata": {
  "anaconda-cloud": {},
  "kernelspec": {
   "display_name": "Python [default]",
   "language": "python",
   "name": "python3"
  },
  "language_info": {
   "codemirror_mode": {
    "name": "ipython",
    "version": 3
   },
   "file_extension": ".py",
   "mimetype": "text/x-python",
   "name": "python",
   "nbconvert_exporter": "python",
   "pygments_lexer": "ipython3",
   "version": "3.5.2"
  }
 },
 "nbformat": 4,
 "nbformat_minor": 2
}
